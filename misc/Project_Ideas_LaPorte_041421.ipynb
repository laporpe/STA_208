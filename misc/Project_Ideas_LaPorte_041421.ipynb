{
 "cells": [
  {
   "cell_type": "markdown",
   "metadata": {},
   "source": [
    "# Idea 1: An agricultural survey for more than 9,500 African households\n",
    "\n",
    "Potential Question: Predict susceptibility to global warming given other facters (or: predict actual changes in national yield/climate based on these factors)\n",
    "\n",
    "### Advantage:\n",
    "\n",
    "- Survey data realatively easy to work with\n",
    "- Conducted to be relevant to climate change \n",
    "- Data completely un-touched since publication (with regards to machine learning), so would likely be able to publish interesting results. \n",
    "\n",
    "### Disadvantage:\n",
    "\n",
    "- Data collected only over 2 growing seasons (2002/3 and 2003/4) even though published in 2016\n",
    "\n",
    "Link to (publication) [https://www.nature.com/articles/sdata201620]"
   ]
  },
  {
   "cell_type": "markdown",
   "metadata": {},
   "source": [
    "# Idea 2: The Rural Household Multiple Indicator Survey, data from 13,310 farm households in 21 countries\n",
    "\n",
    "Potential Question: predict poverty index based on other factors? \n",
    "\n",
    "### Advantage:\n",
    "\n",
    "- Survey data realatively easy to work with\n",
    "- Fairly comprehensive\n",
    "- Extremely well-cleaned and validated data (thorough experimental design)\n",
    "\n",
    "### Disadvantage:\n",
    "\n",
    "- If interestred in Climate Change, not really set up for that sort of analysis?\n",
    "- Slightly more outside of my domain knowledge-- would need to research what is publishable in this field (not a dealbreaker!)\n",
    "\n",
    "Link to the (publication) [https://www.nature.com/articles/s41597-020-0388-8]\n",
    "Link to (HarvardDataverse) [https://dataverse.harvard.edu/dataset.xhtml?persistentId=doi:10.7910/DVN/9M6EHS] "
   ]
  },
  {
   "cell_type": "markdown",
   "metadata": {},
   "source": [
    "# Idea 3: A collection of European sweet cherry phenology data for assessing climate change\n",
    "\n",
    "Potential Question: can use use phenology data to predict the climate change experienced at that sight over 15 years? Can you use variation in temp between years to predict cherry phenology or vice versa?\n",
    "\n",
    "### Advantage:\n",
    "\n",
    "- 15 years of cherry data!!!\n",
    "- Wouldn't have to mess with genomics \n",
    "- Roughly inside my wheelhouse: I definitely think that we could publish a small manuscript.\n",
    "- connected with a larger database\n",
    "- Could ask a LOT of questions, so room to decide what makes the most sense for us\n",
    "\n",
    "### Disadvantage:\n",
    "\n",
    "- domain-specific knowledge(?) \n",
    "\n",
    "Link to the (publication) [https://www.nature.com/articles/sdata2016108#Tab3]"
   ]
  },
  {
   "cell_type": "markdown",
   "metadata": {},
   "source": [
    "### Miscellaneous Questions\n",
    "\n",
    "https://www.nature.com/articles/s41597-019-0350-9: De novo transcriptome assembly and annotation for gene discovery in avocado, macadamia and mango\n",
    "- Using gene annotaitons for something\n",
    "\n"
   ]
  }
 ],
 "metadata": {
  "kernelspec": {
   "display_name": "Python 3",
   "language": "python",
   "name": "python3"
  },
  "language_info": {
   "codemirror_mode": {
    "name": "ipython",
    "version": 3
   },
   "file_extension": ".py",
   "mimetype": "text/x-python",
   "name": "python",
   "nbconvert_exporter": "python",
   "pygments_lexer": "ipython3",
   "version": "3.8.5"
  }
 },
 "nbformat": 4,
 "nbformat_minor": 4
}
