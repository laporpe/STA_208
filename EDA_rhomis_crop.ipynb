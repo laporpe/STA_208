{
 "cells": [
  {
   "cell_type": "code",
   "execution_count": 1,
   "metadata": {},
   "outputs": [],
   "source": [
    "import pandas as pd\n",
    "import numpy as np"
   ]
  },
  {
   "cell_type": "code",
   "execution_count": 3,
   "metadata": {},
   "outputs": [
    {
     "data": {
      "text/plain": [
       "array([2015, 2016, 2017, 2018])"
      ]
     },
     "execution_count": 3,
     "metadata": {},
     "output_type": "execute_result"
    }
   ],
   "source": [
    "rh_indic = pd.read_csv(\"/Users/anab/Documents/MS_UCDavis/STA208/project/STA_208/data/RHoMIS_Indicators.csv\", engine='python')\n",
    "rh_indic.tail()\n",
    "rh_indic.YEAR.unique()"
   ]
  },
  {
   "cell_type": "code",
   "execution_count": 4,
   "metadata": {},
   "outputs": [],
   "source": [
    "def getNAs(df):\n",
    "\n",
    "    colNames = []\n",
    "    percentNA = []\n",
    "    for i in df.columns:\n",
    "        colNames.append(i)\n",
    "        numNA = df[i].isna().sum()\n",
    "        percent = (numNA/len(df))*100\n",
    "        percentNA.append(percent)\n",
    "        \n",
    "    colNames = pd.DataFrame(colNames)\n",
    "    colNames = colNames.rename(columns={0: \"label\"})\n",
    "    percentNA = pd.DataFrame(percentNA)\n",
    "    percentNA = percentNA.rename(columns={0: \"numNA\"})\n",
    "    d = pd.concat([colNames,percentNA], axis = 1).sort_values(by=['numNA'], ascending = False)\n",
    "\n",
    "        \n",
    "    return percentNA"
   ]
  },
  {
   "cell_type": "code",
   "execution_count": null,
   "metadata": {},
   "outputs": [],
   "source": [
    "getNAs(rh_indic)"
   ]
  },
  {
   "cell_type": "markdown",
   "metadata": {},
   "source": [
    "## crop data"
   ]
  },
  {
   "cell_type": "code",
   "execution_count": 7,
   "metadata": {},
   "outputs": [
    {
     "name": "stderr",
     "output_type": "stream",
     "text": [
      "/opt/anaconda3/lib/python3.7/site-packages/IPython/core/interactiveshell.py:3063: DtypeWarning: Columns (129,131,132,133,134,135,136,137,138,139,140,141,142,143,144,145,146,147,148,149,150,151,152,153,154,155,156,157,158,159,160,161,162,163,164,165,166,167,168,199,200,201,202,203,204,205,206,207,208,215,216,253,254,255,256,257,259,260,261,262,263,264,271,272,285,286,287,288,319,320,321,322,323,324,325,326,327,328,389,390,391,392,393,394,395,396,397,398,399,400,401,402,403,404,405,406,407,408,427,428,429,430,431,432,451,452,453,454,455,481,482,483,484,485,488,501,502,523,524,525,526,527,528,589,590,591,592,593,594,595,596,597,598,599,600,601,602,603,604,605,606,607,608,621,622,623,624,649,650,651,652,653,654,655,656,675,676,677,678,679,680,687,688,707,708,709,710,711,712,719,720,727,728,741,742,743,744,793,794,795,796,797,798,799,800,801,802,803,804,805,806,807,808,827,828,829,830,831,832,863,864,865,866,867,868,869,870,871,872,891,892,893,894,895,896,903,904) have mixed types.Specify dtype option on import or set low_memory=False.\n",
      "  interactivity=interactivity, compiler=compiler, result=result)\n"
     ]
    },
    {
     "data": {
      "text/html": [
       "<div>\n",
       "<style scoped>\n",
       "    .dataframe tbody tr th:only-of-type {\n",
       "        vertical-align: middle;\n",
       "    }\n",
       "\n",
       "    .dataframe tbody tr th {\n",
       "        vertical-align: top;\n",
       "    }\n",
       "\n",
       "    .dataframe thead th {\n",
       "        text-align: right;\n",
       "    }\n",
       "</style>\n",
       "<table border=\"1\" class=\"dataframe\">\n",
       "  <thead>\n",
       "    <tr style=\"text-align: right;\">\n",
       "      <th></th>\n",
       "      <th>ID_PROJ</th>\n",
       "      <th>ID_COUNTRY</th>\n",
       "      <th>YEAR</th>\n",
       "      <th>ITERATION</th>\n",
       "      <th>SURVEY_ID</th>\n",
       "      <th>ID_HH</th>\n",
       "      <th>GPS_LAT</th>\n",
       "      <th>GPS_LON</th>\n",
       "      <th>GPS_ALT</th>\n",
       "      <th>Harvested_beans</th>\n",
       "      <th>...</th>\n",
       "      <th>Intercropped_naranjilla</th>\n",
       "      <th>Intercropped_granadilla</th>\n",
       "      <th>Harvested_frafra potato</th>\n",
       "      <th>Consumed_frafra potato</th>\n",
       "      <th>Sold_frafra potato</th>\n",
       "      <th>Income_frafra potato</th>\n",
       "      <th>Yield_frafra potato</th>\n",
       "      <th>Land_frafra potato</th>\n",
       "      <th>Use_frafra potato</th>\n",
       "      <th>Intercropped_frafra potato</th>\n",
       "    </tr>\n",
       "  </thead>\n",
       "  <tbody>\n",
       "    <tr>\n",
       "      <th>0</th>\n",
       "      <td>CFM</td>\n",
       "      <td>TZ</td>\n",
       "      <td>2015</td>\n",
       "      <td>1</td>\n",
       "      <td>TZ_CFM_2015</td>\n",
       "      <td>TZ_2015_CFM_1_1</td>\n",
       "      <td>NaN</td>\n",
       "      <td>NaN</td>\n",
       "      <td>NaN</td>\n",
       "      <td>72.0</td>\n",
       "      <td>...</td>\n",
       "      <td>NaN</td>\n",
       "      <td>NaN</td>\n",
       "      <td>NaN</td>\n",
       "      <td>NaN</td>\n",
       "      <td>NaN</td>\n",
       "      <td>NaN</td>\n",
       "      <td>NaN</td>\n",
       "      <td>NaN</td>\n",
       "      <td>NaN</td>\n",
       "      <td>NaN</td>\n",
       "    </tr>\n",
       "    <tr>\n",
       "      <th>1</th>\n",
       "      <td>CFM</td>\n",
       "      <td>TZ</td>\n",
       "      <td>2015</td>\n",
       "      <td>1</td>\n",
       "      <td>TZ_CFM_2015</td>\n",
       "      <td>TZ_2015_CFM_2_1</td>\n",
       "      <td>NaN</td>\n",
       "      <td>NaN</td>\n",
       "      <td>NaN</td>\n",
       "      <td>NaN</td>\n",
       "      <td>...</td>\n",
       "      <td>NaN</td>\n",
       "      <td>NaN</td>\n",
       "      <td>NaN</td>\n",
       "      <td>NaN</td>\n",
       "      <td>NaN</td>\n",
       "      <td>NaN</td>\n",
       "      <td>NaN</td>\n",
       "      <td>NaN</td>\n",
       "      <td>NaN</td>\n",
       "      <td>NaN</td>\n",
       "    </tr>\n",
       "    <tr>\n",
       "      <th>2</th>\n",
       "      <td>CFM</td>\n",
       "      <td>TZ</td>\n",
       "      <td>2015</td>\n",
       "      <td>1</td>\n",
       "      <td>TZ_CFM_2015</td>\n",
       "      <td>TZ_2015_CFM_3_1</td>\n",
       "      <td>NaN</td>\n",
       "      <td>NaN</td>\n",
       "      <td>NaN</td>\n",
       "      <td>108.0</td>\n",
       "      <td>...</td>\n",
       "      <td>NaN</td>\n",
       "      <td>NaN</td>\n",
       "      <td>NaN</td>\n",
       "      <td>NaN</td>\n",
       "      <td>NaN</td>\n",
       "      <td>NaN</td>\n",
       "      <td>NaN</td>\n",
       "      <td>NaN</td>\n",
       "      <td>NaN</td>\n",
       "      <td>NaN</td>\n",
       "    </tr>\n",
       "    <tr>\n",
       "      <th>3</th>\n",
       "      <td>CFM</td>\n",
       "      <td>TZ</td>\n",
       "      <td>2015</td>\n",
       "      <td>1</td>\n",
       "      <td>TZ_CFM_2015</td>\n",
       "      <td>TZ_2015_CFM_4_1</td>\n",
       "      <td>NaN</td>\n",
       "      <td>NaN</td>\n",
       "      <td>NaN</td>\n",
       "      <td>144.0</td>\n",
       "      <td>...</td>\n",
       "      <td>NaN</td>\n",
       "      <td>NaN</td>\n",
       "      <td>NaN</td>\n",
       "      <td>NaN</td>\n",
       "      <td>NaN</td>\n",
       "      <td>NaN</td>\n",
       "      <td>NaN</td>\n",
       "      <td>NaN</td>\n",
       "      <td>NaN</td>\n",
       "      <td>NaN</td>\n",
       "    </tr>\n",
       "    <tr>\n",
       "      <th>4</th>\n",
       "      <td>CFM</td>\n",
       "      <td>TZ</td>\n",
       "      <td>2015</td>\n",
       "      <td>1</td>\n",
       "      <td>TZ_CFM_2015</td>\n",
       "      <td>TZ_2015_CFM_5_1</td>\n",
       "      <td>NaN</td>\n",
       "      <td>NaN</td>\n",
       "      <td>NaN</td>\n",
       "      <td>240.0</td>\n",
       "      <td>...</td>\n",
       "      <td>NaN</td>\n",
       "      <td>NaN</td>\n",
       "      <td>NaN</td>\n",
       "      <td>NaN</td>\n",
       "      <td>NaN</td>\n",
       "      <td>NaN</td>\n",
       "      <td>NaN</td>\n",
       "      <td>NaN</td>\n",
       "      <td>NaN</td>\n",
       "      <td>NaN</td>\n",
       "    </tr>\n",
       "  </tbody>\n",
       "</table>\n",
       "<p>5 rows × 905 columns</p>\n",
       "</div>"
      ],
      "text/plain": [
       "  ID_PROJ ID_COUNTRY  YEAR  ITERATION    SURVEY_ID            ID_HH  GPS_LAT  \\\n",
       "0     CFM         TZ  2015          1  TZ_CFM_2015  TZ_2015_CFM_1_1      NaN   \n",
       "1     CFM         TZ  2015          1  TZ_CFM_2015  TZ_2015_CFM_2_1      NaN   \n",
       "2     CFM         TZ  2015          1  TZ_CFM_2015  TZ_2015_CFM_3_1      NaN   \n",
       "3     CFM         TZ  2015          1  TZ_CFM_2015  TZ_2015_CFM_4_1      NaN   \n",
       "4     CFM         TZ  2015          1  TZ_CFM_2015  TZ_2015_CFM_5_1      NaN   \n",
       "\n",
       "   GPS_LON  GPS_ALT  Harvested_beans  ...  Intercropped_naranjilla  \\\n",
       "0      NaN      NaN             72.0  ...                      NaN   \n",
       "1      NaN      NaN              NaN  ...                      NaN   \n",
       "2      NaN      NaN            108.0  ...                      NaN   \n",
       "3      NaN      NaN            144.0  ...                      NaN   \n",
       "4      NaN      NaN            240.0  ...                      NaN   \n",
       "\n",
       "   Intercropped_granadilla  Harvested_frafra potato  Consumed_frafra potato  \\\n",
       "0                      NaN                      NaN                     NaN   \n",
       "1                      NaN                      NaN                     NaN   \n",
       "2                      NaN                      NaN                     NaN   \n",
       "3                      NaN                      NaN                     NaN   \n",
       "4                      NaN                      NaN                     NaN   \n",
       "\n",
       "   Sold_frafra potato  Income_frafra potato  Yield_frafra potato  \\\n",
       "0                 NaN                   NaN                  NaN   \n",
       "1                 NaN                   NaN                  NaN   \n",
       "2                 NaN                   NaN                  NaN   \n",
       "3                 NaN                   NaN                  NaN   \n",
       "4                 NaN                   NaN                  NaN   \n",
       "\n",
       "   Land_frafra potato  Use_frafra potato  Intercropped_frafra potato  \n",
       "0                 NaN                NaN                         NaN  \n",
       "1                 NaN                NaN                         NaN  \n",
       "2                 NaN                NaN                         NaN  \n",
       "3                 NaN                NaN                         NaN  \n",
       "4                 NaN                NaN                         NaN  \n",
       "\n",
       "[5 rows x 905 columns]"
      ]
     },
     "execution_count": 7,
     "metadata": {},
     "output_type": "execute_result"
    }
   ],
   "source": [
    "agg = pd.read_csv(\"/Users/anab/Downloads/crop_details.csv\", )\n",
    "agg.head()"
   ]
  },
  {
   "cell_type": "markdown",
   "metadata": {},
   "source": [
    "## filtering"
   ]
  },
  {
   "cell_type": "code",
   "execution_count": 5,
   "metadata": {},
   "outputs": [],
   "source": [
    "# def filter_for_crops(df, eqn):\n",
    "    \n",
    "#     info = df.filter(regex = eqn, axis = 1)\n",
    "#     names = list(info.columns)\n",
    "    \n",
    "#     return names\n",
    "\n",
    "def filter_for_crops(df, eqn):\n",
    "    '''takes column names and splits them into 2 labels at the _'''\n",
    "    colNames = df.filter(regex = eqn, axis = 1).columns\n",
    "    colNames = pd.Series(colNames)\n",
    "    results = colNames.str.split(\"_\", expand=True)\n",
    "    results = results.rename(columns = {0:\"action\", 1:\"crop\"})\n",
    "    return results"
   ]
  },
  {
   "cell_type": "code",
   "execution_count": 6,
   "metadata": {},
   "outputs": [
    {
     "ename": "NameError",
     "evalue": "name 'agg' is not defined",
     "output_type": "error",
     "traceback": [
      "\u001b[0;31m---------------------------------------------------------------------------\u001b[0m",
      "\u001b[0;31mNameError\u001b[0m                                 Traceback (most recent call last)",
      "\u001b[0;32m<ipython-input-6-b8708aa701aa>\u001b[0m in \u001b[0;36m<module>\u001b[0;34m\u001b[0m\n\u001b[0;32m----> 1\u001b[0;31m \u001b[0mharvest\u001b[0m \u001b[0;34m=\u001b[0m \u001b[0mfilter_for_crops\u001b[0m\u001b[0;34m(\u001b[0m\u001b[0magg\u001b[0m\u001b[0;34m,\u001b[0m\u001b[0;34m\"^Harvested_\"\u001b[0m\u001b[0;34m)\u001b[0m\u001b[0;34m\u001b[0m\u001b[0;34m\u001b[0m\u001b[0m\n\u001b[0m\u001b[1;32m      2\u001b[0m \u001b[0mharvest\u001b[0m\u001b[0;34m\u001b[0m\u001b[0;34m\u001b[0m\u001b[0m\n",
      "\u001b[0;31mNameError\u001b[0m: name 'agg' is not defined"
     ]
    }
   ],
   "source": [
    "harvest = filter_for_crops(agg,\"^Harvested_\")\n",
    "harvest"
   ]
  },
  {
   "cell_type": "code",
   "execution_count": null,
   "metadata": {},
   "outputs": [],
   "source": [
    "sold = filter_for_crops(agg,\"^Sold_\" )\n",
    "sold"
   ]
  },
  {
   "cell_type": "code",
   "execution_count": null,
   "metadata": {},
   "outputs": [],
   "source": [
    "income = filter_for_crops(agg, \"(?i)^income_\")\n",
    "income"
   ]
  },
  {
   "cell_type": "code",
   "execution_count": 8,
   "metadata": {},
   "outputs": [
    {
     "data": {
      "text/html": [
       "<div>\n",
       "<style scoped>\n",
       "    .dataframe tbody tr th:only-of-type {\n",
       "        vertical-align: middle;\n",
       "    }\n",
       "\n",
       "    .dataframe tbody tr th {\n",
       "        vertical-align: top;\n",
       "    }\n",
       "\n",
       "    .dataframe thead th {\n",
       "        text-align: right;\n",
       "    }\n",
       "</style>\n",
       "<table border=\"1\" class=\"dataframe\">\n",
       "  <thead>\n",
       "    <tr style=\"text-align: right;\">\n",
       "      <th></th>\n",
       "      <th>action</th>\n",
       "      <th>crop</th>\n",
       "    </tr>\n",
       "  </thead>\n",
       "  <tbody>\n",
       "    <tr>\n",
       "      <th>0</th>\n",
       "      <td>Yield</td>\n",
       "      <td>beans</td>\n",
       "    </tr>\n",
       "    <tr>\n",
       "      <th>1</th>\n",
       "      <td>Yield</td>\n",
       "      <td>maize</td>\n",
       "    </tr>\n",
       "    <tr>\n",
       "      <th>2</th>\n",
       "      <td>Yield</td>\n",
       "      <td>banana</td>\n",
       "    </tr>\n",
       "    <tr>\n",
       "      <th>3</th>\n",
       "      <td>Yield</td>\n",
       "      <td>cabbage</td>\n",
       "    </tr>\n",
       "    <tr>\n",
       "      <th>4</th>\n",
       "      <td>Yield</td>\n",
       "      <td>tomato</td>\n",
       "    </tr>\n",
       "    <tr>\n",
       "      <th>...</th>\n",
       "      <td>...</td>\n",
       "      <td>...</td>\n",
       "    </tr>\n",
       "    <tr>\n",
       "      <th>107</th>\n",
       "      <td>Yield</td>\n",
       "      <td>alfalfa</td>\n",
       "    </tr>\n",
       "    <tr>\n",
       "      <th>108</th>\n",
       "      <td>Yield</td>\n",
       "      <td>achiote</td>\n",
       "    </tr>\n",
       "    <tr>\n",
       "      <th>109</th>\n",
       "      <td>Yield</td>\n",
       "      <td>naranjilla</td>\n",
       "    </tr>\n",
       "    <tr>\n",
       "      <th>110</th>\n",
       "      <td>Yield</td>\n",
       "      <td>granadilla</td>\n",
       "    </tr>\n",
       "    <tr>\n",
       "      <th>111</th>\n",
       "      <td>Yield</td>\n",
       "      <td>frafra potato</td>\n",
       "    </tr>\n",
       "  </tbody>\n",
       "</table>\n",
       "<p>112 rows × 2 columns</p>\n",
       "</div>"
      ],
      "text/plain": [
       "    action           crop\n",
       "0    Yield          beans\n",
       "1    Yield          maize\n",
       "2    Yield         banana\n",
       "3    Yield        cabbage\n",
       "4    Yield         tomato\n",
       "..     ...            ...\n",
       "107  Yield        alfalfa\n",
       "108  Yield        achiote\n",
       "109  Yield     naranjilla\n",
       "110  Yield     granadilla\n",
       "111  Yield  frafra potato\n",
       "\n",
       "[112 rows x 2 columns]"
      ]
     },
     "execution_count": 8,
     "metadata": {},
     "output_type": "execute_result"
    }
   ],
   "source": [
    "yields = filter_for_crops(agg, \"^Yield_\")\n",
    "yields"
   ]
  },
  {
   "cell_type": "code",
   "execution_count": 9,
   "metadata": {},
   "outputs": [
    {
     "data": {
      "text/plain": [
       "0              beans\n",
       "1              maize\n",
       "2             banana\n",
       "3            cabbage\n",
       "4             tomato\n",
       "           ...      \n",
       "107          alfalfa\n",
       "108          achiote\n",
       "109       naranjilla\n",
       "110       granadilla\n",
       "111    frafra potato\n",
       "Name: crop, Length: 112, dtype: object"
      ]
     },
     "execution_count": 9,
     "metadata": {},
     "output_type": "execute_result"
    }
   ],
   "source": [
    "consumed = filter_for_crops(agg, \"(?i)consumed_\")\n",
    "consumed.crop"
   ]
  },
  {
   "cell_type": "code",
   "execution_count": null,
   "metadata": {},
   "outputs": [],
   "source": [
    "#same crop?\n",
    "data = pd.concat([consumed.crop, yields.crop, income.crop, sold.crop, harvest.crop],axis = 1)\n",
    "data"
   ]
  },
  {
   "cell_type": "code",
   "execution_count": null,
   "metadata": {},
   "outputs": [],
   "source": [
    "a = []\n",
    "for i in range(112):\n",
    "    if data.iloc[i,0] == data.iloc[i,1] == data.iloc[i,2] == data.iloc[i,3] == data.iloc[i,4]:\n",
    "        a.append(\"same\")\n",
    "    else:\n",
    "        a.append(\"diff\")"
   ]
  },
  {
   "cell_type": "code",
   "execution_count": null,
   "metadata": {},
   "outputs": [],
   "source": [
    "a.count(\"same\")"
   ]
  },
  {
   "cell_type": "code",
   "execution_count": 10,
   "metadata": {},
   "outputs": [
    {
     "data": {
      "text/html": [
       "<div>\n",
       "<style scoped>\n",
       "    .dataframe tbody tr th:only-of-type {\n",
       "        vertical-align: middle;\n",
       "    }\n",
       "\n",
       "    .dataframe tbody tr th {\n",
       "        vertical-align: top;\n",
       "    }\n",
       "\n",
       "    .dataframe thead th {\n",
       "        text-align: right;\n",
       "    }\n",
       "</style>\n",
       "<table border=\"1\" class=\"dataframe\">\n",
       "  <thead>\n",
       "    <tr style=\"text-align: right;\">\n",
       "      <th></th>\n",
       "      <th>numNA</th>\n",
       "    </tr>\n",
       "  </thead>\n",
       "  <tbody>\n",
       "    <tr>\n",
       "      <th>0</th>\n",
       "      <td>0.000000</td>\n",
       "    </tr>\n",
       "    <tr>\n",
       "      <th>1</th>\n",
       "      <td>0.000000</td>\n",
       "    </tr>\n",
       "    <tr>\n",
       "      <th>2</th>\n",
       "      <td>0.000000</td>\n",
       "    </tr>\n",
       "    <tr>\n",
       "      <th>3</th>\n",
       "      <td>0.000000</td>\n",
       "    </tr>\n",
       "    <tr>\n",
       "      <th>4</th>\n",
       "      <td>0.000000</td>\n",
       "    </tr>\n",
       "    <tr>\n",
       "      <th>...</th>\n",
       "      <td>...</td>\n",
       "    </tr>\n",
       "    <tr>\n",
       "      <th>900</th>\n",
       "      <td>99.984974</td>\n",
       "    </tr>\n",
       "    <tr>\n",
       "      <th>901</th>\n",
       "      <td>99.969947</td>\n",
       "    </tr>\n",
       "    <tr>\n",
       "      <th>902</th>\n",
       "      <td>99.969947</td>\n",
       "    </tr>\n",
       "    <tr>\n",
       "      <th>903</th>\n",
       "      <td>99.969947</td>\n",
       "    </tr>\n",
       "    <tr>\n",
       "      <th>904</th>\n",
       "      <td>99.969947</td>\n",
       "    </tr>\n",
       "  </tbody>\n",
       "</table>\n",
       "<p>905 rows × 1 columns</p>\n",
       "</div>"
      ],
      "text/plain": [
       "         numNA\n",
       "0     0.000000\n",
       "1     0.000000\n",
       "2     0.000000\n",
       "3     0.000000\n",
       "4     0.000000\n",
       "..         ...\n",
       "900  99.984974\n",
       "901  99.969947\n",
       "902  99.969947\n",
       "903  99.969947\n",
       "904  99.969947\n",
       "\n",
       "[905 rows x 1 columns]"
      ]
     },
     "execution_count": 10,
     "metadata": {},
     "output_type": "execute_result"
    }
   ],
   "source": [
    "getNAs(agg)"
   ]
  },
  {
   "cell_type": "code",
   "execution_count": null,
   "metadata": {},
   "outputs": [],
   "source": []
  },
  {
   "cell_type": "code",
   "execution_count": null,
   "metadata": {},
   "outputs": [],
   "source": []
  }
 ],
 "metadata": {
  "kernelspec": {
   "display_name": "Python 3",
   "language": "python",
   "name": "python3"
  },
  "language_info": {
   "codemirror_mode": {
    "name": "ipython",
    "version": 3
   },
   "file_extension": ".py",
   "mimetype": "text/x-python",
   "name": "python",
   "nbconvert_exporter": "python",
   "pygments_lexer": "ipython3",
   "version": "3.7.6"
  }
 },
 "nbformat": 4,
 "nbformat_minor": 4
}
