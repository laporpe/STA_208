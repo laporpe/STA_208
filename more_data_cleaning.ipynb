{
 "cells": [
  {
   "cell_type": "code",
   "execution_count": 1,
   "metadata": {},
   "outputs": [],
   "source": [
    "import pandas as pd\n",
    "import numpy as np"
   ]
  },
  {
   "cell_type": "code",
   "execution_count": null,
   "metadata": {},
   "outputs": [],
   "source": [
    "rhomis_data = pd.read_csv(\"/Users/anab/Documents/MS_UCDavis/STA208/project/RHoMIS_Full_Data.csv\", engine = \"python\")\n",
    "rh_indic = pd.read_csv(\"/Users/anab/Documents/MS_UCDavis/STA208/project/STA_208/data/RHoMIS_Indicators.csv\", engine='python')\n",
    "crop_data = pd.read_csv(\"/Users/anab/Documents/MS_UCDavis/STA208/project/RHoMIS_Full_Data.csv\", engine = \"python\")"
   ]
  },
  {
   "cell_type": "code",
   "execution_count": null,
   "metadata": {},
   "outputs": [],
   "source": [
    "def getNAs(df):\n",
    "\n",
    "    colNames = []\n",
    "    percentNA = []\n",
    "    for i in df.columns:\n",
    "        colNames.append(i)\n",
    "        numNA = df[i].isna().sum()\n",
    "        percent = (numNA/len(df))*100\n",
    "        percentNA.append(percent)\n",
    "        \n",
    "    colNames = pd.DataFrame(colNames)\n",
    "    colNames = colNames.rename(columns={0: \"label\"})\n",
    "    percentNA = pd.DataFrame(percentNA)\n",
    "    percentNA = percentNA.rename(columns={0: \"numNA\"})\n",
    "    d = pd.concat([colNames,percentNA], axis = 1).sort_values(by=['numNA'], ascending = False)\n",
    "\n",
    "        \n",
    "    return d"
   ]
  },
  {
   "cell_type": "code",
   "execution_count": null,
   "metadata": {},
   "outputs": [],
   "source": [
    "def remove_columns(df, threshold_percent):\n",
    "    '''drop columns by a threshold (percentage of na)'''\n",
    "    data = getNAs(df)\n",
    "    column_names = data[data.numNA >= threshold_percent].label\n",
    "    clean_data = df.drop(column_names, axis = 1)\n",
    "    \n",
    "    return clean_data\n",
    "\n",
    "\n"
   ]
  },
  {
   "cell_type": "code",
   "execution_count": null,
   "metadata": {},
   "outputs": [],
   "source": [
    "#convert all categories to lowercase, there is an issue with factor levels of y, n, N, Y for yes/no \n",
    "def entry_to_lowercase(df):\n",
    "    for i in df.columns:\n",
    "        if (df[i].dtype == \"O\"):\n",
    "            df[i] = semi_clean_crop[i].str.lower()\n",
    "    return df"
   ]
  },
  {
   "cell_type": "code",
   "execution_count": null,
   "metadata": {},
   "outputs": [],
   "source": [
    "### identify which are categorical and which are numeric by looking at the factor levels\n",
    "## create dataframe with variable name, levels, number of categories and data types\n",
    "\n",
    "def id_data_types(df):\n",
    "    names = pd.DataFrame()\n",
    "    category = pd.DataFrame()\n",
    "    data_type = pd.DataFrame()\n",
    "    numUni = pd.DataFrame()\n",
    "\n",
    "    for i in df.columns:\n",
    "        \n",
    "        names = names.append({\"variable\": i},ignore_index = True)\n",
    "        category = category.append({\"category\": list(df[i].unique())}, ignore_index = True)\n",
    "        numUni = numUni.append({\"numUnique\": len(df[i].unique())}, ignore_index = True)\n",
    "        data_type = data_type.append({\"data_type\": df[i].dtype}, ignore_index = True)\n",
    "    \n",
    "    view_data = pd.concat([names, category, numUni,data_type],axis =1)\n",
    "    \n",
    "    return (view_data)"
   ]
  },
  {
   "cell_type": "code",
   "execution_count": null,
   "metadata": {},
   "outputs": [],
   "source": [
    "bigData  = pd.concat([rhomis_data,crop_data,rh_indic ],axis = 1)\n",
    "bigData = bigData.loc[:,~bigData.columns.duplicated()]\n",
    "### replace NaN with na\n",
    "#bigData = bigData.fillna(\"na\")"
   ]
  },
  {
   "cell_type": "code",
   "execution_count": null,
   "metadata": {},
   "outputs": [],
   "source": [
    "### remove these columns\n",
    "bigData = bigData.drop([\"ITERATION\"], axis = 1) ## survey taken only once for all responders\n",
    "bigData =  bigData.drop([\"GPS_LAT\"], axis = 1)\n",
    "bigData = bigData.drop([\"GPS_LON\"], axis = 1)\n",
    "bigData = bigData.drop([\"GPS_ALT\"], axis = 1)"
   ]
  },
  {
   "cell_type": "code",
   "execution_count": null,
   "metadata": {},
   "outputs": [],
   "source": [
    "almost_clean_data = remove_columns(bigData, 50)\n",
    "almost_clean_data.head(3)"
   ]
  },
  {
   "cell_type": "code",
   "execution_count": null,
   "metadata": {},
   "outputs": [],
   "source": [
    "getNAs(crop_data)"
   ]
  },
  {
   "cell_type": "code",
   "execution_count": null,
   "metadata": {},
   "outputs": [],
   "source": [
    "semi_clean_crop = remove_columns(crop_data,50)\n",
    "semi_clean_crop.shape"
   ]
  },
  {
   "cell_type": "code",
   "execution_count": null,
   "metadata": {},
   "outputs": [],
   "source": [
    "semi_clean_cropbigData = semi_clean_crop.drop([\"ITERATION\"], axis = 1) ## survey taken only once for all responders\n",
    "semi_clean_crop =  semi_clean_crop.drop([\"GPS_LAT\"], axis = 1)\n",
    "semi_clean_crop = semi_clean_crop.drop([\"GPS_LON\"], axis = 1)\n",
    "semi_clean_crop = semi_clean_crop.drop([\"GPS_ALT\"], axis = 1)"
   ]
  },
  {
   "cell_type": "code",
   "execution_count": null,
   "metadata": {},
   "outputs": [],
   "source": [
    "categ_crop_data = pd.DataFrame(semi_clean_crop.select_dtypes(include=['object']))\n",
    "categ_crop_data = entry_to_lowercase(categ_crop_data)"
   ]
  },
  {
   "cell_type": "code",
   "execution_count": null,
   "metadata": {},
   "outputs": [],
   "source": [
    "id_data_types(categ_crop_data)"
   ]
  },
  {
   "cell_type": "code",
   "execution_count": null,
   "metadata": {},
   "outputs": [],
   "source": []
  }
 ],
 "metadata": {
  "kernelspec": {
   "display_name": "Python 3",
   "language": "python",
   "name": "python3"
  },
  "language_info": {
   "codemirror_mode": {
    "name": "ipython",
    "version": 3
   },
   "file_extension": ".py",
   "mimetype": "text/x-python",
   "name": "python",
   "nbconvert_exporter": "python",
   "pygments_lexer": "ipython3",
   "version": "3.7.6"
  }
 },
 "nbformat": 4,
 "nbformat_minor": 4
}
