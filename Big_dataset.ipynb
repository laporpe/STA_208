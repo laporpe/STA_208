{
 "cells": [
  {
   "cell_type": "code",
   "execution_count": 1,
   "metadata": {},
   "outputs": [],
   "source": [
    "import pandas as pd"
   ]
  },
  {
   "cell_type": "code",
   "execution_count": 2,
   "metadata": {},
   "outputs": [],
   "source": [
    "full_data = pd.read_csv(\"/Users/anab/Documents/MS_UCDavis/STA208/project/RHoMIS_Full_Data.csv\", engine = \"python\")\n",
    "rh_indic = pd.read_csv(\"/Users/anab/Documents/MS_UCDavis/STA208/project/STA_208/data/RHoMIS_Indicators.csv\", engine='python')\n",
    "crop_data = pd.read_csv(\"/Users/anab/Documents/MS_UCDavis/STA208/project/RHoMIS_Full_Data.csv\", engine = \"python\")\n"
   ]
  },
  {
   "cell_type": "code",
   "execution_count": 3,
   "metadata": {},
   "outputs": [],
   "source": [
    "def getNAs(df):\n",
    "\n",
    "    colNames = []\n",
    "    percentNA = []\n",
    "    for i in df.columns:\n",
    "        colNames.append(i)\n",
    "        numNA = df[i].isna().sum()\n",
    "        percent = (numNA/len(df))*100\n",
    "        percentNA.append(percent)\n",
    "        \n",
    "    colNames = pd.DataFrame(colNames)\n",
    "    colNames = colNames.rename(columns={0: \"label\"})\n",
    "    percentNA = pd.DataFrame(percentNA)\n",
    "    percentNA = percentNA.rename(columns={0: \"numNA\"})\n",
    "    d = pd.concat([colNames,percentNA], axis = 1).sort_values(by=['numNA'], ascending = False)\n",
    "\n",
    "        \n",
    "    return d"
   ]
  },
  {
   "cell_type": "code",
   "execution_count": null,
   "metadata": {},
   "outputs": [],
   "source": [
    "def remove_columns(df, threshold_percent):\n",
    "    '''drop columns by a threshold (percentage of na)'''\n",
    "    data = getNAs(df)\n",
    "    column_names = data[data.numNA >= threshold_percent].label\n",
    "    clean_data = df.drop(column_names, axis = 1)\n",
    "    \n",
    "    return clean_data\n",
    "\n"
   ]
  },
  {
   "cell_type": "code",
   "execution_count": null,
   "metadata": {},
   "outputs": [],
   "source": [
    "bigData  = pd.concat([full_data,crop_data,rh_indic ],axis = 1)\n",
    "bigData = bigData.loc[:,~bigData.columns.duplicated()]"
   ]
  },
  {
   "cell_type": "code",
   "execution_count": null,
   "metadata": {},
   "outputs": [],
   "source": [
    "semi_clean = remove_columns(bigData, 50)\n"
   ]
  },
  {
   "cell_type": "code",
   "execution_count": null,
   "metadata": {},
   "outputs": [],
   "source": []
  },
  {
   "cell_type": "code",
   "execution_count": null,
   "metadata": {},
   "outputs": [],
   "source": []
  }
 ],
 "metadata": {
  "kernelspec": {
   "display_name": "Python 3",
   "language": "python",
   "name": "python3"
  },
  "language_info": {
   "codemirror_mode": {
    "name": "ipython",
    "version": 3
   },
   "file_extension": ".py",
   "mimetype": "text/x-python",
   "name": "python",
   "nbconvert_exporter": "python",
   "pygments_lexer": "ipython3",
   "version": "3.7.6"
  }
 },
 "nbformat": 4,
 "nbformat_minor": 4
}
