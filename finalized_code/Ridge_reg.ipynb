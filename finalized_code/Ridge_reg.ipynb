{
 "cells": [
  {
   "cell_type": "code",
   "execution_count": 200,
   "metadata": {},
   "outputs": [],
   "source": [
    "import numpy as np\n",
    "import pandas as pd\n",
    "from sklearn.linear_model import RidgeCV\n",
    "from sklearn.linear_model import Ridge\n",
    "from sklearn.metrics import mean_squared_error\n",
    "from sklearn.model_selection import train_test_split\n",
    "import seaborn as sns\n",
    "import matplotlib.pyplot as plt"
   ]
  },
  {
   "cell_type": "code",
   "execution_count": 201,
   "metadata": {},
   "outputs": [],
   "source": [
    "from Functions import Cleaning_Functions\n",
    "fun = Cleaning_Functions()"
   ]
  },
  {
   "cell_type": "code",
   "execution_count": 202,
   "metadata": {},
   "outputs": [],
   "source": [
    "#written by Christina\n",
    "def standarize_data(df):\n",
    "    \"\"\"\n",
    "    Input: a dataset\n",
    "    action: returns numeric column values scaled by mean and standard deviation\n",
    "    \"\"\"\n",
    "    numeric_data = df.select_dtypes(include=['float64', 'int64'])\n",
    "    for i in numeric_data.columns:\n",
    "        df[i] = (df[i] - df[i].mean())/df[i].std()\n",
    "    return df"
   ]
  },
  {
   "cell_type": "code",
   "execution_count": 203,
   "metadata": {},
   "outputs": [],
   "source": [
    "def get_dummyXs_y(df, y_var):\n",
    "    \n",
    "    y = df[y_var]\n",
    "    X  = df.drop(y_var, axis = 1)\n",
    "    X_cat = X.select_dtypes(include = [\"category\", \"O\"])\n",
    "    X_num = X.select_dtypes(include=['float64', 'int64'])\n",
    "    \n",
    "    X_cat_dummy = pd.get_dummies(X_cat)\n",
    "    newX = pd.concat([X_num, X_cat_dummy], axis = 1)\n",
    "    \n",
    "    return newX, y"
   ]
  },
  {
   "cell_type": "code",
   "execution_count": 368,
   "metadata": {},
   "outputs": [],
   "source": [
    "clean = pd.read_csv(\"../data/clean.csv\")"
   ]
  },
  {
   "cell_type": "code",
   "execution_count": 369,
   "metadata": {},
   "outputs": [
    {
     "data": {
      "text/html": [
       "<div>\n",
       "<style scoped>\n",
       "    .dataframe tbody tr th:only-of-type {\n",
       "        vertical-align: middle;\n",
       "    }\n",
       "\n",
       "    .dataframe tbody tr th {\n",
       "        vertical-align: top;\n",
       "    }\n",
       "\n",
       "    .dataframe thead th {\n",
       "        text-align: right;\n",
       "    }\n",
       "</style>\n",
       "<table border=\"1\" class=\"dataframe\">\n",
       "  <thead>\n",
       "    <tr style=\"text-align: right;\">\n",
       "      <th></th>\n",
       "      <th>crop_count</th>\n",
       "      <th>crop_name_1</th>\n",
       "      <th>crop_harvest_1</th>\n",
       "      <th>crop_intercrop_1</th>\n",
       "      <th>ID_PROJ</th>\n",
       "      <th>ID_COUNTRY</th>\n",
       "      <th>YEAR</th>\n",
       "      <th>SURVEY_ID</th>\n",
       "      <th>ID_HH</th>\n",
       "      <th>Country</th>\n",
       "      <th>...</th>\n",
       "      <th>value_livestock_production_USD_PPP_pHH_Yr</th>\n",
       "      <th>value_livestock_prod_consumed_USD_PPP_pHH_Yr</th>\n",
       "      <th>Market_Orientation</th>\n",
       "      <th>Livestock_Orientation</th>\n",
       "      <th>Food_Availability_kCal_MAE_day</th>\n",
       "      <th>Food_Self_Sufficiency_kCal_MAE_day</th>\n",
       "      <th>NrofMonthsWildFoodCons</th>\n",
       "      <th>Gender_MaleControl</th>\n",
       "      <th>Gender_FemaleControl</th>\n",
       "      <th>continent</th>\n",
       "    </tr>\n",
       "  </thead>\n",
       "  <tbody>\n",
       "    <tr>\n",
       "      <th>0</th>\n",
       "      <td>NaN</td>\n",
       "      <td>groundnut</td>\n",
       "      <td>NaN</td>\n",
       "      <td>NaN</td>\n",
       "      <td>CFM</td>\n",
       "      <td>TZ</td>\n",
       "      <td>2015</td>\n",
       "      <td>TZ_CFM_2015</td>\n",
       "      <td>TZ_2015_CFM_1_1</td>\n",
       "      <td>Tanzania</td>\n",
       "      <td>...</td>\n",
       "      <td>38.500640</td>\n",
       "      <td>0.000000</td>\n",
       "      <td>1.000000</td>\n",
       "      <td>0.049505</td>\n",
       "      <td>3650.565755</td>\n",
       "      <td>0.000000</td>\n",
       "      <td>0</td>\n",
       "      <td>0.000000</td>\n",
       "      <td>1.000000</td>\n",
       "      <td>africa</td>\n",
       "    </tr>\n",
       "    <tr>\n",
       "      <th>1</th>\n",
       "      <td>NaN</td>\n",
       "      <td>millet</td>\n",
       "      <td>NaN</td>\n",
       "      <td>NaN</td>\n",
       "      <td>CFM</td>\n",
       "      <td>TZ</td>\n",
       "      <td>2015</td>\n",
       "      <td>TZ_CFM_2015</td>\n",
       "      <td>TZ_2015_CFM_2_1</td>\n",
       "      <td>Tanzania</td>\n",
       "      <td>...</td>\n",
       "      <td>0.000000</td>\n",
       "      <td>0.000000</td>\n",
       "      <td>1.000000</td>\n",
       "      <td>0.000000</td>\n",
       "      <td>3632.448997</td>\n",
       "      <td>0.000000</td>\n",
       "      <td>4</td>\n",
       "      <td>0.499999</td>\n",
       "      <td>0.500001</td>\n",
       "      <td>africa</td>\n",
       "    </tr>\n",
       "    <tr>\n",
       "      <th>2</th>\n",
       "      <td>NaN</td>\n",
       "      <td>groundnut</td>\n",
       "      <td>NaN</td>\n",
       "      <td>NaN</td>\n",
       "      <td>CFM</td>\n",
       "      <td>TZ</td>\n",
       "      <td>2015</td>\n",
       "      <td>TZ_CFM_2015</td>\n",
       "      <td>TZ_2015_CFM_3_1</td>\n",
       "      <td>Tanzania</td>\n",
       "      <td>...</td>\n",
       "      <td>128.335467</td>\n",
       "      <td>0.000000</td>\n",
       "      <td>1.000000</td>\n",
       "      <td>0.129870</td>\n",
       "      <td>5314.779021</td>\n",
       "      <td>1750.000000</td>\n",
       "      <td>1</td>\n",
       "      <td>1.000000</td>\n",
       "      <td>0.000000</td>\n",
       "      <td>africa</td>\n",
       "    </tr>\n",
       "    <tr>\n",
       "      <th>3</th>\n",
       "      <td>NaN</td>\n",
       "      <td>cowpea</td>\n",
       "      <td>NaN</td>\n",
       "      <td>NaN</td>\n",
       "      <td>CFM</td>\n",
       "      <td>TZ</td>\n",
       "      <td>2015</td>\n",
       "      <td>TZ_CFM_2015</td>\n",
       "      <td>TZ_2015_CFM_4_1</td>\n",
       "      <td>Tanzania</td>\n",
       "      <td>...</td>\n",
       "      <td>0.000000</td>\n",
       "      <td>0.000000</td>\n",
       "      <td>NaN</td>\n",
       "      <td>NaN</td>\n",
       "      <td>257.234727</td>\n",
       "      <td>257.234727</td>\n",
       "      <td>0</td>\n",
       "      <td>NaN</td>\n",
       "      <td>NaN</td>\n",
       "      <td>africa</td>\n",
       "    </tr>\n",
       "    <tr>\n",
       "      <th>4</th>\n",
       "      <td>NaN</td>\n",
       "      <td>sesame</td>\n",
       "      <td>NaN</td>\n",
       "      <td>NaN</td>\n",
       "      <td>CFM</td>\n",
       "      <td>TZ</td>\n",
       "      <td>2015</td>\n",
       "      <td>TZ_CFM_2015</td>\n",
       "      <td>TZ_2015_CFM_5_1</td>\n",
       "      <td>Tanzania</td>\n",
       "      <td>...</td>\n",
       "      <td>233.994961</td>\n",
       "      <td>23.102694</td>\n",
       "      <td>0.931377</td>\n",
       "      <td>0.695041</td>\n",
       "      <td>925.310354</td>\n",
       "      <td>22.070240</td>\n",
       "      <td>0</td>\n",
       "      <td>1.000000</td>\n",
       "      <td>0.000000</td>\n",
       "      <td>africa</td>\n",
       "    </tr>\n",
       "  </tbody>\n",
       "</table>\n",
       "<p>5 rows × 46 columns</p>\n",
       "</div>"
      ],
      "text/plain": [
       "   crop_count crop_name_1 crop_harvest_1 crop_intercrop_1 ID_PROJ ID_COUNTRY  \\\n",
       "0         NaN   groundnut            NaN              NaN     CFM         TZ   \n",
       "1         NaN      millet            NaN              NaN     CFM         TZ   \n",
       "2         NaN   groundnut            NaN              NaN     CFM         TZ   \n",
       "3         NaN      cowpea            NaN              NaN     CFM         TZ   \n",
       "4         NaN      sesame            NaN              NaN     CFM         TZ   \n",
       "\n",
       "   YEAR    SURVEY_ID            ID_HH   Country  ...  \\\n",
       "0  2015  TZ_CFM_2015  TZ_2015_CFM_1_1  Tanzania  ...   \n",
       "1  2015  TZ_CFM_2015  TZ_2015_CFM_2_1  Tanzania  ...   \n",
       "2  2015  TZ_CFM_2015  TZ_2015_CFM_3_1  Tanzania  ...   \n",
       "3  2015  TZ_CFM_2015  TZ_2015_CFM_4_1  Tanzania  ...   \n",
       "4  2015  TZ_CFM_2015  TZ_2015_CFM_5_1  Tanzania  ...   \n",
       "\n",
       "   value_livestock_production_USD_PPP_pHH_Yr  \\\n",
       "0                                  38.500640   \n",
       "1                                   0.000000   \n",
       "2                                 128.335467   \n",
       "3                                   0.000000   \n",
       "4                                 233.994961   \n",
       "\n",
       "   value_livestock_prod_consumed_USD_PPP_pHH_Yr Market_Orientation  \\\n",
       "0                                      0.000000           1.000000   \n",
       "1                                      0.000000           1.000000   \n",
       "2                                      0.000000           1.000000   \n",
       "3                                      0.000000                NaN   \n",
       "4                                     23.102694           0.931377   \n",
       "\n",
       "  Livestock_Orientation  Food_Availability_kCal_MAE_day  \\\n",
       "0              0.049505                     3650.565755   \n",
       "1              0.000000                     3632.448997   \n",
       "2              0.129870                     5314.779021   \n",
       "3                   NaN                      257.234727   \n",
       "4              0.695041                      925.310354   \n",
       "\n",
       "   Food_Self_Sufficiency_kCal_MAE_day  NrofMonthsWildFoodCons  \\\n",
       "0                            0.000000                       0   \n",
       "1                            0.000000                       4   \n",
       "2                         1750.000000                       1   \n",
       "3                          257.234727                       0   \n",
       "4                           22.070240                       0   \n",
       "\n",
       "   Gender_MaleControl  Gender_FemaleControl  continent  \n",
       "0            0.000000              1.000000     africa  \n",
       "1            0.499999              0.500001     africa  \n",
       "2            1.000000              0.000000     africa  \n",
       "3                 NaN                   NaN     africa  \n",
       "4            1.000000              0.000000     africa  \n",
       "\n",
       "[5 rows x 46 columns]"
      ]
     },
     "execution_count": 369,
     "metadata": {},
     "output_type": "execute_result"
    }
   ],
   "source": [
    "clean.head()"
   ]
  },
  {
   "cell_type": "markdown",
   "metadata": {},
   "source": [
    "## Ridge regre y = market orientation"
   ]
  },
  {
   "cell_type": "code",
   "execution_count": 570,
   "metadata": {},
   "outputs": [],
   "source": [
    "market_data = fun.delete_id_columns(clean) #1\n",
    "market_data, pred_market = fun.drop_response_rows_with_NAs(market_data, \"Market_Orientation\", \"PPI_Likelihood\") #2\n",
    "market_data = fun.replace_NAN_with_na(market_data) #3\n",
    "market_data = fun.entry_to_lowercase(market_data) #4\n",
    "market_data = fun.remove_underscores_spaces(market_data) #5\n",
    "market_data = fun.convert_to_categorical(market_data) #6\n",
    "market_data = fun.impute_data(market_data)"
   ]
  },
  {
   "cell_type": "code",
   "execution_count": 393,
   "metadata": {},
   "outputs": [],
   "source": [
    "market_data.YEAR = market_data.YEAR.astype('category')"
   ]
  },
  {
   "cell_type": "code",
   "execution_count": 394,
   "metadata": {},
   "outputs": [],
   "source": [
    "market_data = standarize_data(market_data)"
   ]
  },
  {
   "cell_type": "code",
   "execution_count": 397,
   "metadata": {},
   "outputs": [],
   "source": [
    "market_data = market_data.drop(\"continent\", axis = 1)"
   ]
  },
  {
   "cell_type": "code",
   "execution_count": 398,
   "metadata": {},
   "outputs": [
    {
     "data": {
      "text/plain": [
       "(9493, 38)"
      ]
     },
     "execution_count": 398,
     "metadata": {},
     "output_type": "execute_result"
    }
   ],
   "source": [
    "market_data.shape"
   ]
  },
  {
   "cell_type": "code",
   "execution_count": 375,
   "metadata": {},
   "outputs": [],
   "source": [
    "### 1. create dummy\n",
    "X_market = get_dummyXs_y(market_data, \"Market_Orientation\")[0]\n",
    "y_market = get_dummyXs_y(market_data, \"Market_Orientation\")[1]"
   ]
  },
  {
   "cell_type": "code",
   "execution_count": 376,
   "metadata": {},
   "outputs": [],
   "source": [
    "X_train_mo, X_test_mo, y_train_mo, y_test_mo = train_test_split(X_market,y_market, test_size = 0.3, random_state = 2021)\n"
   ]
  },
  {
   "cell_type": "code",
   "execution_count": 257,
   "metadata": {},
   "outputs": [
    {
     "data": {
      "text/plain": [
       "456"
      ]
     },
     "execution_count": 257,
     "metadata": {},
     "output_type": "execute_result"
    }
   ],
   "source": [
    "alpha_set = np.arange(150,570,2)\n",
    "ridge_cv=RidgeCV(alphas=alpha_set, store_cv_values = True, fit_intercept = False)\n",
    "model_cv=ridge_cv.fit(X_train,y_train)\n",
    "model_cv.alpha_"
   ]
  },
  {
   "cell_type": "code",
   "execution_count": 258,
   "metadata": {},
   "outputs": [],
   "source": [
    "cv_per_alpha = np.mean(model_cv.cv_values_, axis = 0)"
   ]
  },
  {
   "cell_type": "code",
   "execution_count": 259,
   "metadata": {},
   "outputs": [],
   "source": [
    "cv_df = pd.DataFrame({'alpha': alpha_set, 'MSPE': cv_per_alpha})"
   ]
  },
  {
   "cell_type": "code",
   "execution_count": 260,
   "metadata": {},
   "outputs": [
    {
     "data": {
      "text/plain": [
       "<matplotlib.legend.Legend at 0x7fa79a877d90>"
      ]
     },
     "execution_count": 260,
     "metadata": {},
     "output_type": "execute_result"
    },
    {
     "data": {
      "image/png": "[encoded data removed]",
      "text/plain": [
       "<Figure size 432x288 with 1 Axes>"
      ]
     },
     "metadata": {
      "needs_background": "light"
     },
     "output_type": "display_data"
    }
   ],
   "source": [
    "sns.scatterplot(data = cv_df, x = \"alpha\", y = \"MSPE\").set_title('Figure 3: Optimal Alpha for y=Market Orientation')\n",
    "plt.axvline(x=model_cv.alpha_, c=\"red\", linestyle = \"dashed\", label = r'$\\alpha$ = 456')\n",
    "plt.legend(loc='upper right')\n",
    "#plt.text(458,0.80,'a=456',rotation=90)"
   ]
  },
  {
   "cell_type": "code",
   "execution_count": 261,
   "metadata": {},
   "outputs": [
    {
     "data": {
      "text/plain": [
       "0.7103787262384327"
      ]
     },
     "execution_count": 261,
     "metadata": {},
     "output_type": "execute_result"
    }
   ],
   "source": [
    "#refit model with alpha =3 and get score\n",
    "rir = Ridge(alpha = model_cv.alpha_)\n",
    "rir.fit(X_train,y_train)\n",
    "y_pred_ridge = rir.predict(X_test)\n",
    "MSE_market = mean_squared_error(y_test,y_pred_ridge)\n",
    "MSE_market"
   ]
  },
  {
   "cell_type": "code",
   "execution_count": 262,
   "metadata": {
    "scrolled": true
   },
   "outputs": [
    {
     "data": {
      "text/plain": [
       "array([-1.21975909e-02, -1.50422747e-02, -1.19065942e-02, -1.25773227e-02,\n",
       "        6.37022564e-03, -1.81696354e-01, -2.62713186e-02,  1.42934728e-02,\n",
       "       -4.88146316e-03,  1.88159927e-03, -3.78866993e-02, -4.16752035e-02,\n",
       "       -4.44745395e-02, -8.87113270e-03,  7.87830966e-03, -3.64225894e-03,\n",
       "        1.44365469e-02,  1.33480079e-02,  1.43745001e-02,  1.35441738e-02,\n",
       "       -5.78082214e-02,  7.97317719e-03, -1.01915484e-02, -1.48015163e-02,\n",
       "       -3.25821204e-03, -3.93054048e-03,  3.29778038e-02, -7.12076405e-02,\n",
       "        7.12076405e-02, -8.71031893e-03,  6.58749207e-03,  2.40493313e-03,\n",
       "       -2.57599474e-02, -3.46784992e-02,  5.45415469e-03, -1.95516051e-02,\n",
       "        5.57200576e-02, -4.50310331e-02,  4.21220395e-04,  3.24352358e-03,\n",
       "       -3.39340119e-03, -4.09789310e-02,  0.00000000e+00, -1.67459385e-03,\n",
       "        8.06875149e-03,  1.30399596e-03,  2.47330206e-03,  2.00711116e-02,\n",
       "        7.77077625e-04, -7.69546883e-03, -1.35725839e-03, -2.77698115e-03,\n",
       "        1.38470556e-03,  5.33057084e-04,  1.07272082e-01, -2.86765934e-02,\n",
       "        3.42635924e-04,  1.12949532e-04,  1.49017548e-02,  1.97858843e-03,\n",
       "       -4.08984042e-03,  6.82777664e-02,  5.14235265e-03,  5.61048361e-02,\n",
       "       -1.99449507e-02,  0.00000000e+00,  3.72579163e-03, -1.56601492e-03,\n",
       "        1.44046611e-03,  5.80942106e-04,  5.73183617e-03, -1.56506125e-03,\n",
       "       -2.93975052e-03, -3.50314329e-03,  2.23277683e-04, -4.26060826e-04,\n",
       "       -6.27920461e-03, -4.25947269e-02,  7.20845704e-04, -7.56730967e-02,\n",
       "        0.00000000e+00, -3.03764781e-04,  3.25632385e-02, -7.55377950e-03,\n",
       "        1.39182454e-03,  1.20826305e-03, -1.17647161e-03,  1.12407990e-03,\n",
       "        2.57549626e-03, -1.11061465e-02,  2.23463167e-03,  5.95108787e-03,\n",
       "        1.09671641e-03, -1.17593923e-02, -4.73977739e-03, -7.63903300e-03,\n",
       "       -2.73553193e-02, -3.08226570e-02,  8.05860826e-02, -2.24081063e-02,\n",
       "       -5.45107931e-02, -2.53993078e-02,  7.99101009e-02,  9.02329802e-02,\n",
       "        9.03846204e-02, -2.24452843e-01,  4.38352423e-02,  1.89058006e-01,\n",
       "        1.32931690e-02,  8.00051892e-02,  7.85681045e-02,  7.38415999e-02,\n",
       "        3.70551983e-03, -6.56267810e-02,  3.25909372e-02,  9.28242295e-03,\n",
       "        7.17605424e-03, -1.08279588e-02, -2.48131187e-01, -1.16012379e-01,\n",
       "        5.43597276e-02,  1.45802366e-01, -1.31549038e-02,  5.31015133e-02,\n",
       "       -4.31936644e-01,  6.20541685e-02,  1.30105840e-02,  6.98404911e-02,\n",
       "        0.00000000e+00,  7.26320811e-02,  1.23882585e-03, -8.65796666e-03,\n",
       "        2.99564111e-02, -9.61401933e-04,  2.54814821e-03, -6.13283466e-03,\n",
       "        2.13483854e-03, -2.29856156e-02,  2.89442285e-02, -9.26607113e-02,\n",
       "       -6.05600322e-03,  1.39502252e-02, -3.93018545e-02,  7.10733931e-04,\n",
       "       -3.12658535e-02,  6.04531424e-02,  3.70564974e-03, -5.10773807e-02,\n",
       "        4.28253375e-02, -3.95866428e-03, -3.13080657e-02,  2.62362113e-02,\n",
       "        9.03051872e-03])"
      ]
     },
     "execution_count": 262,
     "metadata": {},
     "output_type": "execute_result"
    }
   ],
   "source": [
    "rir.coef_"
   ]
  },
  {
   "cell_type": "code",
   "execution_count": 263,
   "metadata": {},
   "outputs": [],
   "source": [
    "betas = rir.coef_\n",
    "max5_index = [list(abs(betas)).index(x) for x in np.sort(abs(betas))[::-1][:20]]\n",
    "min5_index = [list(abs(betas)).index(x) for x in np.sort(abs(betas))[:5]]"
   ]
  },
  {
   "cell_type": "code",
   "execution_count": 264,
   "metadata": {},
   "outputs": [
    {
     "data": {
      "text/plain": [
       "array([-0.43193664, -0.24813119, -0.22445284,  0.18905801, -0.18169635,\n",
       "        0.14580237, -0.11601238,  0.10727208, -0.09266071,  0.09038462,\n",
       "        0.09023298,  0.08058608,  0.08000519,  0.0799101 ,  0.0785681 ,\n",
       "       -0.0756731 ,  0.0738416 ,  0.07263208,  0.07120764, -0.07120764])"
      ]
     },
     "execution_count": 264,
     "metadata": {},
     "output_type": "execute_result"
    }
   ],
   "source": [
    "betas[max5_index]"
   ]
  },
  {
   "cell_type": "code",
   "execution_count": 265,
   "metadata": {},
   "outputs": [
    {
     "data": {
      "text/plain": [
       "array([0.        , 0.        , 0.        , 0.        , 0.00011295])"
      ]
     },
     "execution_count": 265,
     "metadata": {},
     "output_type": "execute_result"
    }
   ],
   "source": [
    "betas[min5_index]"
   ]
  },
  {
   "cell_type": "code",
   "execution_count": 266,
   "metadata": {},
   "outputs": [
    {
     "data": {
      "text/plain": [
       "Index(['Country_tanzania', 'Country_kenya', 'YEAR_2017', 'Country_burkinafaso',\n",
       "       'LivestockHoldings', 'Country_mali', 'Country_laopdr',\n",
       "       'crop_name_1_greengram', 'HouseholdType_womansingle', 'YEAR_2016',\n",
       "       'YEAR_2015', 'crop_harvest_1_na', 'Country_cambodia',\n",
       "       'crop_intercrop_1_na', 'Country_costarica', 'crop_name_1_rice',\n",
       "       'Country_drc', 'HouseholdType_couple', 'Gender_FemaleControl',\n",
       "       'Gender_MaleControl'],\n",
       "      dtype='object')"
      ]
     },
     "execution_count": 266,
     "metadata": {},
     "output_type": "execute_result"
    }
   ],
   "source": [
    "X_train.columns[max5_index]"
   ]
  },
  {
   "cell_type": "code",
   "execution_count": 276,
   "metadata": {
    "scrolled": true
   },
   "outputs": [],
   "source": [
    "feature_imp_mo  = pd.DataFrame([X_train.columns[max5_index], betas[max5_index]]).T\n",
    "feature_imp_mo.columns= [\"name\", \"beta\"] "
   ]
  },
  {
   "cell_type": "code",
   "execution_count": 288,
   "metadata": {
    "scrolled": true
   },
   "outputs": [
    {
     "data": {
      "text/html": [
       "<div>\n",
       "<style scoped>\n",
       "    .dataframe tbody tr th:only-of-type {\n",
       "        vertical-align: middle;\n",
       "    }\n",
       "\n",
       "    .dataframe tbody tr th {\n",
       "        vertical-align: top;\n",
       "    }\n",
       "\n",
       "    .dataframe thead th {\n",
       "        text-align: right;\n",
       "    }\n",
       "</style>\n",
       "<table border=\"1\" class=\"dataframe\">\n",
       "  <thead>\n",
       "    <tr style=\"text-align: right;\">\n",
       "      <th></th>\n",
       "      <th>name</th>\n",
       "      <th>beta</th>\n",
       "    </tr>\n",
       "  </thead>\n",
       "  <tbody>\n",
       "    <tr>\n",
       "      <th>0</th>\n",
       "      <td>Country_tanzania</td>\n",
       "      <td>-0.431937</td>\n",
       "    </tr>\n",
       "    <tr>\n",
       "      <th>1</th>\n",
       "      <td>Country_kenya</td>\n",
       "      <td>-0.248131</td>\n",
       "    </tr>\n",
       "    <tr>\n",
       "      <th>2</th>\n",
       "      <td>YEAR_2017</td>\n",
       "      <td>-0.224453</td>\n",
       "    </tr>\n",
       "    <tr>\n",
       "      <th>3</th>\n",
       "      <td>Country_burkinafaso</td>\n",
       "      <td>0.189058</td>\n",
       "    </tr>\n",
       "    <tr>\n",
       "      <th>4</th>\n",
       "      <td>LivestockHoldings</td>\n",
       "      <td>-0.181696</td>\n",
       "    </tr>\n",
       "    <tr>\n",
       "      <th>5</th>\n",
       "      <td>Country_mali</td>\n",
       "      <td>0.145802</td>\n",
       "    </tr>\n",
       "    <tr>\n",
       "      <th>6</th>\n",
       "      <td>Country_laopdr</td>\n",
       "      <td>-0.116012</td>\n",
       "    </tr>\n",
       "    <tr>\n",
       "      <th>7</th>\n",
       "      <td>crop_name_1_greengram</td>\n",
       "      <td>0.107272</td>\n",
       "    </tr>\n",
       "    <tr>\n",
       "      <th>8</th>\n",
       "      <td>HouseholdType_womansingle</td>\n",
       "      <td>-0.0926607</td>\n",
       "    </tr>\n",
       "    <tr>\n",
       "      <th>9</th>\n",
       "      <td>YEAR_2016</td>\n",
       "      <td>0.0903846</td>\n",
       "    </tr>\n",
       "    <tr>\n",
       "      <th>10</th>\n",
       "      <td>YEAR_2015</td>\n",
       "      <td>0.090233</td>\n",
       "    </tr>\n",
       "    <tr>\n",
       "      <th>11</th>\n",
       "      <td>crop_harvest_1_na</td>\n",
       "      <td>0.0805861</td>\n",
       "    </tr>\n",
       "    <tr>\n",
       "      <th>12</th>\n",
       "      <td>Country_cambodia</td>\n",
       "      <td>0.0800052</td>\n",
       "    </tr>\n",
       "    <tr>\n",
       "      <th>13</th>\n",
       "      <td>crop_intercrop_1_na</td>\n",
       "      <td>0.0799101</td>\n",
       "    </tr>\n",
       "    <tr>\n",
       "      <th>14</th>\n",
       "      <td>Country_costarica</td>\n",
       "      <td>0.0785681</td>\n",
       "    </tr>\n",
       "    <tr>\n",
       "      <th>15</th>\n",
       "      <td>crop_name_1_rice</td>\n",
       "      <td>-0.0756731</td>\n",
       "    </tr>\n",
       "    <tr>\n",
       "      <th>16</th>\n",
       "      <td>Country_drc</td>\n",
       "      <td>0.0738416</td>\n",
       "    </tr>\n",
       "    <tr>\n",
       "      <th>17</th>\n",
       "      <td>HouseholdType_couple</td>\n",
       "      <td>0.0726321</td>\n",
       "    </tr>\n",
       "    <tr>\n",
       "      <th>18</th>\n",
       "      <td>Gender_FemaleControl</td>\n",
       "      <td>0.0712076</td>\n",
       "    </tr>\n",
       "    <tr>\n",
       "      <th>19</th>\n",
       "      <td>Gender_MaleControl</td>\n",
       "      <td>-0.0712076</td>\n",
       "    </tr>\n",
       "  </tbody>\n",
       "</table>\n",
       "</div>"
      ],
      "text/plain": [
       "                         name       beta\n",
       "0            Country_tanzania  -0.431937\n",
       "1               Country_kenya  -0.248131\n",
       "2                   YEAR_2017  -0.224453\n",
       "3         Country_burkinafaso   0.189058\n",
       "4           LivestockHoldings  -0.181696\n",
       "5                Country_mali   0.145802\n",
       "6              Country_laopdr  -0.116012\n",
       "7       crop_name_1_greengram   0.107272\n",
       "8   HouseholdType_womansingle -0.0926607\n",
       "9                   YEAR_2016  0.0903846\n",
       "10                  YEAR_2015   0.090233\n",
       "11          crop_harvest_1_na  0.0805861\n",
       "12           Country_cambodia  0.0800052\n",
       "13        crop_intercrop_1_na  0.0799101\n",
       "14          Country_costarica  0.0785681\n",
       "15           crop_name_1_rice -0.0756731\n",
       "16                Country_drc  0.0738416\n",
       "17       HouseholdType_couple  0.0726321\n",
       "18       Gender_FemaleControl  0.0712076\n",
       "19         Gender_MaleControl -0.0712076"
      ]
     },
     "execution_count": 288,
     "metadata": {},
     "output_type": "execute_result"
    }
   ],
   "source": [
    "feature_imp_mo"
   ]
  },
  {
   "cell_type": "markdown",
   "metadata": {},
   "source": [
    "### predict y for market orientation y = Na"
   ]
  },
  {
   "cell_type": "code",
   "execution_count": 642,
   "metadata": {},
   "outputs": [],
   "source": [
    "#pred_market.columns"
   ]
  },
  {
   "cell_type": "code",
   "execution_count": 572,
   "metadata": {},
   "outputs": [],
   "source": [
    "#pred_market = pred_market.drop(\"continent\", axis = 1)"
   ]
  },
  {
   "cell_type": "code",
   "execution_count": 641,
   "metadata": {},
   "outputs": [],
   "source": [
    "\n",
    "# smallData = fun.replace_NAN_with_na(pred_market) #3\n",
    "# smallData = fun.entry_to_lowercase(smallData) #4\n",
    "# smallData = fun.remove_underscores_spaces(smallData) #5\n",
    "# smallData = fun.convert_to_categorical(smallData) #6\n",
    "# smallData = fun.impute_data(smallData)\n",
    "# smallData"
   ]
  },
  {
   "cell_type": "code",
   "execution_count": 643,
   "metadata": {},
   "outputs": [],
   "source": [
    "# smallData.columns"
   ]
  },
  {
   "cell_type": "code",
   "execution_count": 640,
   "metadata": {},
   "outputs": [],
   "source": [
    "#smallData.dtypes"
   ]
  },
  {
   "cell_type": "code",
   "execution_count": 629,
   "metadata": {},
   "outputs": [],
   "source": [
    "# smallData.YEAR = smallData.YEAR.astype('category')\n",
    "# std_data = standarize_data(smallData)\n",
    "\n",
    "# std_data = std_data.reset_index(drop = True)"
   ]
  },
  {
   "cell_type": "code",
   "execution_count": 620,
   "metadata": {},
   "outputs": [],
   "source": [
    "#std_data = std_data.drop(\"Market_Orientation\",axis = 1)\n"
   ]
  },
  {
   "cell_type": "code",
   "execution_count": 644,
   "metadata": {},
   "outputs": [],
   "source": [
    "# isNA = []\n",
    "# sumNA = []\n",
    "# for i in std_data.columns:\n",
    "#     isNA.append(i)\n",
    "#     a = std_data[i].isna().sum()\n",
    "#     sumNA.append(a)\n"
   ]
  },
  {
   "cell_type": "code",
   "execution_count": 645,
   "metadata": {
    "scrolled": true
   },
   "outputs": [],
   "source": [
    "# inf = pd.DataFrame([isNA, sumNA]).T\n",
    "# inf.columns = [\"a\",\"b\"]\n",
    "# inf"
   ]
  },
  {
   "cell_type": "code",
   "execution_count": 634,
   "metadata": {},
   "outputs": [],
   "source": [
    "# #impute\n",
    "# for i in inf[21:33].a:\n",
    "#     std_data[i] = std_data[i].fillna(np.nanmedian(market_data[i]))"
   ]
  },
  {
   "cell_type": "code",
   "execution_count": 646,
   "metadata": {
    "scrolled": true
   },
   "outputs": [],
   "source": [
    "# data_pt = std_data.iloc[[0]]\n",
    "# data_pt"
   ]
  },
  {
   "cell_type": "code",
   "execution_count": null,
   "metadata": {},
   "outputs": [],
   "source": []
  },
  {
   "cell_type": "markdown",
   "metadata": {},
   "source": [
    "# Ridge regression with y=PPI_Likelihood"
   ]
  },
  {
   "cell_type": "code",
   "execution_count": 289,
   "metadata": {},
   "outputs": [
    {
     "data": {
      "text/html": [
       "<div>\n",
       "<style scoped>\n",
       "    .dataframe tbody tr th:only-of-type {\n",
       "        vertical-align: middle;\n",
       "    }\n",
       "\n",
       "    .dataframe tbody tr th {\n",
       "        vertical-align: top;\n",
       "    }\n",
       "\n",
       "    .dataframe thead th {\n",
       "        text-align: right;\n",
       "    }\n",
       "</style>\n",
       "<table border=\"1\" class=\"dataframe\">\n",
       "  <thead>\n",
       "    <tr style=\"text-align: right;\">\n",
       "      <th></th>\n",
       "      <th>crop_count</th>\n",
       "      <th>crop_name_1</th>\n",
       "      <th>crop_harvest_1</th>\n",
       "      <th>crop_intercrop_1</th>\n",
       "      <th>ID_PROJ</th>\n",
       "      <th>ID_COUNTRY</th>\n",
       "      <th>YEAR</th>\n",
       "      <th>SURVEY_ID</th>\n",
       "      <th>ID_HH</th>\n",
       "      <th>Country</th>\n",
       "      <th>...</th>\n",
       "      <th>value_livestock_production_USD_PPP_pHH_Yr</th>\n",
       "      <th>value_livestock_prod_consumed_USD_PPP_pHH_Yr</th>\n",
       "      <th>Market_Orientation</th>\n",
       "      <th>Livestock_Orientation</th>\n",
       "      <th>Food_Availability_kCal_MAE_day</th>\n",
       "      <th>Food_Self_Sufficiency_kCal_MAE_day</th>\n",
       "      <th>NrofMonthsWildFoodCons</th>\n",
       "      <th>Gender_MaleControl</th>\n",
       "      <th>Gender_FemaleControl</th>\n",
       "      <th>continent</th>\n",
       "    </tr>\n",
       "  </thead>\n",
       "  <tbody>\n",
       "    <tr>\n",
       "      <th>0</th>\n",
       "      <td>NaN</td>\n",
       "      <td>groundnut</td>\n",
       "      <td>NaN</td>\n",
       "      <td>NaN</td>\n",
       "      <td>CFM</td>\n",
       "      <td>TZ</td>\n",
       "      <td>2015</td>\n",
       "      <td>TZ_CFM_2015</td>\n",
       "      <td>TZ_2015_CFM_1_1</td>\n",
       "      <td>Tanzania</td>\n",
       "      <td>...</td>\n",
       "      <td>38.500640</td>\n",
       "      <td>0.0</td>\n",
       "      <td>1.0</td>\n",
       "      <td>0.049505</td>\n",
       "      <td>3650.565755</td>\n",
       "      <td>0.000000</td>\n",
       "      <td>0</td>\n",
       "      <td>0.000000</td>\n",
       "      <td>1.000000</td>\n",
       "      <td>africa</td>\n",
       "    </tr>\n",
       "    <tr>\n",
       "      <th>1</th>\n",
       "      <td>NaN</td>\n",
       "      <td>millet</td>\n",
       "      <td>NaN</td>\n",
       "      <td>NaN</td>\n",
       "      <td>CFM</td>\n",
       "      <td>TZ</td>\n",
       "      <td>2015</td>\n",
       "      <td>TZ_CFM_2015</td>\n",
       "      <td>TZ_2015_CFM_2_1</td>\n",
       "      <td>Tanzania</td>\n",
       "      <td>...</td>\n",
       "      <td>0.000000</td>\n",
       "      <td>0.0</td>\n",
       "      <td>1.0</td>\n",
       "      <td>0.000000</td>\n",
       "      <td>3632.448997</td>\n",
       "      <td>0.000000</td>\n",
       "      <td>4</td>\n",
       "      <td>0.499999</td>\n",
       "      <td>0.500001</td>\n",
       "      <td>africa</td>\n",
       "    </tr>\n",
       "    <tr>\n",
       "      <th>2</th>\n",
       "      <td>NaN</td>\n",
       "      <td>groundnut</td>\n",
       "      <td>NaN</td>\n",
       "      <td>NaN</td>\n",
       "      <td>CFM</td>\n",
       "      <td>TZ</td>\n",
       "      <td>2015</td>\n",
       "      <td>TZ_CFM_2015</td>\n",
       "      <td>TZ_2015_CFM_3_1</td>\n",
       "      <td>Tanzania</td>\n",
       "      <td>...</td>\n",
       "      <td>128.335467</td>\n",
       "      <td>0.0</td>\n",
       "      <td>1.0</td>\n",
       "      <td>0.129870</td>\n",
       "      <td>5314.779021</td>\n",
       "      <td>1750.000000</td>\n",
       "      <td>1</td>\n",
       "      <td>1.000000</td>\n",
       "      <td>0.000000</td>\n",
       "      <td>africa</td>\n",
       "    </tr>\n",
       "    <tr>\n",
       "      <th>3</th>\n",
       "      <td>NaN</td>\n",
       "      <td>cowpea</td>\n",
       "      <td>NaN</td>\n",
       "      <td>NaN</td>\n",
       "      <td>CFM</td>\n",
       "      <td>TZ</td>\n",
       "      <td>2015</td>\n",
       "      <td>TZ_CFM_2015</td>\n",
       "      <td>TZ_2015_CFM_4_1</td>\n",
       "      <td>Tanzania</td>\n",
       "      <td>...</td>\n",
       "      <td>0.000000</td>\n",
       "      <td>0.0</td>\n",
       "      <td>NaN</td>\n",
       "      <td>NaN</td>\n",
       "      <td>257.234727</td>\n",
       "      <td>257.234727</td>\n",
       "      <td>0</td>\n",
       "      <td>NaN</td>\n",
       "      <td>NaN</td>\n",
       "      <td>africa</td>\n",
       "    </tr>\n",
       "  </tbody>\n",
       "</table>\n",
       "<p>4 rows × 46 columns</p>\n",
       "</div>"
      ],
      "text/plain": [
       "   crop_count crop_name_1 crop_harvest_1 crop_intercrop_1 ID_PROJ ID_COUNTRY  \\\n",
       "0         NaN   groundnut            NaN              NaN     CFM         TZ   \n",
       "1         NaN      millet            NaN              NaN     CFM         TZ   \n",
       "2         NaN   groundnut            NaN              NaN     CFM         TZ   \n",
       "3         NaN      cowpea            NaN              NaN     CFM         TZ   \n",
       "\n",
       "   YEAR    SURVEY_ID            ID_HH   Country  ...  \\\n",
       "0  2015  TZ_CFM_2015  TZ_2015_CFM_1_1  Tanzania  ...   \n",
       "1  2015  TZ_CFM_2015  TZ_2015_CFM_2_1  Tanzania  ...   \n",
       "2  2015  TZ_CFM_2015  TZ_2015_CFM_3_1  Tanzania  ...   \n",
       "3  2015  TZ_CFM_2015  TZ_2015_CFM_4_1  Tanzania  ...   \n",
       "\n",
       "   value_livestock_production_USD_PPP_pHH_Yr  \\\n",
       "0                                  38.500640   \n",
       "1                                   0.000000   \n",
       "2                                 128.335467   \n",
       "3                                   0.000000   \n",
       "\n",
       "   value_livestock_prod_consumed_USD_PPP_pHH_Yr Market_Orientation  \\\n",
       "0                                           0.0                1.0   \n",
       "1                                           0.0                1.0   \n",
       "2                                           0.0                1.0   \n",
       "3                                           0.0                NaN   \n",
       "\n",
       "  Livestock_Orientation  Food_Availability_kCal_MAE_day  \\\n",
       "0              0.049505                     3650.565755   \n",
       "1              0.000000                     3632.448997   \n",
       "2              0.129870                     5314.779021   \n",
       "3                   NaN                      257.234727   \n",
       "\n",
       "   Food_Self_Sufficiency_kCal_MAE_day  NrofMonthsWildFoodCons  \\\n",
       "0                            0.000000                       0   \n",
       "1                            0.000000                       4   \n",
       "2                         1750.000000                       1   \n",
       "3                          257.234727                       0   \n",
       "\n",
       "   Gender_MaleControl  Gender_FemaleControl  continent  \n",
       "0            0.000000              1.000000     africa  \n",
       "1            0.499999              0.500001     africa  \n",
       "2            1.000000              0.000000     africa  \n",
       "3                 NaN                   NaN     africa  \n",
       "\n",
       "[4 rows x 46 columns]"
      ]
     },
     "execution_count": 289,
     "metadata": {},
     "output_type": "execute_result"
    }
   ],
   "source": [
    "clean.head(4)"
   ]
  },
  {
   "cell_type": "code",
   "execution_count": 290,
   "metadata": {},
   "outputs": [],
   "source": [
    "ppi_data = fun.delete_id_columns(clean) #1\n",
    "ppi_data, pred_market = fun.drop_response_rows_with_NAs(ppi_data,\"PPI_Likelihood\" ,\"Market_Orientation\") #2\n",
    "ppi_data = fun.replace_NAN_with_na(ppi_data) #3\n",
    "ppi_data = fun.entry_to_lowercase(ppi_data) #4\n",
    "ppi_data = fun.remove_underscores_spaces(ppi_data) #5\n",
    "ppi_data = fun.convert_to_categorical(ppi_data) #6\n",
    "ppi_data = fun.impute_data(ppi_data)#7"
   ]
  },
  {
   "cell_type": "code",
   "execution_count": 291,
   "metadata": {},
   "outputs": [
    {
     "data": {
      "text/html": [
       "<div>\n",
       "<style scoped>\n",
       "    .dataframe tbody tr th:only-of-type {\n",
       "        vertical-align: middle;\n",
       "    }\n",
       "\n",
       "    .dataframe tbody tr th {\n",
       "        vertical-align: top;\n",
       "    }\n",
       "\n",
       "    .dataframe thead th {\n",
       "        text-align: right;\n",
       "    }\n",
       "</style>\n",
       "<table border=\"1\" class=\"dataframe\">\n",
       "  <thead>\n",
       "    <tr style=\"text-align: right;\">\n",
       "      <th></th>\n",
       "      <th>crop_count</th>\n",
       "      <th>crop_name_1</th>\n",
       "      <th>crop_harvest_1</th>\n",
       "      <th>crop_intercrop_1</th>\n",
       "      <th>YEAR</th>\n",
       "      <th>Country</th>\n",
       "      <th>HHsizemembers</th>\n",
       "      <th>HHsizeMAE</th>\n",
       "      <th>HouseholdType</th>\n",
       "      <th>Head_EducationLevel</th>\n",
       "      <th>...</th>\n",
       "      <th>value_crop_consumed_USD_PPP_pHH_Yr</th>\n",
       "      <th>livestock_prodsales_USD_PPP_pHH_Yr</th>\n",
       "      <th>value_livestock_production_USD_PPP_pHH_Yr</th>\n",
       "      <th>value_livestock_prod_consumed_USD_PPP_pHH_Yr</th>\n",
       "      <th>Food_Availability_kCal_MAE_day</th>\n",
       "      <th>Food_Self_Sufficiency_kCal_MAE_day</th>\n",
       "      <th>NrofMonthsWildFoodCons</th>\n",
       "      <th>Gender_MaleControl</th>\n",
       "      <th>Gender_FemaleControl</th>\n",
       "      <th>continent</th>\n",
       "    </tr>\n",
       "  </thead>\n",
       "  <tbody>\n",
       "    <tr>\n",
       "      <th>0</th>\n",
       "      <td>2.0</td>\n",
       "      <td>groundnut</td>\n",
       "      <td>na</td>\n",
       "      <td>na</td>\n",
       "      <td>2015</td>\n",
       "      <td>tanzania</td>\n",
       "      <td>4</td>\n",
       "      <td>3.32</td>\n",
       "      <td>single</td>\n",
       "      <td>primary</td>\n",
       "      <td>...</td>\n",
       "      <td>0.0</td>\n",
       "      <td>38.500640</td>\n",
       "      <td>38.500640</td>\n",
       "      <td>0.0</td>\n",
       "      <td>3650.565755</td>\n",
       "      <td>0.0</td>\n",
       "      <td>0</td>\n",
       "      <td>0.000000</td>\n",
       "      <td>1.000000</td>\n",
       "      <td>africa</td>\n",
       "    </tr>\n",
       "    <tr>\n",
       "      <th>1</th>\n",
       "      <td>2.0</td>\n",
       "      <td>millet</td>\n",
       "      <td>na</td>\n",
       "      <td>na</td>\n",
       "      <td>2015</td>\n",
       "      <td>tanzania</td>\n",
       "      <td>10</td>\n",
       "      <td>5.85</td>\n",
       "      <td>together</td>\n",
       "      <td>primary</td>\n",
       "      <td>...</td>\n",
       "      <td>0.0</td>\n",
       "      <td>0.000000</td>\n",
       "      <td>0.000000</td>\n",
       "      <td>0.0</td>\n",
       "      <td>3632.448997</td>\n",
       "      <td>0.0</td>\n",
       "      <td>4</td>\n",
       "      <td>0.499999</td>\n",
       "      <td>0.500001</td>\n",
       "      <td>africa</td>\n",
       "    </tr>\n",
       "    <tr>\n",
       "      <th>2</th>\n",
       "      <td>2.0</td>\n",
       "      <td>groundnut</td>\n",
       "      <td>na</td>\n",
       "      <td>na</td>\n",
       "      <td>2015</td>\n",
       "      <td>tanzania</td>\n",
       "      <td>5</td>\n",
       "      <td>4.32</td>\n",
       "      <td>together</td>\n",
       "      <td>illiterate</td>\n",
       "      <td>...</td>\n",
       "      <td>0.0</td>\n",
       "      <td>128.335467</td>\n",
       "      <td>128.335467</td>\n",
       "      <td>0.0</td>\n",
       "      <td>5314.779021</td>\n",
       "      <td>1750.0</td>\n",
       "      <td>1</td>\n",
       "      <td>1.000000</td>\n",
       "      <td>0.000000</td>\n",
       "      <td>africa</td>\n",
       "    </tr>\n",
       "  </tbody>\n",
       "</table>\n",
       "<p>3 rows × 39 columns</p>\n",
       "</div>"
      ],
      "text/plain": [
       "   crop_count crop_name_1 crop_harvest_1 crop_intercrop_1  YEAR   Country  \\\n",
       "0         2.0   groundnut             na               na  2015  tanzania   \n",
       "1         2.0      millet             na               na  2015  tanzania   \n",
       "2         2.0   groundnut             na               na  2015  tanzania   \n",
       "\n",
       "   HHsizemembers  HHsizeMAE HouseholdType Head_EducationLevel  ...  \\\n",
       "0              4       3.32        single             primary  ...   \n",
       "1             10       5.85      together             primary  ...   \n",
       "2              5       4.32      together          illiterate  ...   \n",
       "\n",
       "   value_crop_consumed_USD_PPP_pHH_Yr  livestock_prodsales_USD_PPP_pHH_Yr  \\\n",
       "0                                 0.0                           38.500640   \n",
       "1                                 0.0                            0.000000   \n",
       "2                                 0.0                          128.335467   \n",
       "\n",
       "   value_livestock_production_USD_PPP_pHH_Yr  \\\n",
       "0                                  38.500640   \n",
       "1                                   0.000000   \n",
       "2                                 128.335467   \n",
       "\n",
       "   value_livestock_prod_consumed_USD_PPP_pHH_Yr  \\\n",
       "0                                           0.0   \n",
       "1                                           0.0   \n",
       "2                                           0.0   \n",
       "\n",
       "   Food_Availability_kCal_MAE_day Food_Self_Sufficiency_kCal_MAE_day  \\\n",
       "0                     3650.565755                                0.0   \n",
       "1                     3632.448997                                0.0   \n",
       "2                     5314.779021                             1750.0   \n",
       "\n",
       "   NrofMonthsWildFoodCons  Gender_MaleControl  Gender_FemaleControl  continent  \n",
       "0                       0            0.000000              1.000000     africa  \n",
       "1                       4            0.499999              0.500001     africa  \n",
       "2                       1            1.000000              0.000000     africa  \n",
       "\n",
       "[3 rows x 39 columns]"
      ]
     },
     "execution_count": 291,
     "metadata": {},
     "output_type": "execute_result"
    }
   ],
   "source": [
    "ppi_data.head(3)"
   ]
  },
  {
   "cell_type": "code",
   "execution_count": 292,
   "metadata": {},
   "outputs": [],
   "source": [
    "ppi_data = ppi_data.drop(\"Country\", axis = 1)\n",
    "ppi_data.YEAR = ppi_data.YEAR.astype('category')\n",
    "ppi_data = standarize_data(ppi_data)"
   ]
  },
  {
   "cell_type": "code",
   "execution_count": 314,
   "metadata": {},
   "outputs": [
    {
     "data": {
      "text/html": [
       "<div>\n",
       "<style scoped>\n",
       "    .dataframe tbody tr th:only-of-type {\n",
       "        vertical-align: middle;\n",
       "    }\n",
       "\n",
       "    .dataframe tbody tr th {\n",
       "        vertical-align: top;\n",
       "    }\n",
       "\n",
       "    .dataframe thead th {\n",
       "        text-align: right;\n",
       "    }\n",
       "</style>\n",
       "<table border=\"1\" class=\"dataframe\">\n",
       "  <thead>\n",
       "    <tr style=\"text-align: right;\">\n",
       "      <th></th>\n",
       "      <th>crop_count</th>\n",
       "      <th>crop_name_1</th>\n",
       "      <th>crop_harvest_1</th>\n",
       "      <th>crop_intercrop_1</th>\n",
       "      <th>YEAR</th>\n",
       "      <th>HHsizemembers</th>\n",
       "      <th>HHsizeMAE</th>\n",
       "      <th>HouseholdType</th>\n",
       "      <th>Head_EducationLevel</th>\n",
       "      <th>LandOwned</th>\n",
       "      <th>...</th>\n",
       "      <th>value_crop_consumed_USD_PPP_pHH_Yr</th>\n",
       "      <th>livestock_prodsales_USD_PPP_pHH_Yr</th>\n",
       "      <th>value_livestock_production_USD_PPP_pHH_Yr</th>\n",
       "      <th>value_livestock_prod_consumed_USD_PPP_pHH_Yr</th>\n",
       "      <th>Food_Availability_kCal_MAE_day</th>\n",
       "      <th>Food_Self_Sufficiency_kCal_MAE_day</th>\n",
       "      <th>NrofMonthsWildFoodCons</th>\n",
       "      <th>Gender_MaleControl</th>\n",
       "      <th>Gender_FemaleControl</th>\n",
       "      <th>continent</th>\n",
       "    </tr>\n",
       "  </thead>\n",
       "  <tbody>\n",
       "    <tr>\n",
       "      <th>0</th>\n",
       "      <td>-0.244425</td>\n",
       "      <td>groundnut</td>\n",
       "      <td>na</td>\n",
       "      <td>na</td>\n",
       "      <td>2015</td>\n",
       "      <td>-0.503310</td>\n",
       "      <td>-0.462416</td>\n",
       "      <td>single</td>\n",
       "      <td>primary</td>\n",
       "      <td>-0.055997</td>\n",
       "      <td>...</td>\n",
       "      <td>-0.029505</td>\n",
       "      <td>-0.019880</td>\n",
       "      <td>-0.019415</td>\n",
       "      <td>-0.012311</td>\n",
       "      <td>-0.017661</td>\n",
       "      <td>-0.036510</td>\n",
       "      <td>-0.563701</td>\n",
       "      <td>-2.620626</td>\n",
       "      <td>2.620626</td>\n",
       "      <td>africa</td>\n",
       "    </tr>\n",
       "    <tr>\n",
       "      <th>1</th>\n",
       "      <td>-0.244425</td>\n",
       "      <td>millet</td>\n",
       "      <td>na</td>\n",
       "      <td>na</td>\n",
       "      <td>2015</td>\n",
       "      <td>0.241895</td>\n",
       "      <td>-0.057205</td>\n",
       "      <td>together</td>\n",
       "      <td>primary</td>\n",
       "      <td>-0.055997</td>\n",
       "      <td>...</td>\n",
       "      <td>-0.029505</td>\n",
       "      <td>-0.020955</td>\n",
       "      <td>-0.019858</td>\n",
       "      <td>-0.012311</td>\n",
       "      <td>-0.017662</td>\n",
       "      <td>-0.036510</td>\n",
       "      <td>0.962623</td>\n",
       "      <td>-0.995541</td>\n",
       "      <td>0.995541</td>\n",
       "      <td>africa</td>\n",
       "    </tr>\n",
       "    <tr>\n",
       "      <th>2</th>\n",
       "      <td>-0.244425</td>\n",
       "      <td>groundnut</td>\n",
       "      <td>na</td>\n",
       "      <td>na</td>\n",
       "      <td>2015</td>\n",
       "      <td>-0.379110</td>\n",
       "      <td>-0.302253</td>\n",
       "      <td>together</td>\n",
       "      <td>illiterate</td>\n",
       "      <td>-0.055997</td>\n",
       "      <td>...</td>\n",
       "      <td>-0.029505</td>\n",
       "      <td>-0.017373</td>\n",
       "      <td>-0.018381</td>\n",
       "      <td>-0.012311</td>\n",
       "      <td>-0.017544</td>\n",
       "      <td>-0.026575</td>\n",
       "      <td>-0.182120</td>\n",
       "      <td>0.629550</td>\n",
       "      <td>-0.629550</td>\n",
       "      <td>africa</td>\n",
       "    </tr>\n",
       "    <tr>\n",
       "      <th>3</th>\n",
       "      <td>-0.244425</td>\n",
       "      <td>cowpea</td>\n",
       "      <td>na</td>\n",
       "      <td>na</td>\n",
       "      <td>2015</td>\n",
       "      <td>0.366095</td>\n",
       "      <td>0.500161</td>\n",
       "      <td>together</td>\n",
       "      <td>primary</td>\n",
       "      <td>-0.055997</td>\n",
       "      <td>...</td>\n",
       "      <td>-0.029505</td>\n",
       "      <td>-0.020955</td>\n",
       "      <td>-0.019858</td>\n",
       "      <td>-0.012311</td>\n",
       "      <td>-0.017899</td>\n",
       "      <td>-0.035050</td>\n",
       "      <td>-0.563701</td>\n",
       "      <td>0.629550</td>\n",
       "      <td>-0.629550</td>\n",
       "      <td>africa</td>\n",
       "    </tr>\n",
       "    <tr>\n",
       "      <th>4</th>\n",
       "      <td>-0.244425</td>\n",
       "      <td>sesame</td>\n",
       "      <td>na</td>\n",
       "      <td>na</td>\n",
       "      <td>2015</td>\n",
       "      <td>-0.254909</td>\n",
       "      <td>-0.127676</td>\n",
       "      <td>together</td>\n",
       "      <td>secondary</td>\n",
       "      <td>-0.055997</td>\n",
       "      <td>...</td>\n",
       "      <td>-0.029505</td>\n",
       "      <td>-0.015069</td>\n",
       "      <td>-0.017165</td>\n",
       "      <td>-0.012019</td>\n",
       "      <td>-0.017852</td>\n",
       "      <td>-0.036385</td>\n",
       "      <td>-0.563701</td>\n",
       "      <td>0.629550</td>\n",
       "      <td>-0.629550</td>\n",
       "      <td>africa</td>\n",
       "    </tr>\n",
       "  </tbody>\n",
       "</table>\n",
       "<p>5 rows × 38 columns</p>\n",
       "</div>"
      ],
      "text/plain": [
       "   crop_count crop_name_1 crop_harvest_1 crop_intercrop_1  YEAR  \\\n",
       "0   -0.244425   groundnut             na               na  2015   \n",
       "1   -0.244425      millet             na               na  2015   \n",
       "2   -0.244425   groundnut             na               na  2015   \n",
       "3   -0.244425      cowpea             na               na  2015   \n",
       "4   -0.244425      sesame             na               na  2015   \n",
       "\n",
       "   HHsizemembers  HHsizeMAE HouseholdType Head_EducationLevel  LandOwned  ...  \\\n",
       "0      -0.503310  -0.462416        single             primary  -0.055997  ...   \n",
       "1       0.241895  -0.057205      together             primary  -0.055997  ...   \n",
       "2      -0.379110  -0.302253      together          illiterate  -0.055997  ...   \n",
       "3       0.366095   0.500161      together             primary  -0.055997  ...   \n",
       "4      -0.254909  -0.127676      together           secondary  -0.055997  ...   \n",
       "\n",
       "   value_crop_consumed_USD_PPP_pHH_Yr  livestock_prodsales_USD_PPP_pHH_Yr  \\\n",
       "0                           -0.029505                           -0.019880   \n",
       "1                           -0.029505                           -0.020955   \n",
       "2                           -0.029505                           -0.017373   \n",
       "3                           -0.029505                           -0.020955   \n",
       "4                           -0.029505                           -0.015069   \n",
       "\n",
       "   value_livestock_production_USD_PPP_pHH_Yr  \\\n",
       "0                                  -0.019415   \n",
       "1                                  -0.019858   \n",
       "2                                  -0.018381   \n",
       "3                                  -0.019858   \n",
       "4                                  -0.017165   \n",
       "\n",
       "   value_livestock_prod_consumed_USD_PPP_pHH_Yr  \\\n",
       "0                                     -0.012311   \n",
       "1                                     -0.012311   \n",
       "2                                     -0.012311   \n",
       "3                                     -0.012311   \n",
       "4                                     -0.012019   \n",
       "\n",
       "  Food_Availability_kCal_MAE_day  Food_Self_Sufficiency_kCal_MAE_day  \\\n",
       "0                      -0.017661                           -0.036510   \n",
       "1                      -0.017662                           -0.036510   \n",
       "2                      -0.017544                           -0.026575   \n",
       "3                      -0.017899                           -0.035050   \n",
       "4                      -0.017852                           -0.036385   \n",
       "\n",
       "   NrofMonthsWildFoodCons  Gender_MaleControl  Gender_FemaleControl  continent  \n",
       "0               -0.563701           -2.620626              2.620626     africa  \n",
       "1                0.962623           -0.995541              0.995541     africa  \n",
       "2               -0.182120            0.629550             -0.629550     africa  \n",
       "3               -0.563701            0.629550             -0.629550     africa  \n",
       "4               -0.563701            0.629550             -0.629550     africa  \n",
       "\n",
       "[5 rows x 38 columns]"
      ]
     },
     "execution_count": 314,
     "metadata": {},
     "output_type": "execute_result"
    }
   ],
   "source": [
    "ppi_data.head()"
   ]
  },
  {
   "cell_type": "code",
   "execution_count": 293,
   "metadata": {},
   "outputs": [],
   "source": [
    "X_ppi = get_dummyXs_y(ppi_data, \"PPI_Likelihood\")[0]\n",
    "y_ppi = get_dummyXs_y(ppi_data, \"PPI_Likelihood\")[1]"
   ]
  },
  {
   "cell_type": "code",
   "execution_count": 294,
   "metadata": {},
   "outputs": [],
   "source": [
    "X_train_ppi, X_test_ppi, y_train_ppi, y_test_ppi = train_test_split(X_ppi ,y_ppi, test_size = 0.3, \n",
    "                                                                    random_state = 2021)\n"
   ]
  },
  {
   "cell_type": "code",
   "execution_count": 295,
   "metadata": {},
   "outputs": [
    {
     "data": {
      "text/plain": [
       "29"
      ]
     },
     "execution_count": 295,
     "metadata": {},
     "output_type": "execute_result"
    }
   ],
   "source": [
    "alpha_set = np.arange(10,70,1)\n",
    "ridge_cv_ppi=RidgeCV(alphas=alpha_set, store_cv_values = True, fit_intercept = False)\n",
    "model_ppi_cv=ridge_cv_ppi.fit(X_train_ppi,y_train_ppi)\n",
    "model_ppi_cv.alpha_"
   ]
  },
  {
   "cell_type": "code",
   "execution_count": 296,
   "metadata": {},
   "outputs": [],
   "source": [
    "ppi_cv_per_alpha = np.mean(model_ppi_cv.cv_values_, axis = 0)\n",
    "ppi_cv_df = pd.DataFrame({'alpha': alpha_set, 'MSPE': ppi_cv_per_alpha})"
   ]
  },
  {
   "cell_type": "code",
   "execution_count": 299,
   "metadata": {},
   "outputs": [
    {
     "data": {
      "text/plain": [
       "<matplotlib.legend.Legend at 0x7fa79b261b10>"
      ]
     },
     "execution_count": 299,
     "metadata": {},
     "output_type": "execute_result"
    },
    {
     "data": {
      "image/png": "[encoded data removed]",
      "text/plain": [
       "<Figure size 432x288 with 1 Axes>"
      ]
     },
     "metadata": {
      "needs_background": "light"
     },
     "output_type": "display_data"
    }
   ],
   "source": [
    "sns.scatterplot(data = ppi_cv_df, x = \"alpha\", y = \"MSPE\", ax=ax1).set_title('Figure 4: Optimal Alpha for y = PPI Likelihood')\n",
    "plt.axvline(x=29, c=\"red\", linestyle = \"dashed\",label = r'$\\alpha$ = 29' )\n",
    "plt.legend(loc='upper right')"
   ]
  },
  {
   "cell_type": "code",
   "execution_count": 306,
   "metadata": {},
   "outputs": [
    {
     "data": {
      "text/plain": [
       "<matplotlib.legend.Legend at 0x7fa79dad5250>"
      ]
     },
     "execution_count": 306,
     "metadata": {},
     "output_type": "execute_result"
    },
    {
     "data": {
      "image/png": "[encoded data removed]",
      "text/plain": [
       "<Figure size 720x360 with 2 Axes>"
      ]
     },
     "metadata": {
      "needs_background": "light"
     },
     "output_type": "display_data"
    }
   ],
   "source": [
    "# Two subplots\n",
    "fig, axes = plt.subplots(1, 2, figsize=(10,5))\n",
    "fig.subplots_adjust(wspace=.5)\n",
    "\n",
    "sns.scatterplot(ax = axes[0],data = cv_df, x = \"alpha\", y = \"MSPE\")\n",
    "axes[0].set_title('Figure 3: Optimal Alpha for y=Market Orientation')\n",
    "axes[0].axvline(x=model_cv.alpha_, c=\"red\", linestyle = \"dashed\", label = r'$\\alpha$ = 456')\n",
    "axes[0].legend(loc='upper right')\n",
    "\n",
    "\n",
    "sns.scatterplot(ax = axes[1], data = ppi_cv_df, x = \"alpha\", y = \"MSPE\")\n",
    "axes[1].set_title('Figure 4: Optimal Alpha for y = PPI Likelihood')\n",
    "axes[1].axvline(x=29, c=\"red\", linestyle = \"dashed\",label = r'$\\alpha$ = 29' )\n",
    "axes[1].legend(loc='upper right')"
   ]
  },
  {
   "cell_type": "code",
   "execution_count": 307,
   "metadata": {},
   "outputs": [
    {
     "data": {
      "text/plain": [
       "0.8450827169299572"
      ]
     },
     "execution_count": 307,
     "metadata": {},
     "output_type": "execute_result"
    }
   ],
   "source": [
    "#refit model with alpha =3 and get score\n",
    "ridge_ppi = Ridge(alpha = model_ppi_cv.alpha_)\n",
    "ridge_ppi.fit(X_train_ppi,y_train_ppi)\n",
    "y_pred_ridge_ppi = ridge_ppi.predict(X_test_ppi)\n",
    "MSE_ppi = np.mean((y_pred_ridge_ppi-np.array(y_test_ppi))**2)\n",
    "MSE_ppi"
   ]
  },
  {
   "cell_type": "code",
   "execution_count": 308,
   "metadata": {
    "scrolled": true
   },
   "outputs": [],
   "source": [
    "#top 20 coeff/variable that are most important by abs value\n",
    "betas_ppi = ridge_ppi.coef_\n",
    "max5_index_ppi = [list(abs(betas_ppi)).index(x) for x in np.sort(abs(betas_ppi))[::-1][:20]]\n",
    "min5_index_ppi = [list(abs(betas_ppi)).index(x) for x in np.sort(abs(betas_ppi))[:5]]"
   ]
  },
  {
   "cell_type": "code",
   "execution_count": 309,
   "metadata": {},
   "outputs": [
    {
     "data": {
      "text/plain": [
       "array([-0.93587502, -0.80216631,  0.67557116,  0.50447549,  0.49444495,\n",
       "       -0.48875491, -0.43346478,  0.37808512, -0.37639515, -0.3340159 ,\n",
       "       -0.29992202, -0.25178839,  0.24999531,  0.24609834, -0.2059205 ,\n",
       "        0.20259967, -0.19798459, -0.19627443, -0.18747561,  0.17995231])"
      ]
     },
     "execution_count": 309,
     "metadata": {},
     "output_type": "execute_result"
    }
   ],
   "source": [
    "betas_ppi[max5_index_ppi]"
   ]
  },
  {
   "cell_type": "code",
   "execution_count": 310,
   "metadata": {},
   "outputs": [
    {
     "data": {
      "text/plain": [
       "array([0.00000000e+00, 0.00000000e+00, 0.00000000e+00, 0.00000000e+00,\n",
       "       5.48610165e-05])"
      ]
     },
     "execution_count": 310,
     "metadata": {},
     "output_type": "execute_result"
    }
   ],
   "source": [
    "betas_ppi[min5_index_ppi]"
   ]
  },
  {
   "cell_type": "code",
   "execution_count": 311,
   "metadata": {},
   "outputs": [
    {
     "data": {
      "text/plain": [
       "Index(['continent_centralamerica', 'Head_EducationLevel_none',\n",
       "       'continent_africa', 'Head_EducationLevel_noschool', 'YEAR_2015',\n",
       "       'YEAR_2018', 'crop_name_1_irishpotato', 'HHsizemembers',\n",
       "       'crop_name_1_teff', 'crop_name_1_wheat', 'HHsizeMAE', 'YEAR_2016',\n",
       "       'continent_asia', 'YEAR_2017', 'HouseholdType_single',\n",
       "       'Head_EducationLevel_primary', 'crop_name_1_rice',\n",
       "       'HouseholdType_together', 'livestock_prodsales_USD_PPP_pHH_Yr',\n",
       "       'crop_name_1_pigeonpea'],\n",
       "      dtype='object')"
      ]
     },
     "execution_count": 311,
     "metadata": {},
     "output_type": "execute_result"
    }
   ],
   "source": [
    "X_train_ppi.columns[max5_index_ppi]"
   ]
  },
  {
   "cell_type": "code",
   "execution_count": 313,
   "metadata": {
    "scrolled": true
   },
   "outputs": [
    {
     "data": {
      "text/html": [
       "<div>\n",
       "<style scoped>\n",
       "    .dataframe tbody tr th:only-of-type {\n",
       "        vertical-align: middle;\n",
       "    }\n",
       "\n",
       "    .dataframe tbody tr th {\n",
       "        vertical-align: top;\n",
       "    }\n",
       "\n",
       "    .dataframe thead th {\n",
       "        text-align: right;\n",
       "    }\n",
       "</style>\n",
       "<table border=\"1\" class=\"dataframe\">\n",
       "  <thead>\n",
       "    <tr style=\"text-align: right;\">\n",
       "      <th></th>\n",
       "      <th>name</th>\n",
       "      <th>beta</th>\n",
       "    </tr>\n",
       "  </thead>\n",
       "  <tbody>\n",
       "    <tr>\n",
       "      <th>0</th>\n",
       "      <td>continent_centralamerica</td>\n",
       "      <td>-0.935875</td>\n",
       "    </tr>\n",
       "    <tr>\n",
       "      <th>1</th>\n",
       "      <td>Head_EducationLevel_none</td>\n",
       "      <td>-0.802166</td>\n",
       "    </tr>\n",
       "    <tr>\n",
       "      <th>2</th>\n",
       "      <td>continent_africa</td>\n",
       "      <td>0.675571</td>\n",
       "    </tr>\n",
       "    <tr>\n",
       "      <th>3</th>\n",
       "      <td>Head_EducationLevel_noschool</td>\n",
       "      <td>0.504475</td>\n",
       "    </tr>\n",
       "    <tr>\n",
       "      <th>4</th>\n",
       "      <td>YEAR_2015</td>\n",
       "      <td>0.494445</td>\n",
       "    </tr>\n",
       "    <tr>\n",
       "      <th>5</th>\n",
       "      <td>YEAR_2018</td>\n",
       "      <td>-0.488755</td>\n",
       "    </tr>\n",
       "    <tr>\n",
       "      <th>6</th>\n",
       "      <td>crop_name_1_irishpotato</td>\n",
       "      <td>-0.433465</td>\n",
       "    </tr>\n",
       "    <tr>\n",
       "      <th>7</th>\n",
       "      <td>HHsizemembers</td>\n",
       "      <td>0.378085</td>\n",
       "    </tr>\n",
       "    <tr>\n",
       "      <th>8</th>\n",
       "      <td>crop_name_1_teff</td>\n",
       "      <td>-0.376395</td>\n",
       "    </tr>\n",
       "    <tr>\n",
       "      <th>9</th>\n",
       "      <td>crop_name_1_wheat</td>\n",
       "      <td>-0.334016</td>\n",
       "    </tr>\n",
       "    <tr>\n",
       "      <th>10</th>\n",
       "      <td>HHsizeMAE</td>\n",
       "      <td>-0.299922</td>\n",
       "    </tr>\n",
       "    <tr>\n",
       "      <th>11</th>\n",
       "      <td>YEAR_2016</td>\n",
       "      <td>-0.251788</td>\n",
       "    </tr>\n",
       "    <tr>\n",
       "      <th>12</th>\n",
       "      <td>continent_asia</td>\n",
       "      <td>0.249995</td>\n",
       "    </tr>\n",
       "    <tr>\n",
       "      <th>13</th>\n",
       "      <td>YEAR_2017</td>\n",
       "      <td>0.246098</td>\n",
       "    </tr>\n",
       "    <tr>\n",
       "      <th>14</th>\n",
       "      <td>HouseholdType_single</td>\n",
       "      <td>-0.20592</td>\n",
       "    </tr>\n",
       "    <tr>\n",
       "      <th>15</th>\n",
       "      <td>Head_EducationLevel_primary</td>\n",
       "      <td>0.2026</td>\n",
       "    </tr>\n",
       "    <tr>\n",
       "      <th>16</th>\n",
       "      <td>crop_name_1_rice</td>\n",
       "      <td>-0.197985</td>\n",
       "    </tr>\n",
       "    <tr>\n",
       "      <th>17</th>\n",
       "      <td>HouseholdType_together</td>\n",
       "      <td>-0.196274</td>\n",
       "    </tr>\n",
       "    <tr>\n",
       "      <th>18</th>\n",
       "      <td>livestock_prodsales_USD_PPP_pHH_Yr</td>\n",
       "      <td>-0.187476</td>\n",
       "    </tr>\n",
       "    <tr>\n",
       "      <th>19</th>\n",
       "      <td>crop_name_1_pigeonpea</td>\n",
       "      <td>0.179952</td>\n",
       "    </tr>\n",
       "  </tbody>\n",
       "</table>\n",
       "</div>"
      ],
      "text/plain": [
       "                                  name      beta\n",
       "0             continent_centralamerica -0.935875\n",
       "1             Head_EducationLevel_none -0.802166\n",
       "2                     continent_africa  0.675571\n",
       "3         Head_EducationLevel_noschool  0.504475\n",
       "4                            YEAR_2015  0.494445\n",
       "5                            YEAR_2018 -0.488755\n",
       "6              crop_name_1_irishpotato -0.433465\n",
       "7                        HHsizemembers  0.378085\n",
       "8                     crop_name_1_teff -0.376395\n",
       "9                    crop_name_1_wheat -0.334016\n",
       "10                           HHsizeMAE -0.299922\n",
       "11                           YEAR_2016 -0.251788\n",
       "12                      continent_asia  0.249995\n",
       "13                           YEAR_2017  0.246098\n",
       "14                HouseholdType_single  -0.20592\n",
       "15         Head_EducationLevel_primary    0.2026\n",
       "16                    crop_name_1_rice -0.197985\n",
       "17              HouseholdType_together -0.196274\n",
       "18  livestock_prodsales_USD_PPP_pHH_Yr -0.187476\n",
       "19               crop_name_1_pigeonpea  0.179952"
      ]
     },
     "execution_count": 313,
     "metadata": {},
     "output_type": "execute_result"
    }
   ],
   "source": [
    "feature_imp_ppi  = pd.DataFrame([X_train_ppi.columns[max5_index_ppi], betas_ppi[max5_index_ppi]]).T\n",
    "feature_imp_ppi.columns = [\"name\", \"beta\"]\n",
    "feature_imp_ppi"
   ]
  },
  {
   "cell_type": "code",
   "execution_count": null,
   "metadata": {
    "scrolled": true
   },
   "outputs": [],
   "source": []
  },
  {
   "cell_type": "code",
   "execution_count": null,
   "metadata": {},
   "outputs": [],
   "source": [
    "all_together = pd.concat([feature_imp_ppi, feature_imp_mo],axis = 1)\n",
    "all_together"
   ]
  },
  {
   "cell_type": "code",
   "execution_count": null,
   "metadata": {},
   "outputs": [],
   "source": []
  },
  {
   "cell_type": "code",
   "execution_count": null,
   "metadata": {},
   "outputs": [],
   "source": []
  },
  {
   "cell_type": "code",
   "execution_count": null,
   "metadata": {},
   "outputs": [],
   "source": []
  },
  {
   "cell_type": "code",
   "execution_count": null,
   "metadata": {},
   "outputs": [],
   "source": []
  }
 ],
 "metadata": {
  "kernelspec": {
   "display_name": "Python 3",
   "language": "python",
   "name": "python3"
  },
  "language_info": {
   "codemirror_mode": {
    "name": "ipython",
    "version": 3
   },
   "file_extension": ".py",
   "mimetype": "text/x-python",
   "name": "python",
   "nbconvert_exporter": "python",
   "pygments_lexer": "ipython3",
   "version": "3.7.6"
  }
 },
 "nbformat": 4,
 "nbformat_minor": 4
}
