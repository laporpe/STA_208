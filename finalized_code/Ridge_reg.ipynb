{
 "cells": [
  {
   "cell_type": "code",
   "execution_count": 1,
   "metadata": {},
   "outputs": [],
   "source": [
    "import numpy as np\n",
    "import pandas as pd"
   ]
  },
  {
   "cell_type": "code",
   "execution_count": 150,
   "metadata": {},
   "outputs": [],
   "source": [
    "clean = pd.read_csv(\"/Users/anab/Documents/MS_UCDavis/STA208/project/STA_208/data/clean.csv\")"
   ]
  },
  {
   "cell_type": "code",
   "execution_count": 109,
   "metadata": {},
   "outputs": [],
   "source": [
    "from Functions import Cleaning_Functions\n",
    "fun = Cleaning_Functions()"
   ]
  },
  {
   "cell_type": "code",
   "execution_count": 110,
   "metadata": {},
   "outputs": [],
   "source": [
    "market_data = fun.delete_id_columns(clean) #1\n",
    "market_data, pred_market = fun.drop_response_rows_with_NAs(market_data, \"Market_Orientation\", \"PPI_Likelihood\") #2\n",
    "market_data = fun.replace_NAN_with_na(market_data) #3\n",
    "market_data = fun.entry_to_lowercase(market_data) #4\n",
    "market_data = fun.remove_underscores_spaces(market_data) #5\n",
    "market_data = fun.convert_to_categorical(market_data) #6\n",
    "market_data = fun.impute_data(market_data)"
   ]
  },
  {
   "cell_type": "code",
   "execution_count": 111,
   "metadata": {
    "scrolled": true
   },
   "outputs": [],
   "source": [
    "pred_market.shape\n",
    "market_data.YEAR = market_data.YEAR.astype('category')"
   ]
  },
  {
   "cell_type": "code",
   "execution_count": 112,
   "metadata": {},
   "outputs": [],
   "source": [
    "def standarize_data(df):\n",
    "    \n",
    "    \"\"\"\n",
    "    Input: a dataset\n",
    "    action: returns numeric column values scaled by mean and standard deviation\n",
    "    \"\"\"\n",
    "    numeric_data = df.select_dtypes(include=['float64', 'int64'])\n",
    "    for i in numeric_data.columns:\n",
    "        df[i] = (df[i] - df[i].mean())/df[i].std()\n",
    "    return df"
   ]
  },
  {
   "cell_type": "code",
   "execution_count": 113,
   "metadata": {},
   "outputs": [],
   "source": [
    "market_data = standarize_data(market_data)"
   ]
  },
  {
   "cell_type": "code",
   "execution_count": 114,
   "metadata": {
    "scrolled": true
   },
   "outputs": [
    {
     "data": {
      "text/plain": [
       "crop_count                                       float64\n",
       "crop_name_1                                     category\n",
       "crop_harvest_1                                  category\n",
       "crop_intercrop_1                                category\n",
       "YEAR                                            category\n",
       "Country                                         category\n",
       "HHsizemembers                                    float64\n",
       "HHsizeMAE                                        float64\n",
       "HouseholdType                                   category\n",
       "Head_EducationLevel                             category\n",
       "LandOwned                                        float64\n",
       "LandCultivated                                   float64\n",
       "LivestockHoldings                                float64\n",
       "NrofMonthsFoodInsecure                           float64\n",
       "HFIAS_status                                    category\n",
       "score_HDDS_GoodSeason                            float64\n",
       "score_HDDS_farmbasedGoodSeason                   float64\n",
       "score_HDDS_purchasedGoodSeason                   float64\n",
       "score_HDDS_BadSeason                             float64\n",
       "score_HDDS_farmbasedBadSeason                    float64\n",
       "score_HDDS_purchasedBadSeason                    float64\n",
       "TVA_USD_PPP_pmae_pday                            float64\n",
       "total_income_USD_PPP_pHH_Yr                      float64\n",
       "offfarm_income_USD_PPP_pHH_Yr                    float64\n",
       "farm_income_USD_PPP_pHH_Yr                       float64\n",
       "value_farm_produce_USD_PPP_pHH_Yr                float64\n",
       "crop_sales_USD_PPP_pHH_Yr                        float64\n",
       "value_crop_produce_USD_PPP_pHH_Yr                float64\n",
       "value_crop_consumed_USD_PPP_pHH_Yr               float64\n",
       "livestock_prodsales_USD_PPP_pHH_Yr               float64\n",
       "value_livestock_production_USD_PPP_pHH_Yr        float64\n",
       "value_livestock_prod_consumed_USD_PPP_pHH_Yr     float64\n",
       "Market_Orientation                               float64\n",
       "Livestock_Orientation                            float64\n",
       "Food_Availability_kCal_MAE_day                   float64\n",
       "Food_Self_Sufficiency_kCal_MAE_day               float64\n",
       "NrofMonthsWildFoodCons                           float64\n",
       "Gender_MaleControl                               float64\n",
       "Gender_FemaleControl                             float64\n",
       "continent                                       category\n",
       "dtype: object"
      ]
     },
     "execution_count": 114,
     "metadata": {},
     "output_type": "execute_result"
    }
   ],
   "source": [
    "market_data.dtypes"
   ]
  },
  {
   "cell_type": "code",
   "execution_count": null,
   "metadata": {},
   "outputs": [],
   "source": []
  },
  {
   "cell_type": "markdown",
   "metadata": {},
   "source": [
    "## Ridge Regression y = Market orientation"
   ]
  },
  {
   "cell_type": "code",
   "execution_count": 115,
   "metadata": {},
   "outputs": [],
   "source": [
    "from sklearn.linear_model import RidgeCV\n",
    "from sklearn.linear_model import Ridge\n",
    "from sklearn.metrics import mean_squared_error\n",
    "from sklearn.model_selection import train_test_split"
   ]
  },
  {
   "cell_type": "markdown",
   "metadata": {},
   "source": [
    "### 1. create dummy"
   ]
  },
  {
   "cell_type": "code",
   "execution_count": 116,
   "metadata": {},
   "outputs": [],
   "source": [
    "def get_dummyXs_y(df, y_var):\n",
    "    \n",
    "    y = df[y_var]\n",
    "    X  = df.drop(y_var, axis = 1)\n",
    "    X_cat = X.select_dtypes(include = [\"category\", \"O\"])\n",
    "    X_num = X.select_dtypes(include=['float64', 'int64'])\n",
    "    \n",
    "    X_cat_dummy = pd.get_dummies(X_cat)\n",
    "    newX = pd.concat([X_num, X_cat_dummy], axis = 1)\n",
    "    \n",
    "    return newX, y"
   ]
  },
  {
   "cell_type": "code",
   "execution_count": 117,
   "metadata": {},
   "outputs": [],
   "source": [
    "X_market_ridge = get_dummyXs_y(market_data, \"Market_Orientation\")[0]\n",
    "y_market_ridge = get_dummyXs_y(market_data, \"Market_Orientation\")[1]"
   ]
  },
  {
   "cell_type": "code",
   "execution_count": 118,
   "metadata": {},
   "outputs": [],
   "source": [
    "X_train, X_test, y_train, y_test = train_test_split(X_market_ridge,y_market_ridge, test_size = 0.3, random_state = 2021)\n"
   ]
  },
  {
   "cell_type": "code",
   "execution_count": 119,
   "metadata": {},
   "outputs": [
    {
     "data": {
      "text/plain": [
       "1.9989999999999983"
      ]
     },
     "execution_count": 119,
     "metadata": {},
     "output_type": "execute_result"
    }
   ],
   "source": [
    "#ridge_cv=RidgeCV(alphas=np.arange(2,,0.001))\n",
    "ridge_cv=RidgeCV(alphas=np.arange(0.01,2,0.001))\n",
    "model_cv=ridge_cv.fit(X_train,y_train)\n",
    "model_cv.alpha_"
   ]
  },
  {
   "cell_type": "code",
   "execution_count": 120,
   "metadata": {},
   "outputs": [
    {
     "data": {
      "text/plain": [
       "4.3529755308054305"
      ]
     },
     "execution_count": 120,
     "metadata": {},
     "output_type": "execute_result"
    }
   ],
   "source": [
    "#refit model with alpha =3 and get score\n",
    "rir = Ridge(alpha = model_cv.alpha_)\n",
    "rir.fit(X_train,y_train)\n",
    "y_pred_ridge = rir.predict(X_test)\n",
    "MSE_ridge_market = mean_squared_error(y_test,y_pred_ridge)\n",
    "MSE_ridge_market"
   ]
  },
  {
   "cell_type": "code",
   "execution_count": 86,
   "metadata": {},
   "outputs": [
    {
     "data": {
      "text/plain": [
       "Index(['crop_count', 'YEAR', 'HHsizemembers', 'HHsizeMAE', 'LandOwned',\n",
       "       'LandCultivated', 'LivestockHoldings', 'NrofMonthsFoodInsecure',\n",
       "       'score_HDDS_GoodSeason', 'score_HDDS_farmbasedGoodSeason',\n",
       "       ...\n",
       "       'Head_EducationLevel_religiousschool', 'Head_EducationLevel_secondary',\n",
       "       'HFIAS_status_foodsecure', 'HFIAS_status_mildlyfi',\n",
       "       'HFIAS_status_moderatelyfi', 'HFIAS_status_severelyfi',\n",
       "       'continent_africa', 'continent_asia', 'continent_centralamerica',\n",
       "       'continent_southamerica'],\n",
       "      dtype='object', length=179)"
      ]
     },
     "execution_count": 86,
     "metadata": {},
     "output_type": "execute_result"
    }
   ],
   "source": [
    "X_train.columns"
   ]
  },
  {
   "cell_type": "code",
   "execution_count": null,
   "metadata": {},
   "outputs": [],
   "source": [
    "# -2.17617050e-02,  1.57421573e+00, -1.55559476e+00, -4.08594181e-03"
   ]
  },
  {
   "cell_type": "code",
   "execution_count": 165,
   "metadata": {
    "scrolled": true
   },
   "outputs": [
    {
     "data": {
      "text/plain": [
       "array([-5.62515887e-03, -2.77360355e-01,  2.75138952e-01, -1.34865111e-02,\n",
       "        1.11426880e-02, -1.34214589e-01, -1.23223476e-02, -9.40756313e-03,\n",
       "        1.19966975e-02, -9.21037960e-03, -2.76783889e-02, -1.82304145e-02,\n",
       "       -1.24801190e-02,  8.78199219e-04,  9.17160765e-02,  1.53702998e-01,\n",
       "       -9.24409434e-03, -1.46726095e-02, -1.62840499e-02, -1.83243486e-02,\n",
       "       -1.42330557e-01,  8.96984350e-01,  1.91986252e-01, -1.95808023e-01,\n",
       "       -2.27145710e-01, -1.53910088e-01, -1.61403036e-01,  4.64723907e-03,\n",
       "       -8.53963210e-02,  8.53963210e-02,  0.00000000e+00, -5.27222230e-01,\n",
       "        7.14951624e-03, -1.14079145e-01,  3.27231349e-02, -2.93132136e-02,\n",
       "        6.37538028e-01,  0.00000000e+00, -4.20090001e-01,  9.93760982e-02,\n",
       "       -3.28847625e-02,  1.60594530e-01,  5.47521030e-02, -3.23701315e-01,\n",
       "       -2.59194047e-01,  1.73168642e-01, -7.66571770e-02, -2.48123653e-02,\n",
       "        1.93312535e-01,  3.73063267e-01,  1.23197044e-01,  2.21050627e-01,\n",
       "       -8.44205092e-02, -5.31165972e-02,  6.61707250e-02,  0.00000000e+00,\n",
       "        1.42288259e-01,  1.90461773e-01,  8.17031559e-03,  2.33776293e-02,\n",
       "        6.30717397e-02,  5.67643386e-02,  6.19435733e-02, -3.56833119e-01,\n",
       "        1.05546687e-02,  1.74143301e-01,  4.43144763e-02, -8.66287325e-02,\n",
       "        0.00000000e+00,  2.25099870e-01,  1.69283165e-01,  2.29725197e-01,\n",
       "       -6.83723170e-02, -1.35403066e-02,  0.00000000e+00, -3.63037112e-01,\n",
       "       -1.05907001e-02,  3.77987762e-02,  0.00000000e+00, -1.73358408e-01,\n",
       "       -2.12683010e-02,  1.78708803e-01, -1.47930058e-01, -3.43696102e-02,\n",
       "        2.16817862e-01, -2.77772097e-03,  0.00000000e+00, -2.87917667e-02,\n",
       "       -3.97092598e-03, -1.07361868e-01,  0.00000000e+00,  2.48740608e-01,\n",
       "       -5.92815501e-02, -1.49490292e-01, -7.45642032e-02,  5.90580481e-02,\n",
       "        5.55022036e-02,  2.07890961e-01,  2.30157333e-01, -9.49220674e-02,\n",
       "       -8.52200385e-02, -9.48168694e-01, -2.09677797e-02, -4.31919655e-02,\n",
       "        5.51087620e-02,  9.05098311e-03, -5.85330512e-02, -5.28745153e-03,\n",
       "        6.38205027e-02, -7.15267333e-02,  2.35341142e-01, -2.95187850e-01,\n",
       "        1.31373441e-01,  3.03989569e-01, -1.65372015e-01, -5.64541620e-02,\n",
       "        1.69332815e-01,  7.90477778e-02,  8.35072890e-02, -1.90016891e-01,\n",
       "       -4.04924356e-02,  1.31593531e-01,  1.33431144e-01,  4.17185980e-01,\n",
       "       -4.32517097e-01, -5.45130845e-01,  2.90100436e-01,  4.13970382e-01,\n",
       "       -3.37418154e-01,  1.54977656e-01, -6.69284250e-01,  2.99179131e-01,\n",
       "       -2.62026908e-01,  2.22397048e-01, -1.21056178e-01,  3.75371155e-02,\n",
       "       -6.94270516e-02, -9.22283711e-01,  1.45281681e-01, -3.15738269e-02,\n",
       "        5.11083427e-01, -1.47291480e-01, -2.56506024e-02,  1.61322777e-01,\n",
       "        4.69185989e-01, -2.21833618e-01,  2.14705477e-01, -1.57261310e-02,\n",
       "       -6.77492696e-02, -8.42028336e-02, -1.77244772e-02,  0.00000000e+00,\n",
       "        0.00000000e+00,  8.82506451e-02, -1.10251307e-01,  2.21673089e-02,\n",
       "       -1.29710247e-01, -2.98350214e-02,  0.00000000e+00, -3.23302371e-02,\n",
       "       -1.40313857e-01, -5.46182897e-02, -4.53972015e-02,  6.79709832e-02,\n",
       "        4.88995251e-01, -1.40031408e-01,  1.05906383e-01,  5.11744216e-01,\n",
       "       -1.18547866e-01,  3.44578242e-04, -1.19879097e-01, -6.46751238e-02,\n",
       "       -1.71804752e-01,  5.74177534e-02, -9.32550392e-03,  9.73282773e-04,\n",
       "       -9.46867561e-04,  9.29908871e-03,  1.11001654e-01, -4.46425935e-01,\n",
       "        1.80446625e-01,  1.54977656e-01])"
      ]
     },
     "execution_count": 165,
     "metadata": {},
     "output_type": "execute_result"
    }
   ],
   "source": [
    "rir.coef_"
   ]
  },
  {
   "cell_type": "code",
   "execution_count": 125,
   "metadata": {},
   "outputs": [],
   "source": [
    "feature_imp  = pd.DataFrame([X_train.columns, rir.coef_]).T"
   ]
  },
  {
   "cell_type": "code",
   "execution_count": 130,
   "metadata": {},
   "outputs": [
    {
     "data": {
      "text/html": [
       "<div>\n",
       "<style scoped>\n",
       "    .dataframe tbody tr th:only-of-type {\n",
       "        vertical-align: middle;\n",
       "    }\n",
       "\n",
       "    .dataframe tbody tr th {\n",
       "        vertical-align: top;\n",
       "    }\n",
       "\n",
       "    .dataframe thead th {\n",
       "        text-align: right;\n",
       "    }\n",
       "</style>\n",
       "<table border=\"1\" class=\"dataframe\">\n",
       "  <thead>\n",
       "    <tr style=\"text-align: right;\">\n",
       "      <th></th>\n",
       "      <th>0</th>\n",
       "      <th>1</th>\n",
       "    </tr>\n",
       "  </thead>\n",
       "  <tbody>\n",
       "    <tr>\n",
       "      <th>0</th>\n",
       "      <td>livestock_prodsales_USD_PPP_pHH_Yr</td>\n",
       "      <td>0.896984</td>\n",
       "    </tr>\n",
       "    <tr>\n",
       "      <th>1</th>\n",
       "      <td>crop_name_1_broadbeans</td>\n",
       "      <td>0.637538</td>\n",
       "    </tr>\n",
       "    <tr>\n",
       "      <th>2</th>\n",
       "      <td>Head_EducationLevel_none</td>\n",
       "      <td>0.511744</td>\n",
       "    </tr>\n",
       "    <tr>\n",
       "      <th>3</th>\n",
       "      <td>HouseholdType_nonparenthead</td>\n",
       "      <td>0.511083</td>\n",
       "    </tr>\n",
       "    <tr>\n",
       "      <th>4</th>\n",
       "      <td>Head_EducationLevel_islamicschool</td>\n",
       "      <td>0.488995</td>\n",
       "    </tr>\n",
       "    <tr>\n",
       "      <th>5</th>\n",
       "      <td>HouseholdType_together</td>\n",
       "      <td>0.469186</td>\n",
       "    </tr>\n",
       "    <tr>\n",
       "      <th>6</th>\n",
       "      <td>Country_india</td>\n",
       "      <td>0.417186</td>\n",
       "    </tr>\n",
       "    <tr>\n",
       "      <th>7</th>\n",
       "      <td>Country_mali</td>\n",
       "      <td>0.41397</td>\n",
       "    </tr>\n",
       "    <tr>\n",
       "      <th>8</th>\n",
       "      <td>crop_name_1_custardapple</td>\n",
       "      <td>0.373063</td>\n",
       "    </tr>\n",
       "    <tr>\n",
       "      <th>9</th>\n",
       "      <td>Country_burkinafaso</td>\n",
       "      <td>0.30399</td>\n",
       "    </tr>\n",
       "    <tr>\n",
       "      <th>10</th>\n",
       "      <td>Country_uganda</td>\n",
       "      <td>0.299179</td>\n",
       "    </tr>\n",
       "    <tr>\n",
       "      <th>11</th>\n",
       "      <td>Country_malawi</td>\n",
       "      <td>0.2901</td>\n",
       "    </tr>\n",
       "    <tr>\n",
       "      <th>12</th>\n",
       "      <td>HHsizeMAE</td>\n",
       "      <td>0.275139</td>\n",
       "    </tr>\n",
       "    <tr>\n",
       "      <th>13</th>\n",
       "      <td>crop_name_1_sugarcane</td>\n",
       "      <td>0.248741</td>\n",
       "    </tr>\n",
       "    <tr>\n",
       "      <th>14</th>\n",
       "      <td>YEAR_2016</td>\n",
       "      <td>0.235341</td>\n",
       "    </tr>\n",
       "  </tbody>\n",
       "</table>\n",
       "</div>"
      ],
      "text/plain": [
       "                                     0         1\n",
       "0   livestock_prodsales_USD_PPP_pHH_Yr  0.896984\n",
       "1               crop_name_1_broadbeans  0.637538\n",
       "2             Head_EducationLevel_none  0.511744\n",
       "3          HouseholdType_nonparenthead  0.511083\n",
       "4    Head_EducationLevel_islamicschool  0.488995\n",
       "5               HouseholdType_together  0.469186\n",
       "6                        Country_india  0.417186\n",
       "7                         Country_mali   0.41397\n",
       "8             crop_name_1_custardapple  0.373063\n",
       "9                  Country_burkinafaso   0.30399\n",
       "10                      Country_uganda  0.299179\n",
       "11                      Country_malawi    0.2901\n",
       "12                           HHsizeMAE  0.275139\n",
       "13               crop_name_1_sugarcane  0.248741\n",
       "14                           YEAR_2016  0.235341"
      ]
     },
     "execution_count": 130,
     "metadata": {},
     "output_type": "execute_result"
    }
   ],
   "source": [
    "feature_imp = feature_imp.sort_values(by = 1,ascending = False).reset_index(drop = True)\n",
    "feature_imp.iloc[0:15,:]"
   ]
  },
  {
   "cell_type": "markdown",
   "metadata": {},
   "source": [
    "## Ridge regression with y=PPI_Likelihood"
   ]
  },
  {
   "cell_type": "code",
   "execution_count": 151,
   "metadata": {},
   "outputs": [],
   "source": [
    "clean = pd.read_csv(\"/Users/anab/Documents/MS_UCDavis/STA208/project/STA_208/data/clean.csv\")"
   ]
  },
  {
   "cell_type": "code",
   "execution_count": 152,
   "metadata": {},
   "outputs": [],
   "source": [
    "from Functions import Cleaning_Functions\n",
    "fun = Cleaning_Functions()"
   ]
  },
  {
   "cell_type": "code",
   "execution_count": 153,
   "metadata": {},
   "outputs": [],
   "source": [
    "ppi_data = fun.delete_id_columns(clean) #1\n",
    "ppi_data, pred_market = fun.drop_response_rows_with_NAs(ppi_data,\"PPI_Likelihood\" ,\"Market_Orientation\") #2\n",
    "ppi_data = fun.replace_NAN_with_na(ppi_data) #3\n",
    "ppi_data = fun.entry_to_lowercase(ppi_data) #4\n",
    "ppi_data = fun.remove_underscores_spaces(ppi_data) #5\n",
    "ppi_data = fun.convert_to_categorical(ppi_data) #6\n",
    "ppi_data = fun.impute_data(ppi_data)#7"
   ]
  },
  {
   "cell_type": "code",
   "execution_count": 154,
   "metadata": {},
   "outputs": [
    {
     "data": {
      "text/plain": [
       "Index(['crop_count', 'crop_name_1', 'crop_harvest_1', 'crop_intercrop_1',\n",
       "       'YEAR', 'Country', 'HHsizemembers', 'HHsizeMAE', 'HouseholdType',\n",
       "       'Head_EducationLevel', 'LandOwned', 'LandCultivated',\n",
       "       'LivestockHoldings', 'NrofMonthsFoodInsecure', 'PPI_Likelihood',\n",
       "       'HFIAS_status', 'score_HDDS_GoodSeason',\n",
       "       'score_HDDS_farmbasedGoodSeason', 'score_HDDS_purchasedGoodSeason',\n",
       "       'score_HDDS_BadSeason', 'score_HDDS_farmbasedBadSeason',\n",
       "       'score_HDDS_purchasedBadSeason', 'TVA_USD_PPP_pmae_pday',\n",
       "       'total_income_USD_PPP_pHH_Yr', 'offfarm_income_USD_PPP_pHH_Yr',\n",
       "       'farm_income_USD_PPP_pHH_Yr', 'value_farm_produce_USD_PPP_pHH_Yr',\n",
       "       'crop_sales_USD_PPP_pHH_Yr', 'value_crop_produce_USD_PPP_pHH_Yr',\n",
       "       'value_crop_consumed_USD_PPP_pHH_Yr',\n",
       "       'livestock_prodsales_USD_PPP_pHH_Yr',\n",
       "       'value_livestock_production_USD_PPP_pHH_Yr',\n",
       "       'value_livestock_prod_consumed_USD_PPP_pHH_Yr', 'Livestock_Orientation',\n",
       "       'Food_Availability_kCal_MAE_day', 'Food_Self_Sufficiency_kCal_MAE_day',\n",
       "       'NrofMonthsWildFoodCons', 'Gender_MaleControl', 'Gender_FemaleControl',\n",
       "       'continent'],\n",
       "      dtype='object')"
      ]
     },
     "execution_count": 154,
     "metadata": {},
     "output_type": "execute_result"
    }
   ],
   "source": [
    "ppi_data.columns"
   ]
  },
  {
   "cell_type": "code",
   "execution_count": 155,
   "metadata": {},
   "outputs": [],
   "source": [
    "ppi_data.YEAR = ppi_data.YEAR.astype('category')\n",
    "ppi_data = standarize_data(ppi_data)"
   ]
  },
  {
   "cell_type": "code",
   "execution_count": 157,
   "metadata": {},
   "outputs": [],
   "source": [
    "X_ppi = get_dummyXs_y(ppi_data, \"PPI_Likelihood\")[0]\n",
    "y_ppi = get_dummyXs_y(ppi_data, \"PPI_Likelihood\")[1]"
   ]
  },
  {
   "cell_type": "code",
   "execution_count": 158,
   "metadata": {},
   "outputs": [],
   "source": [
    "X_train_ppi, X_test_ppi, y_train_ppi, y_test_ppi = train_test_split(X_ppi ,y_ppi, test_size = 0.3, random_state = 2021)\n"
   ]
  },
  {
   "cell_type": "code",
   "execution_count": 159,
   "metadata": {},
   "outputs": [
    {
     "data": {
      "text/plain": [
       "1.9989999999999983"
      ]
     },
     "execution_count": 159,
     "metadata": {},
     "output_type": "execute_result"
    }
   ],
   "source": [
    "ppi_ridge_cv=RidgeCV(alphas=np.arange(0.01,2,0.001))\n",
    "ppi_model_cv=ppi_ridge_cv.fit(X_train_ppi,y_train_ppi)\n",
    "ppi_model_cv.alpha_"
   ]
  },
  {
   "cell_type": "code",
   "execution_count": 160,
   "metadata": {},
   "outputs": [
    {
     "data": {
      "text/plain": [
       "0.49260599272351696"
      ]
     },
     "execution_count": 160,
     "metadata": {},
     "output_type": "execute_result"
    }
   ],
   "source": [
    "#refit model with alpha =3 and get score\n",
    "ridge_ppi = Ridge(alpha = ppi_model_cv.alpha_)\n",
    "ridge_ppi.fit(X_train_ppi,y_train_ppi)\n",
    "y_pred_ridge_ppi = ridge_ppi.predict(X_test_ppi)\n",
    "MSE_ppi = np.mean((y_pred_ridge_ppi-np.array(y_test_ppi))**2)\n",
    "MSE_ppi"
   ]
  },
  {
   "cell_type": "code",
   "execution_count": 164,
   "metadata": {},
   "outputs": [
    {
     "data": {
      "text/plain": [
       "array([-2.17617050e-02,  1.57421573e+00, -1.55559476e+00, -4.08594181e-03,\n",
       "       -1.06924612e-03,  2.18469444e-02,  1.02153683e-01, -9.42616691e-02,\n",
       "       -2.24372851e-03, -1.57797529e-02, -5.88742124e-02, -1.79000079e-02,\n",
       "        1.83649148e-02, -3.25600414e-01,  1.08376710e-01,  1.24168827e-01,\n",
       "        4.00594059e-02,  4.08710064e-02,  4.01537011e-02,  4.01468648e-02,\n",
       "       -1.06573761e-02, -1.15092269e-02,  3.74801606e-02,  4.63539810e-02,\n",
       "       -4.58431018e-02,  5.90265287e-03, -1.02271205e-03,  2.52967978e-02,\n",
       "        1.13778153e-02, -1.13778153e-02, -3.94688578e-01, -8.59401297e-02,\n",
       "        0.00000000e+00,  1.26234693e-01, -4.35334739e-02,  6.72326473e-02,\n",
       "       -1.72273060e-01,  0.00000000e+00,  1.69182864e-01, -4.29702313e-02,\n",
       "       -2.01108918e-01, -1.66580489e-01,  6.63148726e-01, -1.79043274e-01,\n",
       "       -4.25494823e-01, -3.29254485e-03, -1.45102680e-01, -5.74812424e-02,\n",
       "       -2.35301350e-02,  1.06388091e-01,  1.62638927e-01, -3.45084404e-01,\n",
       "        6.14391179e-02,  2.81189452e-01, -2.35896359e-01, -8.90300800e-02,\n",
       "        1.55036941e-01,  8.32400432e-02, -9.69081106e-02,  1.09274613e-01,\n",
       "        3.74621760e-01, -5.15379202e-01, -1.02476176e-01,  0.00000000e+00,\n",
       "        5.67554380e-02, -3.44775401e-02,  1.60031165e-01,  1.47376714e-02,\n",
       "       -1.00003200e-02, -2.65410515e-02, -2.92559078e-01,  1.12313737e-01,\n",
       "       -3.94333025e-02, -1.45238597e-01,  5.97973849e-02, -1.40025100e-01,\n",
       "        4.37987194e-01,  6.70069207e-03,  4.02018497e-01, -1.46689700e-01,\n",
       "        5.52998904e-02,  4.46345400e-03,  0.00000000e+00,  0.00000000e+00,\n",
       "        4.45620354e-01, -9.35146311e-02, -5.84418533e-02, -7.56507967e-02,\n",
       "       -1.84766393e-02, -2.16276877e-01,  9.36556206e-02,  1.36355534e-01,\n",
       "        9.41444375e-02,  1.54748436e-01,  2.43953487e-02, -1.61737357e-01,\n",
       "        2.40595257e-01, -3.42487822e-01, -3.70661956e-02, -1.66587277e-01,\n",
       "        4.71770063e-01,  4.05751852e-03, -1.68840313e-02,  1.86560297e-02,\n",
       "       -5.82951689e-03,  4.27475561e-02, -8.54116744e-03, -3.42063886e-02,\n",
       "        6.60596473e-02, -8.53613397e-03,  2.54472911e-02, -8.29708045e-02,\n",
       "       -2.02803399e-01, -2.02202567e-01,  1.09628111e+00, -4.96526478e-01,\n",
       "       -1.09271272e+00, -1.02203473e+00, -1.70767759e-01, -2.58264415e-01,\n",
       "       -3.15086487e-01,  8.28848252e-01,  1.23455403e+00, -2.51935343e-01,\n",
       "       -7.49182718e-02, -7.72242520e-01,  3.62101026e-01,  1.33771028e+00,\n",
       "        1.06291937e-01,  1.91072336e-01, -6.12269475e-03,  2.16938731e-02,\n",
       "        4.90852195e-02,  1.47987793e-01, -1.43488356e-01,  1.54474506e-01,\n",
       "        2.82635360e-01, -1.68935470e-01, -1.31244811e-01,  1.16594866e-01,\n",
       "       -6.20044560e-01,  2.78588081e-01,  3.65661734e-01,  0.00000000e+00,\n",
       "        0.00000000e+00,  0.00000000e+00, -1.81439953e-01,  0.00000000e+00,\n",
       "       -4.43417604e-02,  1.84212885e-01, -2.13820569e-01,  2.94527478e-01,\n",
       "       -1.16491899e-01, -8.19306301e-02,  3.40380032e-01,  2.13007688e-01,\n",
       "        4.62910623e-02, -3.92226373e-01, -3.28225530e-01, -1.45865304e-01,\n",
       "        1.01186529e-01,  3.90243203e-02,  2.18617057e-01,  2.62406532e-01,\n",
       "       -5.08126633e-01, -3.52374458e-02,  7.42924976e-02, -3.70489796e-01,\n",
       "        1.37916031e-02, -6.88023028e-02, -4.94547713e-02,  1.04465471e-01,\n",
       "        4.46822683e-01, -9.83659558e-02, -9.65213843e-02, -2.51935343e-01])"
      ]
     },
     "execution_count": 164,
     "metadata": {},
     "output_type": "execute_result"
    }
   ],
   "source": [
    "ridge_ppi.coef_"
   ]
  },
  {
   "cell_type": "code",
   "execution_count": 166,
   "metadata": {},
   "outputs": [
    {
     "data": {
      "text/html": [
       "<div>\n",
       "<style scoped>\n",
       "    .dataframe tbody tr th:only-of-type {\n",
       "        vertical-align: middle;\n",
       "    }\n",
       "\n",
       "    .dataframe tbody tr th {\n",
       "        vertical-align: top;\n",
       "    }\n",
       "\n",
       "    .dataframe thead th {\n",
       "        text-align: right;\n",
       "    }\n",
       "</style>\n",
       "<table border=\"1\" class=\"dataframe\">\n",
       "  <thead>\n",
       "    <tr style=\"text-align: right;\">\n",
       "      <th></th>\n",
       "      <th>0</th>\n",
       "      <th>1</th>\n",
       "    </tr>\n",
       "  </thead>\n",
       "  <tbody>\n",
       "    <tr>\n",
       "      <th>0</th>\n",
       "      <td>HHsizemembers</td>\n",
       "      <td>1.57422</td>\n",
       "    </tr>\n",
       "    <tr>\n",
       "      <th>1</th>\n",
       "      <td>Country_mali</td>\n",
       "      <td>1.33771</td>\n",
       "    </tr>\n",
       "    <tr>\n",
       "      <th>2</th>\n",
       "      <td>Country_honduras</td>\n",
       "      <td>1.23455</td>\n",
       "    </tr>\n",
       "    <tr>\n",
       "      <th>3</th>\n",
       "      <td>Country_burundi</td>\n",
       "      <td>1.09628</td>\n",
       "    </tr>\n",
       "    <tr>\n",
       "      <th>4</th>\n",
       "      <td>Country_guatemala</td>\n",
       "      <td>0.828848</td>\n",
       "    </tr>\n",
       "    <tr>\n",
       "      <th>5</th>\n",
       "      <td>crop_name_1_chilipepper</td>\n",
       "      <td>0.663149</td>\n",
       "    </tr>\n",
       "    <tr>\n",
       "      <th>6</th>\n",
       "      <td>crop_name_1_yam</td>\n",
       "      <td>0.47177</td>\n",
       "    </tr>\n",
       "    <tr>\n",
       "      <th>7</th>\n",
       "      <td>Head_EducationLevel_religiousschool</td>\n",
       "      <td>0.446823</td>\n",
       "    </tr>\n",
       "    <tr>\n",
       "      <th>8</th>\n",
       "      <td>crop_name_1_rambutan</td>\n",
       "      <td>0.44562</td>\n",
       "    </tr>\n",
       "    <tr>\n",
       "      <th>9</th>\n",
       "      <td>crop_name_1_passionfruit</td>\n",
       "      <td>0.437987</td>\n",
       "    </tr>\n",
       "    <tr>\n",
       "      <th>10</th>\n",
       "      <td>crop_name_1_peas</td>\n",
       "      <td>0.402018</td>\n",
       "    </tr>\n",
       "    <tr>\n",
       "      <th>11</th>\n",
       "      <td>crop_name_1_hybiscus</td>\n",
       "      <td>0.374622</td>\n",
       "    </tr>\n",
       "    <tr>\n",
       "      <th>12</th>\n",
       "      <td>HouseholdType_polygamous</td>\n",
       "      <td>0.365662</td>\n",
       "    </tr>\n",
       "    <tr>\n",
       "      <th>13</th>\n",
       "      <td>Country_malawi</td>\n",
       "      <td>0.362101</td>\n",
       "    </tr>\n",
       "    <tr>\n",
       "      <th>14</th>\n",
       "      <td>Head_EducationLevel_5alphabetisation</td>\n",
       "      <td>0.34038</td>\n",
       "    </tr>\n",
       "  </tbody>\n",
       "</table>\n",
       "</div>"
      ],
      "text/plain": [
       "                                       0         1\n",
       "0                          HHsizemembers   1.57422\n",
       "1                           Country_mali   1.33771\n",
       "2                       Country_honduras   1.23455\n",
       "3                        Country_burundi   1.09628\n",
       "4                      Country_guatemala  0.828848\n",
       "5                crop_name_1_chilipepper  0.663149\n",
       "6                        crop_name_1_yam   0.47177\n",
       "7    Head_EducationLevel_religiousschool  0.446823\n",
       "8                   crop_name_1_rambutan   0.44562\n",
       "9               crop_name_1_passionfruit  0.437987\n",
       "10                      crop_name_1_peas  0.402018\n",
       "11                  crop_name_1_hybiscus  0.374622\n",
       "12              HouseholdType_polygamous  0.365662\n",
       "13                        Country_malawi  0.362101\n",
       "14  Head_EducationLevel_5alphabetisation   0.34038"
      ]
     },
     "execution_count": 166,
     "metadata": {},
     "output_type": "execute_result"
    }
   ],
   "source": [
    "feature_imp_ppi  = pd.DataFrame([X_train.columns, ridge_ppi.coef_]).T\n",
    "feature_imp_ppi = feature_imp_ppi.sort_values(by = 1,ascending = False).reset_index(drop = True)\n",
    "feature_imp_ppi.iloc[0:15,:]"
   ]
  },
  {
   "cell_type": "code",
   "execution_count": 167,
   "metadata": {},
   "outputs": [
    {
     "data": {
      "text/html": [
       "<div>\n",
       "<style scoped>\n",
       "    .dataframe tbody tr th:only-of-type {\n",
       "        vertical-align: middle;\n",
       "    }\n",
       "\n",
       "    .dataframe tbody tr th {\n",
       "        vertical-align: top;\n",
       "    }\n",
       "\n",
       "    .dataframe thead th {\n",
       "        text-align: right;\n",
       "    }\n",
       "</style>\n",
       "<table border=\"1\" class=\"dataframe\">\n",
       "  <thead>\n",
       "    <tr style=\"text-align: right;\">\n",
       "      <th></th>\n",
       "      <th>0</th>\n",
       "      <th>1</th>\n",
       "      <th>0</th>\n",
       "      <th>1</th>\n",
       "    </tr>\n",
       "  </thead>\n",
       "  <tbody>\n",
       "    <tr>\n",
       "      <th>0</th>\n",
       "      <td>HHsizemembers</td>\n",
       "      <td>1.57422</td>\n",
       "      <td>livestock_prodsales_USD_PPP_pHH_Yr</td>\n",
       "      <td>0.896984</td>\n",
       "    </tr>\n",
       "    <tr>\n",
       "      <th>1</th>\n",
       "      <td>Country_mali</td>\n",
       "      <td>1.33771</td>\n",
       "      <td>crop_name_1_broadbeans</td>\n",
       "      <td>0.637538</td>\n",
       "    </tr>\n",
       "    <tr>\n",
       "      <th>2</th>\n",
       "      <td>Country_honduras</td>\n",
       "      <td>1.23455</td>\n",
       "      <td>Head_EducationLevel_none</td>\n",
       "      <td>0.511744</td>\n",
       "    </tr>\n",
       "    <tr>\n",
       "      <th>3</th>\n",
       "      <td>Country_burundi</td>\n",
       "      <td>1.09628</td>\n",
       "      <td>HouseholdType_nonparenthead</td>\n",
       "      <td>0.511083</td>\n",
       "    </tr>\n",
       "    <tr>\n",
       "      <th>4</th>\n",
       "      <td>Country_guatemala</td>\n",
       "      <td>0.828848</td>\n",
       "      <td>Head_EducationLevel_islamicschool</td>\n",
       "      <td>0.488995</td>\n",
       "    </tr>\n",
       "    <tr>\n",
       "      <th>5</th>\n",
       "      <td>crop_name_1_chilipepper</td>\n",
       "      <td>0.663149</td>\n",
       "      <td>HouseholdType_together</td>\n",
       "      <td>0.469186</td>\n",
       "    </tr>\n",
       "    <tr>\n",
       "      <th>6</th>\n",
       "      <td>crop_name_1_yam</td>\n",
       "      <td>0.47177</td>\n",
       "      <td>Country_india</td>\n",
       "      <td>0.417186</td>\n",
       "    </tr>\n",
       "    <tr>\n",
       "      <th>7</th>\n",
       "      <td>Head_EducationLevel_religiousschool</td>\n",
       "      <td>0.446823</td>\n",
       "      <td>Country_mali</td>\n",
       "      <td>0.41397</td>\n",
       "    </tr>\n",
       "    <tr>\n",
       "      <th>8</th>\n",
       "      <td>crop_name_1_rambutan</td>\n",
       "      <td>0.44562</td>\n",
       "      <td>crop_name_1_custardapple</td>\n",
       "      <td>0.373063</td>\n",
       "    </tr>\n",
       "    <tr>\n",
       "      <th>9</th>\n",
       "      <td>crop_name_1_passionfruit</td>\n",
       "      <td>0.437987</td>\n",
       "      <td>Country_burkinafaso</td>\n",
       "      <td>0.30399</td>\n",
       "    </tr>\n",
       "    <tr>\n",
       "      <th>10</th>\n",
       "      <td>crop_name_1_peas</td>\n",
       "      <td>0.402018</td>\n",
       "      <td>Country_uganda</td>\n",
       "      <td>0.299179</td>\n",
       "    </tr>\n",
       "    <tr>\n",
       "      <th>11</th>\n",
       "      <td>crop_name_1_hybiscus</td>\n",
       "      <td>0.374622</td>\n",
       "      <td>Country_malawi</td>\n",
       "      <td>0.2901</td>\n",
       "    </tr>\n",
       "    <tr>\n",
       "      <th>12</th>\n",
       "      <td>HouseholdType_polygamous</td>\n",
       "      <td>0.365662</td>\n",
       "      <td>HHsizeMAE</td>\n",
       "      <td>0.275139</td>\n",
       "    </tr>\n",
       "    <tr>\n",
       "      <th>13</th>\n",
       "      <td>Country_malawi</td>\n",
       "      <td>0.362101</td>\n",
       "      <td>crop_name_1_sugarcane</td>\n",
       "      <td>0.248741</td>\n",
       "    </tr>\n",
       "    <tr>\n",
       "      <th>14</th>\n",
       "      <td>Head_EducationLevel_5alphabetisation</td>\n",
       "      <td>0.34038</td>\n",
       "      <td>YEAR_2016</td>\n",
       "      <td>0.235341</td>\n",
       "    </tr>\n",
       "    <tr>\n",
       "      <th>15</th>\n",
       "      <td>Head_EducationLevel_15alplabetisation</td>\n",
       "      <td>0.294527</td>\n",
       "      <td>crop_name_1_watermelon</td>\n",
       "      <td>0.230157</td>\n",
       "    </tr>\n",
       "    <tr>\n",
       "      <th>16</th>\n",
       "      <td>HouseholdType_couplemanworksaway</td>\n",
       "      <td>0.282635</td>\n",
       "      <td>crop_name_1_oranges</td>\n",
       "      <td>0.229725</td>\n",
       "    </tr>\n",
       "    <tr>\n",
       "      <th>17</th>\n",
       "      <td>crop_name_1_fonio</td>\n",
       "      <td>0.281189</td>\n",
       "      <td>crop_name_1_oilpalm</td>\n",
       "      <td>0.2251</td>\n",
       "    </tr>\n",
       "    <tr>\n",
       "      <th>18</th>\n",
       "      <td>HouseholdType_other</td>\n",
       "      <td>0.278588</td>\n",
       "      <td>Country_zambia</td>\n",
       "      <td>0.222397</td>\n",
       "    </tr>\n",
       "    <tr>\n",
       "      <th>19</th>\n",
       "      <td>Head_EducationLevel_informal</td>\n",
       "      <td>0.262407</td>\n",
       "      <td>crop_name_1_flowers</td>\n",
       "      <td>0.221051</td>\n",
       "    </tr>\n",
       "  </tbody>\n",
       "</table>\n",
       "</div>"
      ],
      "text/plain": [
       "                                        0         1  \\\n",
       "0                           HHsizemembers   1.57422   \n",
       "1                            Country_mali   1.33771   \n",
       "2                        Country_honduras   1.23455   \n",
       "3                         Country_burundi   1.09628   \n",
       "4                       Country_guatemala  0.828848   \n",
       "5                 crop_name_1_chilipepper  0.663149   \n",
       "6                         crop_name_1_yam   0.47177   \n",
       "7     Head_EducationLevel_religiousschool  0.446823   \n",
       "8                    crop_name_1_rambutan   0.44562   \n",
       "9                crop_name_1_passionfruit  0.437987   \n",
       "10                       crop_name_1_peas  0.402018   \n",
       "11                   crop_name_1_hybiscus  0.374622   \n",
       "12               HouseholdType_polygamous  0.365662   \n",
       "13                         Country_malawi  0.362101   \n",
       "14   Head_EducationLevel_5alphabetisation   0.34038   \n",
       "15  Head_EducationLevel_15alplabetisation  0.294527   \n",
       "16       HouseholdType_couplemanworksaway  0.282635   \n",
       "17                      crop_name_1_fonio  0.281189   \n",
       "18                    HouseholdType_other  0.278588   \n",
       "19           Head_EducationLevel_informal  0.262407   \n",
       "\n",
       "                                     0         1  \n",
       "0   livestock_prodsales_USD_PPP_pHH_Yr  0.896984  \n",
       "1               crop_name_1_broadbeans  0.637538  \n",
       "2             Head_EducationLevel_none  0.511744  \n",
       "3          HouseholdType_nonparenthead  0.511083  \n",
       "4    Head_EducationLevel_islamicschool  0.488995  \n",
       "5               HouseholdType_together  0.469186  \n",
       "6                        Country_india  0.417186  \n",
       "7                         Country_mali   0.41397  \n",
       "8             crop_name_1_custardapple  0.373063  \n",
       "9                  Country_burkinafaso   0.30399  \n",
       "10                      Country_uganda  0.299179  \n",
       "11                      Country_malawi    0.2901  \n",
       "12                           HHsizeMAE  0.275139  \n",
       "13               crop_name_1_sugarcane  0.248741  \n",
       "14                           YEAR_2016  0.235341  \n",
       "15              crop_name_1_watermelon  0.230157  \n",
       "16                 crop_name_1_oranges  0.229725  \n",
       "17                 crop_name_1_oilpalm    0.2251  \n",
       "18                      Country_zambia  0.222397  \n",
       "19                 crop_name_1_flowers  0.221051  "
      ]
     },
     "execution_count": 167,
     "metadata": {},
     "output_type": "execute_result"
    }
   ],
   "source": [
    "pd.concat([feature_imp_ppi, feature_imp],axis = 1).iloc[0:20,:]"
   ]
  },
  {
   "cell_type": "code",
   "execution_count": null,
   "metadata": {},
   "outputs": [],
   "source": []
  },
  {
   "cell_type": "code",
   "execution_count": null,
   "metadata": {},
   "outputs": [],
   "source": []
  },
  {
   "cell_type": "code",
   "execution_count": null,
   "metadata": {},
   "outputs": [],
   "source": []
  }
 ],
 "metadata": {
  "kernelspec": {
   "display_name": "Python 3",
   "language": "python",
   "name": "python3"
  },
  "language_info": {
   "codemirror_mode": {
    "name": "ipython",
    "version": 3
   },
   "file_extension": ".py",
   "mimetype": "text/x-python",
   "name": "python",
   "nbconvert_exporter": "python",
   "pygments_lexer": "ipython3",
   "version": "3.7.6"
  }
 },
 "nbformat": 4,
 "nbformat_minor": 4
}
