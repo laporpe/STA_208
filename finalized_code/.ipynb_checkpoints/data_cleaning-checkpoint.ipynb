{
 "cells": [
  {
   "cell_type": "code",
   "execution_count": 1,
   "metadata": {},
   "outputs": [],
   "source": [
    "import numpy as np\n",
    "import pandas as pd"
   ]
  },
  {
   "cell_type": "code",
   "execution_count": 2,
   "metadata": {},
   "outputs": [],
   "source": [
    "def getNAs(df):\n",
    "\n",
    "    colNames = []\n",
    "    percentNA = []\n",
    "    for i in df.columns:\n",
    "        colNames.append(i)\n",
    "        numNA = df[i].isna().sum()\n",
    "        percent = (numNA/len(df))*100\n",
    "        percentNA.append(percent)\n",
    "        \n",
    "    colNames = pd.DataFrame(colNames)\n",
    "    colNames = colNames.rename(columns={0: \"label\"})\n",
    "    percentNA = pd.DataFrame(percentNA)\n",
    "    percentNA = percentNA.rename(columns={0: \"numNA\"})\n",
    "    d = pd.concat([colNames,percentNA], axis = 1).sort_values(by=['numNA'], ascending = False)\n",
    "\n",
    "        \n",
    "    return d"
   ]
  },
  {
   "cell_type": "code",
   "execution_count": 3,
   "metadata": {},
   "outputs": [],
   "source": [
    "def remove_columns(df, threshold_percent):\n",
    "    '''drop columns by a threshold (percentage of na)'''\n",
    "    data = getNAs(df)\n",
    "    column_names = data[data.numNA >= threshold_percent].label\n",
    "    clean_data = df.drop(column_names, axis = 1)\n",
    "    \n",
    "    return clean_data\n",
    "\n",
    "\n",
    "\n"
   ]
  },
  {
   "cell_type": "code",
   "execution_count": 4,
   "metadata": {},
   "outputs": [],
   "source": [
    "#convert all categories to lowercase, there is an issue with factor levels of y, n, N, Y for yes/no \n",
    "def entry_to_lowercase(df):\n",
    "    for i in df.columns:\n",
    "        if (df[i].dtype == \"O\"):\n",
    "            df[i] = semi_clean_crop[i].str.lower()\n",
    "    return df"
   ]
  },
  {
   "cell_type": "code",
   "execution_count": 5,
   "metadata": {},
   "outputs": [],
   "source": [
    "### identify which are categorical and which are numeric by looking at the factor levels\n",
    "## create dataframe with variable name, levels, number of categories and data types\n",
    "\n",
    "def id_data_types(df):\n",
    "    names = pd.DataFrame()\n",
    "    category = pd.DataFrame()\n",
    "    data_type = pd.DataFrame()\n",
    "    numUni = pd.DataFrame()\n",
    "\n",
    "    for i in df.columns:\n",
    "        \n",
    "        names = names.append({\"variable\": i},ignore_index = True)\n",
    "        category = category.append({\"category\": list(df[i].unique())}, ignore_index = True)\n",
    "        numUni = numUni.append({\"numUnique\": len(df[i].unique())}, ignore_index = True)\n",
    "        data_type = data_type.append({\"data_type\": df[i].dtype}, ignore_index = True)\n",
    "    \n",
    "    view_data = pd.concat([names, category, numUni,data_type],axis =1)\n",
    "    \n",
    "    return (view_data)"
   ]
  },
  {
   "cell_type": "code",
   "execution_count": 6,
   "metadata": {},
   "outputs": [],
   "source": [
    "def replace_na_with_NaN(df):\n",
    "    for i in df.columns:\n",
    "        df[i] = df[i].replace('na', np.NaN)\n",
    "    return df\n",
    "\n"
   ]
  },
  {
   "cell_type": "code",
   "execution_count": 7,
   "metadata": {},
   "outputs": [],
   "source": [
    "rhomis_data = pd.read_csv(\"/Users/anab/Documents/MS_UCDavis/STA208/project/RHoMIS_Full_Data.csv\", engine = \"python\")\n",
    "rh_indic = pd.read_csv(\"/Users/anab/Documents/MS_UCDavis/STA208/project/STA_208/data/RHoMIS_Indicators.csv\", engine='python')"
   ]
  },
  {
   "cell_type": "code",
   "execution_count": 8,
   "metadata": {},
   "outputs": [],
   "source": [
    "## final dataset, keep and drop these columns\n",
    "rhomis_data = rhomis_data[[\"crop_count\", \"crop_name_1\", \"crop_harvest_1\", \"crop_intercrop_1\"]]\n",
    "rh_indic = rh_indic.drop(['ITERATION','GPS_LAT', 'GPS_LON', 'GPS_ALT', 'Altitude','WorstFoodSecMonth',\n",
    "       'BestFoodSecMonth','FIES_Score',  'currency_conversion_factor', 'GHGEmissions' ],axis = 1)"
   ]
  },
  {
   "cell_type": "code",
   "execution_count": null,
   "metadata": {},
   "outputs": [],
   "source": [
    "bigData  = pd.concat([rhomis_data,rh_indic ],axis = 1)\n",
    "bigData = remove_columns(bigData, 50)\n",
    "bigData.head(3)\n",
    "\n",
    "\n",
    "bigData = replace_na_with_NaN(bigData)\n",
    "bigData.dtypes\n"
   ]
  },
  {
   "cell_type": "code",
   "execution_count": null,
   "metadata": {},
   "outputs": [],
   "source": [
    "a = bigData.select_dtypes('object')\n",
    "id_data_types(a.select_dtypes('object'))\n",
    "\n",
    "bigData.crop_count = bigData.crop_count.fillna(-500)\n",
    "bigData.crop_count = bigData.crop_count.astype(int)\n",
    "bigData.crop_count = bigData.crop_count.replace(-500, np.nan)"
   ]
  },
  {
   "cell_type": "code",
   "execution_count": null,
   "metadata": {},
   "outputs": [],
   "source": []
  },
  {
   "cell_type": "code",
   "execution_count": null,
   "metadata": {},
   "outputs": [],
   "source": []
  },
  {
   "cell_type": "code",
   "execution_count": null,
   "metadata": {},
   "outputs": [],
   "source": []
  },
  {
   "cell_type": "code",
   "execution_count": null,
   "metadata": {},
   "outputs": [],
   "source": []
  },
  {
   "cell_type": "code",
   "execution_count": null,
   "metadata": {},
   "outputs": [],
   "source": []
  },
  {
   "cell_type": "code",
   "execution_count": null,
   "metadata": {},
   "outputs": [],
   "source": []
  }
 ],
 "metadata": {
  "kernelspec": {
   "display_name": "Python 3",
   "language": "python",
   "name": "python3"
  },
  "language_info": {
   "codemirror_mode": {
    "name": "ipython",
    "version": 3
   },
   "file_extension": ".py",
   "mimetype": "text/x-python",
   "name": "python",
   "nbconvert_exporter": "python",
   "pygments_lexer": "ipython3",
   "version": "3.7.6"
  }
 },
 "nbformat": 4,
 "nbformat_minor": 4
}
