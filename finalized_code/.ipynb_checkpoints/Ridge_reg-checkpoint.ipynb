{
 "cells": [
  {
   "cell_type": "code",
   "execution_count": 6,
   "metadata": {},
   "outputs": [],
   "source": [
    "import numpy as np\n",
    "import pandas as pd"
   ]
  },
  {
   "cell_type": "code",
   "execution_count": 92,
   "metadata": {},
   "outputs": [
    {
     "data": {
      "text/plain": [
       "Index(['crop_count', 'crop_name_1', 'crop_harvest_1', 'crop_intercrop_1',\n",
       "       'ID_PROJ', 'ID_COUNTRY', 'YEAR', 'SURVEY_ID', 'ID_HH', 'Country',\n",
       "       'HHsizemembers', 'HHsizeMAE', 'HouseholdType', 'Head_EducationLevel',\n",
       "       'LandOwned', 'LandCultivated', 'LivestockHoldings',\n",
       "       'NrofMonthsFoodInsecure', 'PPI_Threshold', 'PPI_Likelihood',\n",
       "       'HFIAS_status', 'score_HDDS_GoodSeason',\n",
       "       'score_HDDS_farmbasedGoodSeason', 'score_HDDS_purchasedGoodSeason',\n",
       "       'score_HDDS_BadSeason', 'score_HDDS_farmbasedBadSeason',\n",
       "       'score_HDDS_purchasedBadSeason', 'TVA_USD_PPP_pmae_pday',\n",
       "       'total_income_USD_PPP_pHH_Yr', 'offfarm_income_USD_PPP_pHH_Yr',\n",
       "       'farm_income_USD_PPP_pHH_Yr', 'value_farm_produce_USD_PPP_pHH_Yr',\n",
       "       'crop_sales_USD_PPP_pHH_Yr', 'value_crop_produce_USD_PPP_pHH_Yr',\n",
       "       'value_crop_consumed_USD_PPP_pHH_Yr',\n",
       "       'livestock_prodsales_USD_PPP_pHH_Yr',\n",
       "       'value_livestock_production_USD_PPP_pHH_Yr',\n",
       "       'value_livestock_prod_consumed_USD_PPP_pHH_Yr', 'Market_Orientation',\n",
       "       'Livestock_Orientation', 'Food_Availability_kCal_MAE_day',\n",
       "       'Food_Self_Sufficiency_kCal_MAE_day', 'NrofMonthsWildFoodCons',\n",
       "       'Gender_MaleControl', 'Gender_FemaleControl', 'continent'],\n",
       "      dtype='object')"
      ]
     },
     "execution_count": 92,
     "metadata": {},
     "output_type": "execute_result"
    }
   ],
   "source": [
    "clean = pd.read_csv(\"/Users/anab/Documents/MS_UCDavis/STA208/project/STA_208/data/clean.csv\")\n",
    "clean.head()\n",
    "clean.columns"
   ]
  },
  {
   "cell_type": "code",
   "execution_count": 93,
   "metadata": {},
   "outputs": [],
   "source": [
    "from classes import Cleaning_Functions\n",
    "fun = Cleaning_Functions()"
   ]
  },
  {
   "cell_type": "code",
   "execution_count": 94,
   "metadata": {},
   "outputs": [],
   "source": [
    "market_data = fun.delete_id_columns(clean) #1\n",
    "market_data, pred_market = fun.drop_response_rows_with_NAs(market_data, \"Market_Orientation\", \"PPI_Likelihood\") #2\n",
    "market_data = fun.replace_NAN_with_na(market_data) #3\n",
    "market_data = fun.entry_to_lowercase(market_data) #4\n",
    "market_data = fun.remove_underscores_spaces(market_data) #5\n",
    "market_data = fun.convert_to_categorical(market_data) #6\n",
    "market_data = fun.impute_data(market_data)"
   ]
  },
  {
   "cell_type": "code",
   "execution_count": 95,
   "metadata": {
    "scrolled": true
   },
   "outputs": [
    {
     "data": {
      "text/plain": [
       "(2712, 40)"
      ]
     },
     "execution_count": 95,
     "metadata": {},
     "output_type": "execute_result"
    }
   ],
   "source": [
    " pred_market.shape"
   ]
  },
  {
   "cell_type": "markdown",
   "metadata": {},
   "source": [
    "## Ridge Regression y = Market orientation"
   ]
  },
  {
   "cell_type": "code",
   "execution_count": 96,
   "metadata": {},
   "outputs": [],
   "source": [
    "from sklearn.linear_model import RidgeCV\n",
    "from sklearn.linear_model import Ridge\n",
    "from sklearn.metrics import mean_squared_error\n",
    "from sklearn.model_selection import train_test_split"
   ]
  },
  {
   "cell_type": "markdown",
   "metadata": {},
   "source": [
    "### 1. create dummy"
   ]
  },
  {
   "cell_type": "code",
   "execution_count": 97,
   "metadata": {},
   "outputs": [],
   "source": [
    "def get_dummyXs_y(df, y_var):\n",
    "    \n",
    "    y = df[y_var]\n",
    "    X  = df.drop(y_var, axis = 1)\n",
    "    X_cat = X.select_dtypes(include = [\"category\", \"O\"])\n",
    "    X_num = X.select_dtypes(include=['float64', 'int64'])\n",
    "    \n",
    "    X_cat_dummy = pd.get_dummies(X_cat)\n",
    "    newX = pd.concat([X_num, X_cat_dummy], axis = 1)\n",
    "    \n",
    "    return newX, y"
   ]
  },
  {
   "cell_type": "code",
   "execution_count": 98,
   "metadata": {},
   "outputs": [],
   "source": [
    "X_market_ridge = get_dummyXs_y(market_data, \"Market_Orientation\")[0]\n",
    "y_market_ridge = get_dummyXs_y(market_data, \"Market_Orientation\")[1]"
   ]
  },
  {
   "cell_type": "code",
   "execution_count": 99,
   "metadata": {},
   "outputs": [],
   "source": [
    "X_train, X_test, y_train, y_test = train_test_split(X_market_ridge,y_market_ridge, test_size = 0.3, random_state = 2021)\n"
   ]
  },
  {
   "cell_type": "code",
   "execution_count": 100,
   "metadata": {},
   "outputs": [
    {
     "data": {
      "text/plain": [
       "0.01"
      ]
     },
     "execution_count": 100,
     "metadata": {},
     "output_type": "execute_result"
    }
   ],
   "source": [
    "ridge_cv=RidgeCV(alphas=np.arange(0.01,1,0.001))\n",
    "model_cv=ridge_cv.fit(X_train,y_train)\n",
    "model_cv.alpha_"
   ]
  },
  {
   "cell_type": "code",
   "execution_count": 101,
   "metadata": {},
   "outputs": [
    {
     "data": {
      "text/plain": [
       "0.48637505548690013"
      ]
     },
     "execution_count": 101,
     "metadata": {},
     "output_type": "execute_result"
    }
   ],
   "source": [
    "#refit model with alpha =3 and get score\n",
    "rir = Ridge(alpha = 0.01)\n",
    "rir.fit(X_train,y_train)\n",
    "y_pred_ridge = rir.predict(X_test)\n",
    "MSE_ridge_market = mean_squared_error(y_test,y_pred_ridge)\n",
    "MSE_ridge_market"
   ]
  },
  {
   "cell_type": "code",
   "execution_count": 114,
   "metadata": {},
   "outputs": [
    {
     "data": {
      "text/plain": [
       "((173,), (7418, 179))"
      ]
     },
     "execution_count": 114,
     "metadata": {},
     "output_type": "execute_result"
    }
   ],
   "source": [
    "rir.coef_.shape, X_train.shape"
   ]
  },
  {
   "cell_type": "code",
   "execution_count": null,
   "metadata": {},
   "outputs": [],
   "source": [
    "print(list(zip(rir.coef_, rir._features)))"
   ]
  },
  {
   "cell_type": "code",
   "execution_count": 109,
   "metadata": {},
   "outputs": [],
   "source": [
    "import statsmodels.api as sm"
   ]
  },
  {
   "cell_type": "code",
   "execution_count": 119,
   "metadata": {},
   "outputs": [
    {
     "ename": "TypeError",
     "evalue": "'float' object is not callable",
     "output_type": "error",
     "traceback": [
      "\u001b[0;31m---------------------------------------------------------------------------\u001b[0m",
      "\u001b[0;31mTypeError\u001b[0m                                 Traceback (most recent call last)",
      "\u001b[0;32m<ipython-input-119-ee7f73dc9427>\u001b[0m in \u001b[0;36m<module>\u001b[0;34m\u001b[0m\n\u001b[0;32m----> 1\u001b[0;31m \u001b[0mrir\u001b[0m\u001b[0;34m.\u001b[0m\u001b[0mtol\u001b[0m\u001b[0;34m(\u001b[0m\u001b[0;34m)\u001b[0m\u001b[0;34m\u001b[0m\u001b[0;34m\u001b[0m\u001b[0m\n\u001b[0m",
      "\u001b[0;31mTypeError\u001b[0m: 'float' object is not callable"
     ]
    }
   ],
   "source": [
    "rir.tol()"
   ]
  },
  {
   "cell_type": "code",
   "execution_count": null,
   "metadata": {},
   "outputs": [],
   "source": []
  },
  {
   "cell_type": "code",
   "execution_count": null,
   "metadata": {},
   "outputs": [],
   "source": []
  },
  {
   "cell_type": "markdown",
   "metadata": {},
   "source": [
    "## Ridge regression with y=PPI_Likelihood"
   ]
  },
  {
   "cell_type": "code",
   "execution_count": 120,
   "metadata": {},
   "outputs": [],
   "source": [
    "clean = pd.read_csv(\"/Users/anab/Documents/MS_UCDavis/STA208/project/STA_208/data/clean.csv\")"
   ]
  },
  {
   "cell_type": "code",
   "execution_count": 121,
   "metadata": {},
   "outputs": [],
   "source": [
    "from classes import Cleaning_Functions\n",
    "fun = Cleaning_Functions()"
   ]
  },
  {
   "cell_type": "code",
   "execution_count": 122,
   "metadata": {},
   "outputs": [],
   "source": [
    "ppi_data = fun.delete_id_columns(clean) #1\n",
    "ppi_data, pred_market = fun.drop_response_rows_with_NAs(ppi_data,\"PPI_Likelihood\" ,\"Market_Orientation\") #2\n",
    "ppi_data = fun.replace_NAN_with_na(ppi_data) #3\n",
    "ppi_data = fun.entry_to_lowercase(ppi_data) #4\n",
    "ppi_data = fun.remove_underscores_spaces(ppi_data) #5\n",
    "ppi_data = fun.convert_to_categorical(ppi_data) #6\n",
    "ppi_data = fun.impute_data(ppi_data)#7"
   ]
  },
  {
   "cell_type": "code",
   "execution_count": 123,
   "metadata": {},
   "outputs": [],
   "source": [
    "X_ppi_ridge = get_dummyXs_y(ppi_data, \"PPI_Likelihood\")[0]\n",
    "y_ppi_ridge = get_dummyXs_y(ppi_data, \"PPI_Likelihood\")[1]"
   ]
  },
  {
   "cell_type": "code",
   "execution_count": 124,
   "metadata": {},
   "outputs": [],
   "source": [
    "X_train_ppi, X_test_ppi, y_train_ppi, y_test_ppi = train_test_split(X_ppi_ridge,y_ppi_ridge, test_size = 0.3, random_state = 2021)"
   ]
  },
  {
   "cell_type": "code",
   "execution_count": 137,
   "metadata": {},
   "outputs": [
    {
     "data": {
      "text/plain": [
       "0.01"
      ]
     },
     "execution_count": 137,
     "metadata": {},
     "output_type": "execute_result"
    }
   ],
   "source": [
    "ppi_ridge_cv=RidgeCV(alphas=np.arange(0.01,20,0.1))\n",
    "ppi_model_cv=ppi_ridge_cv.fit(X_train_ppi,y_train_ppi)\n",
    "ppi_model_cv.alpha_"
   ]
  },
  {
   "cell_type": "code",
   "execution_count": 126,
   "metadata": {},
   "outputs": [
    {
     "data": {
      "text/plain": [
       "444.7761019609122"
      ]
     },
     "execution_count": 126,
     "metadata": {},
     "output_type": "execute_result"
    }
   ],
   "source": [
    "#refit model with alpha =3 and get score\n",
    "ridge_ppi = Ridge(alpha = 0.01)\n",
    "ridge_ppi.fit(X_train_ppi,y_train_ppi)\n",
    "y_pred_ridge_ppi = rir.predict(X_test_ppi)\n",
    "MSE_ridge_ppi = np.mean((y_pred_ridge_ppi-np.array(y_test_ppi))**2)\n",
    "MSE_ridge_ppi"
   ]
  },
  {
   "cell_type": "code",
   "execution_count": null,
   "metadata": {},
   "outputs": [],
   "source": [
    "search.best_estimator_.named_steps['model'].coef_"
   ]
  },
  {
   "cell_type": "code",
   "execution_count": 135,
   "metadata": {},
   "outputs": [
    {
     "data": {
      "text/plain": [
       "173"
      ]
     },
     "execution_count": 135,
     "metadata": {},
     "output_type": "execute_result"
    }
   ],
   "source": [
    "len(ridge_ppi.coef_)"
   ]
  },
  {
   "cell_type": "code",
   "execution_count": 136,
   "metadata": {},
   "outputs": [
    {
     "data": {
      "text/plain": [
       "(7786, 173)"
      ]
     },
     "execution_count": 136,
     "metadata": {},
     "output_type": "execute_result"
    }
   ],
   "source": [
    "X_train_ppi.shape"
   ]
  },
  {
   "cell_type": "code",
   "execution_count": 139,
   "metadata": {},
   "outputs": [
    {
     "ename": "AttributeError",
     "evalue": "'Ridge' object has no attribute 'describe'",
     "output_type": "error",
     "traceback": [
      "\u001b[0;31m---------------------------------------------------------------------------\u001b[0m",
      "\u001b[0;31mAttributeError\u001b[0m                            Traceback (most recent call last)",
      "\u001b[0;32m<ipython-input-139-e6ed0b50426e>\u001b[0m in \u001b[0;36m<module>\u001b[0;34m\u001b[0m\n\u001b[0;32m----> 1\u001b[0;31m \u001b[0mridge_ppi\u001b[0m\u001b[0;34m.\u001b[0m\u001b[0mdescribe\u001b[0m\u001b[0;34m(\u001b[0m\u001b[0;34m)\u001b[0m\u001b[0;34m\u001b[0m\u001b[0;34m\u001b[0m\u001b[0m\n\u001b[0m",
      "\u001b[0;31mAttributeError\u001b[0m: 'Ridge' object has no attribute 'describe'"
     ]
    }
   ],
   "source": [
    "ridge_ppi.describe()"
   ]
  },
  {
   "cell_type": "code",
   "execution_count": null,
   "metadata": {},
   "outputs": [],
   "source": []
  }
 ],
 "metadata": {
  "kernelspec": {
   "display_name": "Python 3",
   "language": "python",
   "name": "python3"
  },
  "language_info": {
   "codemirror_mode": {
    "name": "ipython",
    "version": 3
   },
   "file_extension": ".py",
   "mimetype": "text/x-python",
   "name": "python",
   "nbconvert_exporter": "python",
   "pygments_lexer": "ipython3",
   "version": "3.8.5"
  }
 },
 "nbformat": 4,
 "nbformat_minor": 4
}
