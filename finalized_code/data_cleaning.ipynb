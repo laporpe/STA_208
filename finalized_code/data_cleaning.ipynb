{
 "cells": [
  {
   "cell_type": "code",
   "execution_count": 2,
   "metadata": {},
   "outputs": [],
   "source": [
    "import numpy as np\n",
    "import pandas as pd"
   ]
  },
  {
   "cell_type": "code",
   "execution_count": 3,
   "metadata": {},
   "outputs": [],
   "source": [
    "def getNAs(df):\n",
    "\n",
    "    colNames = []\n",
    "    percentNA = []\n",
    "    for i in df.columns:\n",
    "        colNames.append(i)\n",
    "        numNA = df[i].isna().sum()\n",
    "        percent = (numNA/len(df))*100\n",
    "        percentNA.append(percent)\n",
    "        \n",
    "    colNames = pd.DataFrame(colNames)\n",
    "    colNames = colNames.rename(columns={0: \"label\"})\n",
    "    percentNA = pd.DataFrame(percentNA)\n",
    "    percentNA = percentNA.rename(columns={0: \"numNA\"})\n",
    "    d = pd.concat([colNames,percentNA], axis = 1).sort_values(by=['numNA'], ascending = False)\n",
    "\n",
    "        \n",
    "    return d"
   ]
  },
  {
   "cell_type": "code",
   "execution_count": 4,
   "metadata": {},
   "outputs": [],
   "source": [
    "def remove_columns(df, threshold_percent):\n",
    "    '''drop columns by a threshold (percentage of na)'''\n",
    "    data = getNAs(df)\n",
    "    column_names = data[data.numNA >= threshold_percent].label\n",
    "    clean_data = df.drop(column_names, axis = 1)\n",
    "    \n",
    "    return clean_data\n",
    "\n",
    "\n",
    "\n"
   ]
  },
  {
   "cell_type": "code",
   "execution_count": 5,
   "metadata": {},
   "outputs": [],
   "source": [
    "#convert all categories to lowercase, there is an issue with factor levels of y, n, N, Y for yes/no \n",
    "def entry_to_lowercase(df):\n",
    "    for i in df.columns:\n",
    "        if (df[i].dtype == \"O\"):\n",
    "            df[i] = semi_clean_crop[i].str.lower()\n",
    "    return df"
   ]
  },
  {
   "cell_type": "code",
   "execution_count": 6,
   "metadata": {},
   "outputs": [],
   "source": [
    "### identify which are categorical and which are numeric by looking at the factor levels\n",
    "## create dataframe with variable name, levels, number of categories and data types\n",
    "\n",
    "def id_data_types(df):\n",
    "    names = pd.DataFrame()\n",
    "    category = pd.DataFrame()\n",
    "    data_type = pd.DataFrame()\n",
    "    numUni = pd.DataFrame()\n",
    "\n",
    "    for i in df.columns:\n",
    "        \n",
    "        names = names.append({\"variable\": i},ignore_index = True)\n",
    "        category = category.append({\"category\": list(df[i].unique())}, ignore_index = True)\n",
    "        numUni = numUni.append({\"numUnique\": len(df[i].unique())}, ignore_index = True)\n",
    "        data_type = data_type.append({\"data_type\": df[i].dtype}, ignore_index = True)\n",
    "    \n",
    "    view_data = pd.concat([names, category, numUni,data_type],axis =1)\n",
    "    \n",
    "    return (view_data)"
   ]
  },
  {
   "cell_type": "code",
   "execution_count": 7,
   "metadata": {},
   "outputs": [],
   "source": [
    "def replace_na_with_NaN(df):\n",
    "    for i in df.columns:\n",
    "        df[i] = df[i].replace('na', np.NaN)\n",
    "    return df\n",
    "\n"
   ]
  },
  {
   "cell_type": "code",
   "execution_count": 8,
   "metadata": {},
   "outputs": [],
   "source": [
    "rhomis_data = pd.read_csv(\"/Users/anab/Documents/MS_UCDavis/STA208/project/RHoMIS_Full_Data.csv\", engine = \"python\")\n",
    "rh_indic = pd.read_csv(\"/Users/anab/Documents/MS_UCDavis/STA208/project/STA_208/data/RHoMIS_Indicators.csv\", engine='python')"
   ]
  },
  {
   "cell_type": "code",
   "execution_count": 9,
   "metadata": {},
   "outputs": [],
   "source": [
    "## final dataset, keep and drop these columns\n",
    "rhomis_data = rhomis_data[[\"crop_count\", \"crop_name_1\", \"crop_harvest_1\", \"crop_intercrop_1\"]]\n",
    "rh_indic = rh_indic.drop(['ITERATION','GPS_LAT', 'GPS_LON', 'GPS_ALT', 'Altitude','WorstFoodSecMonth',\n",
    "       'BestFoodSecMonth','FIES_Score',  'currency_conversion_factor', 'GHGEmissions' ],axis = 1)"
   ]
  },
  {
   "cell_type": "code",
   "execution_count": 10,
   "metadata": {},
   "outputs": [
    {
     "data": {
      "text/plain": [
       "crop_count                                       object\n",
       "crop_name_1                                      object\n",
       "crop_harvest_1                                   object\n",
       "crop_intercrop_1                                 object\n",
       "ID_PROJ                                          object\n",
       "ID_COUNTRY                                       object\n",
       "YEAR                                              int64\n",
       "SURVEY_ID                                        object\n",
       "ID_HH                                            object\n",
       "Country                                          object\n",
       "HHsizemembers                                     int64\n",
       "HHsizeMAE                                       float64\n",
       "HouseholdType                                    object\n",
       "Head_EducationLevel                              object\n",
       "LandOwned                                       float64\n",
       "LandCultivated                                  float64\n",
       "LivestockHoldings                               float64\n",
       "NrofMonthsFoodInsecure                            int64\n",
       "PPI_Threshold                                   float64\n",
       "PPI_Likelihood                                  float64\n",
       "HFIAS_status                                     object\n",
       "score_HDDS_GoodSeason                             int64\n",
       "score_HDDS_farmbasedGoodSeason                    int64\n",
       "score_HDDS_purchasedGoodSeason                    int64\n",
       "score_HDDS_BadSeason                              int64\n",
       "score_HDDS_farmbasedBadSeason                     int64\n",
       "score_HDDS_purchasedBadSeason                     int64\n",
       "TVA_USD_PPP_pmae_pday                           float64\n",
       "total_income_USD_PPP_pHH_Yr                     float64\n",
       "offfarm_income_USD_PPP_pHH_Yr                   float64\n",
       "farm_income_USD_PPP_pHH_Yr                      float64\n",
       "value_farm_produce_USD_PPP_pHH_Yr               float64\n",
       "crop_sales_USD_PPP_pHH_Yr                       float64\n",
       "value_crop_produce_USD_PPP_pHH_Yr               float64\n",
       "value_crop_consumed_USD_PPP_pHH_Yr              float64\n",
       "livestock_prodsales_USD_PPP_pHH_Yr              float64\n",
       "value_livestock_production_USD_PPP_pHH_Yr       float64\n",
       "value_livestock_prod_consumed_USD_PPP_pHH_Yr    float64\n",
       "Market_Orientation                              float64\n",
       "Livestock_Orientation                           float64\n",
       "Food_Availability_kCal_MAE_day                  float64\n",
       "Food_Self_Sufficiency_kCal_MAE_day              float64\n",
       "NrofMonthsWildFoodCons                            int64\n",
       "Gender_MaleControl                              float64\n",
       "Gender_FemaleControl                            float64\n",
       "dtype: object"
      ]
     },
     "execution_count": 10,
     "metadata": {},
     "output_type": "execute_result"
    }
   ],
   "source": [
    "bigData  = pd.concat([rhomis_data,rh_indic ],axis = 1)\n",
    "bigData = remove_columns(bigData, 50)\n",
    "bigData.head(3)\n",
    "\n",
    "\n",
    "bigData = replace_na_with_NaN(bigData)\n",
    "bigData.dtypes\n"
   ]
  },
  {
   "cell_type": "code",
   "execution_count": 11,
   "metadata": {},
   "outputs": [],
   "source": [
    "a = bigData.select_dtypes('object')\n",
    "id_data_types(a.select_dtypes('object'))\n",
    "\n",
    "bigData.crop_count = bigData.crop_count.fillna(-500)\n",
    "bigData.crop_count = bigData.crop_count.astype(int)\n",
    "bigData.crop_count = bigData.crop_count.replace(-500, np.nan)"
   ]
  },
  {
   "cell_type": "code",
   "execution_count": 12,
   "metadata": {},
   "outputs": [
    {
     "data": {
      "text/plain": [
       "array(['Tanzania', 'Guatemala', 'Honduras', 'El_Salvador', 'Mali',\n",
       "       'Burkina_Faso', 'Malawi', 'Kenya', 'India', 'Cambodia', 'Vietnam',\n",
       "       'LaoPDR', 'Ethiopia', 'DRC', 'Zambia', 'Ghana', 'Uganda',\n",
       "       'Costa_Rica', 'Burundi', 'Peru', 'Nicaragua'], dtype=object)"
      ]
     },
     "execution_count": 12,
     "metadata": {},
     "output_type": "execute_result"
    }
   ],
   "source": [
    "bigData[\"continent\"] = 0\n",
    "bigData['Country'].unique()"
   ]
  },
  {
   "cell_type": "code",
   "execution_count": 14,
   "metadata": {},
   "outputs": [
    {
     "data": {
      "text/plain": [
       "0        africa\n",
       "1        africa\n",
       "2        africa\n",
       "3        africa\n",
       "4        africa\n",
       "          ...  \n",
       "10831    africa\n",
       "10832    africa\n",
       "10833    africa\n",
       "10834    africa\n",
       "10835    africa\n",
       "Name: continent, Length: 2508, dtype: object"
      ]
     },
     "execution_count": 14,
     "metadata": {},
     "output_type": "execute_result"
    }
   ],
   "source": [
    "bigData.continent[bigData.Country == 'Tanzania']"
   ]
  },
  {
   "cell_type": "code",
   "execution_count": 13,
   "metadata": {},
   "outputs": [
    {
     "name": "stderr",
     "output_type": "stream",
     "text": [
      "/opt/anaconda3/lib/python3.7/site-packages/ipykernel_launcher.py:1: SettingWithCopyWarning: \n",
      "A value is trying to be set on a copy of a slice from a DataFrame\n",
      "\n",
      "See the caveats in the documentation: https://pandas.pydata.org/pandas-docs/stable/user_guide/indexing.html#returning-a-view-versus-a-copy\n",
      "  \"\"\"Entry point for launching an IPython kernel.\n",
      "/opt/anaconda3/lib/python3.7/site-packages/ipykernel_launcher.py:2: SettingWithCopyWarning: \n",
      "A value is trying to be set on a copy of a slice from a DataFrame\n",
      "\n",
      "See the caveats in the documentation: https://pandas.pydata.org/pandas-docs/stable/user_guide/indexing.html#returning-a-view-versus-a-copy\n",
      "  \n",
      "/opt/anaconda3/lib/python3.7/site-packages/ipykernel_launcher.py:3: SettingWithCopyWarning: \n",
      "A value is trying to be set on a copy of a slice from a DataFrame\n",
      "\n",
      "See the caveats in the documentation: https://pandas.pydata.org/pandas-docs/stable/user_guide/indexing.html#returning-a-view-versus-a-copy\n",
      "  This is separate from the ipykernel package so we can avoid doing imports until\n",
      "/opt/anaconda3/lib/python3.7/site-packages/ipykernel_launcher.py:4: SettingWithCopyWarning: \n",
      "A value is trying to be set on a copy of a slice from a DataFrame\n",
      "\n",
      "See the caveats in the documentation: https://pandas.pydata.org/pandas-docs/stable/user_guide/indexing.html#returning-a-view-versus-a-copy\n",
      "  after removing the cwd from sys.path.\n",
      "/opt/anaconda3/lib/python3.7/site-packages/ipykernel_launcher.py:5: SettingWithCopyWarning: \n",
      "A value is trying to be set on a copy of a slice from a DataFrame\n",
      "\n",
      "See the caveats in the documentation: https://pandas.pydata.org/pandas-docs/stable/user_guide/indexing.html#returning-a-view-versus-a-copy\n",
      "  \"\"\"\n",
      "/opt/anaconda3/lib/python3.7/site-packages/ipykernel_launcher.py:6: SettingWithCopyWarning: \n",
      "A value is trying to be set on a copy of a slice from a DataFrame\n",
      "\n",
      "See the caveats in the documentation: https://pandas.pydata.org/pandas-docs/stable/user_guide/indexing.html#returning-a-view-versus-a-copy\n",
      "  \n",
      "/opt/anaconda3/lib/python3.7/site-packages/ipykernel_launcher.py:7: SettingWithCopyWarning: \n",
      "A value is trying to be set on a copy of a slice from a DataFrame\n",
      "\n",
      "See the caveats in the documentation: https://pandas.pydata.org/pandas-docs/stable/user_guide/indexing.html#returning-a-view-versus-a-copy\n",
      "  import sys\n",
      "/opt/anaconda3/lib/python3.7/site-packages/ipykernel_launcher.py:8: SettingWithCopyWarning: \n",
      "A value is trying to be set on a copy of a slice from a DataFrame\n",
      "\n",
      "See the caveats in the documentation: https://pandas.pydata.org/pandas-docs/stable/user_guide/indexing.html#returning-a-view-versus-a-copy\n",
      "  \n",
      "/opt/anaconda3/lib/python3.7/site-packages/ipykernel_launcher.py:9: SettingWithCopyWarning: \n",
      "A value is trying to be set on a copy of a slice from a DataFrame\n",
      "\n",
      "See the caveats in the documentation: https://pandas.pydata.org/pandas-docs/stable/user_guide/indexing.html#returning-a-view-versus-a-copy\n",
      "  if __name__ == '__main__':\n",
      "/opt/anaconda3/lib/python3.7/site-packages/ipykernel_launcher.py:10: SettingWithCopyWarning: \n",
      "A value is trying to be set on a copy of a slice from a DataFrame\n",
      "\n",
      "See the caveats in the documentation: https://pandas.pydata.org/pandas-docs/stable/user_guide/indexing.html#returning-a-view-versus-a-copy\n",
      "  # Remove the CWD from sys.path while we load stuff.\n",
      "/opt/anaconda3/lib/python3.7/site-packages/ipykernel_launcher.py:11: SettingWithCopyWarning: \n",
      "A value is trying to be set on a copy of a slice from a DataFrame\n",
      "\n",
      "See the caveats in the documentation: https://pandas.pydata.org/pandas-docs/stable/user_guide/indexing.html#returning-a-view-versus-a-copy\n",
      "  # This is added back by InteractiveShellApp.init_path()\n",
      "/opt/anaconda3/lib/python3.7/site-packages/ipykernel_launcher.py:12: SettingWithCopyWarning: \n",
      "A value is trying to be set on a copy of a slice from a DataFrame\n",
      "\n",
      "See the caveats in the documentation: https://pandas.pydata.org/pandas-docs/stable/user_guide/indexing.html#returning-a-view-versus-a-copy\n",
      "  if sys.path[0] == '':\n",
      "/opt/anaconda3/lib/python3.7/site-packages/ipykernel_launcher.py:13: SettingWithCopyWarning: \n",
      "A value is trying to be set on a copy of a slice from a DataFrame\n",
      "\n",
      "See the caveats in the documentation: https://pandas.pydata.org/pandas-docs/stable/user_guide/indexing.html#returning-a-view-versus-a-copy\n",
      "  del sys.path[0]\n",
      "/opt/anaconda3/lib/python3.7/site-packages/ipykernel_launcher.py:14: SettingWithCopyWarning: \n",
      "A value is trying to be set on a copy of a slice from a DataFrame\n",
      "\n",
      "See the caveats in the documentation: https://pandas.pydata.org/pandas-docs/stable/user_guide/indexing.html#returning-a-view-versus-a-copy\n",
      "  \n",
      "/opt/anaconda3/lib/python3.7/site-packages/ipykernel_launcher.py:15: SettingWithCopyWarning: \n",
      "A value is trying to be set on a copy of a slice from a DataFrame\n",
      "\n",
      "See the caveats in the documentation: https://pandas.pydata.org/pandas-docs/stable/user_guide/indexing.html#returning-a-view-versus-a-copy\n",
      "  from ipykernel import kernelapp as app\n",
      "/opt/anaconda3/lib/python3.7/site-packages/ipykernel_launcher.py:16: SettingWithCopyWarning: \n",
      "A value is trying to be set on a copy of a slice from a DataFrame\n",
      "\n",
      "See the caveats in the documentation: https://pandas.pydata.org/pandas-docs/stable/user_guide/indexing.html#returning-a-view-versus-a-copy\n",
      "  app.launch_new_instance()\n",
      "/opt/anaconda3/lib/python3.7/site-packages/ipykernel_launcher.py:17: SettingWithCopyWarning: \n",
      "A value is trying to be set on a copy of a slice from a DataFrame\n",
      "\n",
      "See the caveats in the documentation: https://pandas.pydata.org/pandas-docs/stable/user_guide/indexing.html#returning-a-view-versus-a-copy\n",
      "/opt/anaconda3/lib/python3.7/site-packages/ipykernel_launcher.py:18: SettingWithCopyWarning: \n",
      "A value is trying to be set on a copy of a slice from a DataFrame\n",
      "\n",
      "See the caveats in the documentation: https://pandas.pydata.org/pandas-docs/stable/user_guide/indexing.html#returning-a-view-versus-a-copy\n",
      "/opt/anaconda3/lib/python3.7/site-packages/ipykernel_launcher.py:19: SettingWithCopyWarning: \n",
      "A value is trying to be set on a copy of a slice from a DataFrame\n",
      "\n",
      "See the caveats in the documentation: https://pandas.pydata.org/pandas-docs/stable/user_guide/indexing.html#returning-a-view-versus-a-copy\n",
      "/opt/anaconda3/lib/python3.7/site-packages/ipykernel_launcher.py:20: SettingWithCopyWarning: \n",
      "A value is trying to be set on a copy of a slice from a DataFrame\n",
      "\n",
      "See the caveats in the documentation: https://pandas.pydata.org/pandas-docs/stable/user_guide/indexing.html#returning-a-view-versus-a-copy\n",
      "/opt/anaconda3/lib/python3.7/site-packages/ipykernel_launcher.py:21: SettingWithCopyWarning: \n",
      "A value is trying to be set on a copy of a slice from a DataFrame\n",
      "\n",
      "See the caveats in the documentation: https://pandas.pydata.org/pandas-docs/stable/user_guide/indexing.html#returning-a-view-versus-a-copy\n"
     ]
    }
   ],
   "source": [
    "bigData.continent[bigData.Country == 'Tanzania'] = \"africa\"\n",
    "\n",
    "\n",
    "bigData.continent[bigData.Country == \"Guatemala\"] = \"central_america\"\n",
    "bigData.continent[bigData.Country == \"Honduras\"] = \"central_america\"\n",
    "bigData.continent[bigData.Country == \"El_Salvador\"] = \"central_america\"\n",
    "bigData.continent[bigData.Country == \"Mali\"] = \"africa\"\n",
    "bigData.continent[bigData.Country == \"Burkina_Faso\"] = \"africa\"\n",
    "bigData.continent[bigData.Country == \"Malawi\"] = \"africa\"\n",
    "bigData.continent[bigData.Country == \"Kenya\"] = \"africa\"\n",
    "bigData.continent[bigData.Country == \"India\"] = \"asia\"\n",
    "bigData.continent[bigData.Country == \"Cambodia\"] = \"asia\"\n",
    "bigData.continent[bigData.Country == \"Vietnam\"] = \"asia\"\n",
    "bigData.continent[bigData.Country == \"LaoPDR\"] = \"asia\"\n",
    "bigData.continent[bigData.Country == \"Ethiopia\"] = \"africa\"\n",
    "bigData.continent[bigData.Country == \"DRC\"] = \"africa\"\n",
    "bigData.continent[bigData.Country == \"Zambia\"] = \"africa\"\n",
    "bigData.continent[bigData.Country == \"Ghana\"] = \"africa\"\n",
    "bigData.continent[bigData.Country == \"Uganda\"] = \"africa\"\n",
    "bigData.continent[bigData.Country == \"Costa_Rica\"] = \"central_america\"\n",
    "bigData.continent[bigData.Country == \"Burundi\"] = \"africa\"\n",
    "bigData.continent[bigData.Country == \"Peru\"] = \"south_america\"\n",
    "bigData.continent[bigData.Country == \"Nicaragua\"] = \"central_america\""
   ]
  },
  {
   "cell_type": "code",
   "execution_count": null,
   "metadata": {},
   "outputs": [],
   "source": []
  },
  {
   "cell_type": "code",
   "execution_count": 16,
   "metadata": {},
   "outputs": [
    {
     "data": {
      "text/plain": [
       "array([nan, 'intercrop', 'monoculture'], dtype=object)"
      ]
     },
     "execution_count": 16,
     "metadata": {},
     "output_type": "execute_result"
    }
   ],
   "source": [
    "bigData.crop_intercrop_1.unique() #category "
   ]
  },
  {
   "cell_type": "code",
   "execution_count": 18,
   "metadata": {},
   "outputs": [
    {
     "data": {
      "text/plain": [
       "array([nan, 'bad_harvest', 'good_harvest', 'normal_harvest'], dtype=object)"
      ]
     },
     "execution_count": 18,
     "metadata": {},
     "output_type": "execute_result"
    }
   ],
   "source": [
    "bigData.crop_harvest_1.unique() #category"
   ]
  },
  {
   "cell_type": "code",
   "execution_count": 22,
   "metadata": {},
   "outputs": [
    {
     "data": {
      "text/plain": [
       "array([2015, 2016, 2017, 2018])"
      ]
     },
     "execution_count": 22,
     "metadata": {},
     "output_type": "execute_result"
    }
   ],
   "source": [
    "bigData.YEAR.unique() # category "
   ]
  },
  {
   "cell_type": "code",
   "execution_count": 26,
   "metadata": {},
   "outputs": [],
   "source": [
    "# convert these to categories\n",
    "bigData.crop_intercrop_1 = bigData.crop_intercrop_1.astype('category')\n",
    "\n",
    "bigData.crop_harvest_1 = bigData.crop_harvest_1.astype('category')\n",
    "\n",
    "bigData.YEAR = bigData.YEAR.astype('category')"
   ]
  },
  {
   "cell_type": "code",
   "execution_count": 27,
   "metadata": {},
   "outputs": [
    {
     "data": {
      "text/plain": [
       "crop_count                                       float64\n",
       "crop_name_1                                       object\n",
       "crop_harvest_1                                  category\n",
       "crop_intercrop_1                                category\n",
       "ID_PROJ                                           object\n",
       "ID_COUNTRY                                        object\n",
       "YEAR                                            category\n",
       "SURVEY_ID                                         object\n",
       "ID_HH                                             object\n",
       "Country                                           object\n",
       "HHsizemembers                                      int64\n",
       "HHsizeMAE                                        float64\n",
       "HouseholdType                                     object\n",
       "Head_EducationLevel                               object\n",
       "LandOwned                                        float64\n",
       "LandCultivated                                   float64\n",
       "LivestockHoldings                                float64\n",
       "NrofMonthsFoodInsecure                             int64\n",
       "PPI_Threshold                                    float64\n",
       "PPI_Likelihood                                   float64\n",
       "HFIAS_status                                      object\n",
       "score_HDDS_GoodSeason                              int64\n",
       "score_HDDS_farmbasedGoodSeason                     int64\n",
       "score_HDDS_purchasedGoodSeason                     int64\n",
       "score_HDDS_BadSeason                               int64\n",
       "score_HDDS_farmbasedBadSeason                      int64\n",
       "score_HDDS_purchasedBadSeason                      int64\n",
       "TVA_USD_PPP_pmae_pday                            float64\n",
       "total_income_USD_PPP_pHH_Yr                      float64\n",
       "offfarm_income_USD_PPP_pHH_Yr                    float64\n",
       "farm_income_USD_PPP_pHH_Yr                       float64\n",
       "value_farm_produce_USD_PPP_pHH_Yr                float64\n",
       "crop_sales_USD_PPP_pHH_Yr                        float64\n",
       "value_crop_produce_USD_PPP_pHH_Yr                float64\n",
       "value_crop_consumed_USD_PPP_pHH_Yr               float64\n",
       "livestock_prodsales_USD_PPP_pHH_Yr               float64\n",
       "value_livestock_production_USD_PPP_pHH_Yr        float64\n",
       "value_livestock_prod_consumed_USD_PPP_pHH_Yr     float64\n",
       "Market_Orientation                               float64\n",
       "Livestock_Orientation                            float64\n",
       "Food_Availability_kCal_MAE_day                   float64\n",
       "Food_Self_Sufficiency_kCal_MAE_day               float64\n",
       "NrofMonthsWildFoodCons                             int64\n",
       "Gender_MaleControl                               float64\n",
       "Gender_FemaleControl                             float64\n",
       "continent                                         object\n",
       "dtype: object"
      ]
     },
     "execution_count": 27,
     "metadata": {},
     "output_type": "execute_result"
    }
   ],
   "source": [
    "bigData.dtypes"
   ]
  },
  {
   "cell_type": "code",
   "execution_count": null,
   "metadata": {},
   "outputs": [],
   "source": []
  },
  {
   "cell_type": "code",
   "execution_count": null,
   "metadata": {},
   "outputs": [],
   "source": []
  },
  {
   "cell_type": "code",
   "execution_count": 28,
   "metadata": {},
   "outputs": [
    {
     "ename": "FileNotFoundError",
     "evalue": "[Errno 2] No such file or directory: 'data/clean.csv'",
     "output_type": "error",
     "traceback": [
      "\u001b[0;31m---------------------------------------------------------------------------\u001b[0m",
      "\u001b[0;31mFileNotFoundError\u001b[0m                         Traceback (most recent call last)",
      "\u001b[0;32m<ipython-input-28-01aa3b36f5de>\u001b[0m in \u001b[0;36m<module>\u001b[0;34m\u001b[0m\n\u001b[1;32m      1\u001b[0m \u001b[0;31m# Write to CSV: only needs to be run once.\u001b[0m\u001b[0;34m\u001b[0m\u001b[0;34m\u001b[0m\u001b[0;34m\u001b[0m\u001b[0m\n\u001b[0;32m----> 2\u001b[0;31m \u001b[0mbigData\u001b[0m\u001b[0;34m.\u001b[0m\u001b[0mto_csv\u001b[0m\u001b[0;34m(\u001b[0m\u001b[0;34m\"data/clean.csv\"\u001b[0m\u001b[0;34m,\u001b[0m \u001b[0mencoding\u001b[0m\u001b[0;34m=\u001b[0m\u001b[0;34m'utf-8'\u001b[0m\u001b[0;34m,\u001b[0m \u001b[0mindex\u001b[0m\u001b[0;34m=\u001b[0m\u001b[0;32mFalse\u001b[0m\u001b[0;34m)\u001b[0m\u001b[0;34m\u001b[0m\u001b[0;34m\u001b[0m\u001b[0m\n\u001b[0m",
      "\u001b[0;32m/opt/anaconda3/lib/python3.7/site-packages/pandas/core/generic.py\u001b[0m in \u001b[0;36mto_csv\u001b[0;34m(self, path_or_buf, sep, na_rep, float_format, columns, header, index, index_label, mode, encoding, compression, quoting, quotechar, line_terminator, chunksize, date_format, doublequote, escapechar, decimal)\u001b[0m\n\u001b[1;32m   3202\u001b[0m             \u001b[0mdecimal\u001b[0m\u001b[0;34m=\u001b[0m\u001b[0mdecimal\u001b[0m\u001b[0;34m,\u001b[0m\u001b[0;34m\u001b[0m\u001b[0;34m\u001b[0m\u001b[0m\n\u001b[1;32m   3203\u001b[0m         )\n\u001b[0;32m-> 3204\u001b[0;31m         \u001b[0mformatter\u001b[0m\u001b[0;34m.\u001b[0m\u001b[0msave\u001b[0m\u001b[0;34m(\u001b[0m\u001b[0;34m)\u001b[0m\u001b[0;34m\u001b[0m\u001b[0;34m\u001b[0m\u001b[0m\n\u001b[0m\u001b[1;32m   3205\u001b[0m \u001b[0;34m\u001b[0m\u001b[0m\n\u001b[1;32m   3206\u001b[0m         \u001b[0;32mif\u001b[0m \u001b[0mpath_or_buf\u001b[0m \u001b[0;32mis\u001b[0m \u001b[0;32mNone\u001b[0m\u001b[0;34m:\u001b[0m\u001b[0;34m\u001b[0m\u001b[0;34m\u001b[0m\u001b[0m\n",
      "\u001b[0;32m/opt/anaconda3/lib/python3.7/site-packages/pandas/io/formats/csvs.py\u001b[0m in \u001b[0;36msave\u001b[0;34m(self)\u001b[0m\n\u001b[1;32m    186\u001b[0m                 \u001b[0mself\u001b[0m\u001b[0;34m.\u001b[0m\u001b[0mmode\u001b[0m\u001b[0;34m,\u001b[0m\u001b[0;34m\u001b[0m\u001b[0;34m\u001b[0m\u001b[0m\n\u001b[1;32m    187\u001b[0m                 \u001b[0mencoding\u001b[0m\u001b[0;34m=\u001b[0m\u001b[0mself\u001b[0m\u001b[0;34m.\u001b[0m\u001b[0mencoding\u001b[0m\u001b[0;34m,\u001b[0m\u001b[0;34m\u001b[0m\u001b[0;34m\u001b[0m\u001b[0m\n\u001b[0;32m--> 188\u001b[0;31m                 \u001b[0mcompression\u001b[0m\u001b[0;34m=\u001b[0m\u001b[0mdict\u001b[0m\u001b[0;34m(\u001b[0m\u001b[0mself\u001b[0m\u001b[0;34m.\u001b[0m\u001b[0mcompression_args\u001b[0m\u001b[0;34m,\u001b[0m \u001b[0mmethod\u001b[0m\u001b[0;34m=\u001b[0m\u001b[0mself\u001b[0m\u001b[0;34m.\u001b[0m\u001b[0mcompression\u001b[0m\u001b[0;34m)\u001b[0m\u001b[0;34m,\u001b[0m\u001b[0;34m\u001b[0m\u001b[0;34m\u001b[0m\u001b[0m\n\u001b[0m\u001b[1;32m    189\u001b[0m             )\n\u001b[1;32m    190\u001b[0m             \u001b[0mclose\u001b[0m \u001b[0;34m=\u001b[0m \u001b[0;32mTrue\u001b[0m\u001b[0;34m\u001b[0m\u001b[0;34m\u001b[0m\u001b[0m\n",
      "\u001b[0;32m/opt/anaconda3/lib/python3.7/site-packages/pandas/io/common.py\u001b[0m in \u001b[0;36mget_handle\u001b[0;34m(path_or_buf, mode, encoding, compression, memory_map, is_text)\u001b[0m\n\u001b[1;32m    426\u001b[0m         \u001b[0;32mif\u001b[0m \u001b[0mencoding\u001b[0m\u001b[0;34m:\u001b[0m\u001b[0;34m\u001b[0m\u001b[0;34m\u001b[0m\u001b[0m\n\u001b[1;32m    427\u001b[0m             \u001b[0;31m# Encoding\u001b[0m\u001b[0;34m\u001b[0m\u001b[0;34m\u001b[0m\u001b[0;34m\u001b[0m\u001b[0m\n\u001b[0;32m--> 428\u001b[0;31m             \u001b[0mf\u001b[0m \u001b[0;34m=\u001b[0m \u001b[0mopen\u001b[0m\u001b[0;34m(\u001b[0m\u001b[0mpath_or_buf\u001b[0m\u001b[0;34m,\u001b[0m \u001b[0mmode\u001b[0m\u001b[0;34m,\u001b[0m \u001b[0mencoding\u001b[0m\u001b[0;34m=\u001b[0m\u001b[0mencoding\u001b[0m\u001b[0;34m,\u001b[0m \u001b[0mnewline\u001b[0m\u001b[0;34m=\u001b[0m\u001b[0;34m\"\"\u001b[0m\u001b[0;34m)\u001b[0m\u001b[0;34m\u001b[0m\u001b[0;34m\u001b[0m\u001b[0m\n\u001b[0m\u001b[1;32m    429\u001b[0m         \u001b[0;32melif\u001b[0m \u001b[0mis_text\u001b[0m\u001b[0;34m:\u001b[0m\u001b[0;34m\u001b[0m\u001b[0;34m\u001b[0m\u001b[0m\n\u001b[1;32m    430\u001b[0m             \u001b[0;31m# No explicit encoding\u001b[0m\u001b[0;34m\u001b[0m\u001b[0;34m\u001b[0m\u001b[0;34m\u001b[0m\u001b[0m\n",
      "\u001b[0;31mFileNotFoundError\u001b[0m: [Errno 2] No such file or directory: 'data/clean.csv'"
     ]
    }
   ],
   "source": [
    "# Write to CSV: only needs to be run once.\n",
    "bigData.to_csv(\"data/clean.csv\", encoding='utf-8', index=False)"
   ]
  },
  {
   "cell_type": "code",
   "execution_count": null,
   "metadata": {},
   "outputs": [],
   "source": []
  },
  {
   "cell_type": "code",
   "execution_count": null,
   "metadata": {},
   "outputs": [],
   "source": []
  }
 ],
 "metadata": {
  "kernelspec": {
   "display_name": "Python 3",
   "language": "python",
   "name": "python3"
  },
  "language_info": {
   "codemirror_mode": {
    "name": "ipython",
    "version": 3
   },
   "file_extension": ".py",
   "mimetype": "text/x-python",
   "name": "python",
   "nbconvert_exporter": "python",
   "pygments_lexer": "ipython3",
   "version": "3.7.6"
  }
 },
 "nbformat": 4,
 "nbformat_minor": 4
}
