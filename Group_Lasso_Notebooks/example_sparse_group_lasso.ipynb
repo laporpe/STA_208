{
 "cells": [
  {
   "cell_type": "code",
   "execution_count": 1,
   "metadata": {},
   "outputs": [],
   "source": [
    "%matplotlib inline"
   ]
  },
  {
   "cell_type": "markdown",
   "metadata": {},
   "source": [
    "\n",
    "GroupLasso for linear regression with dummy variables\n",
    "=====================================================\n",
    "\n",
    "A sample script for group lasso with dummy variables\n"
   ]
  },
  {
   "cell_type": "markdown",
   "metadata": {},
   "source": [
    "Setup\n",
    "-----\n",
    "\n"
   ]
  },
  {
   "cell_type": "code",
   "execution_count": 2,
   "metadata": {},
   "outputs": [],
   "source": [
    "import matplotlib.pyplot as plt\n",
    "import numpy as np\n",
    "from sklearn.linear_model import Ridge\n",
    "from sklearn.metrics import r2_score\n",
    "from sklearn.pipeline import Pipeline\n",
    "from sklearn.preprocessing import OneHotEncoder\n",
    "\n",
    "from group_lasso import GroupLasso\n",
    "from group_lasso.utils import extract_ohe_groups\n",
    "\n",
    "np.random.seed(42)\n",
    "GroupLasso.LOG_LOSSES = True"
   ]
  },
  {
   "cell_type": "markdown",
   "metadata": {},
   "source": [
    "Set dataset parameters\n",
    "----------------------\n",
    "\n"
   ]
  },
  {
   "cell_type": "code",
   "execution_count": 3,
   "metadata": {},
   "outputs": [],
   "source": [
    "num_categories = 30\n",
    "min_options = 2\n",
    "max_options = 10\n",
    "num_datapoints = 10000\n",
    "noise_std = 1"
   ]
  },
  {
   "cell_type": "markdown",
   "metadata": {},
   "source": [
    "Generate data matrix\n",
    "--------------------\n",
    "\n"
   ]
  },
  {
   "cell_type": "code",
   "execution_count": 4,
   "metadata": {},
   "outputs": [],
   "source": [
    "X_cat = np.empty((num_datapoints, num_categories))\n",
    "for i in range(num_categories):\n",
    "    X_cat[:, i] = np.random.randint(min_options, max_options, num_datapoints)\n",
    "\n",
    "ohe = OneHotEncoder()\n",
    "X = ohe.fit_transform(X_cat)\n",
    "groups = extract_ohe_groups(ohe)\n",
    "group_sizes = [np.sum(groups == g) for g in np.unique(groups)]\n",
    "active_groups = [np.random.randint(0, 2) for _ in np.unique(groups)]"
   ]
  },
  {
   "cell_type": "markdown",
   "metadata": {},
   "source": [
    "Generate coefficients\n",
    "---------------------\n",
    "\n"
   ]
  },
  {
   "cell_type": "code",
   "execution_count": 5,
   "metadata": {},
   "outputs": [],
   "source": [
    "w = np.concatenate(\n",
    "    [\n",
    "        np.random.standard_normal(group_size) * is_active\n",
    "        for group_size, is_active in zip(group_sizes, active_groups)\n",
    "    ]\n",
    ")\n",
    "w = w.reshape(-1, 1)\n",
    "true_coefficient_mask = w != 0\n",
    "intercept = 2"
   ]
  },
  {
   "cell_type": "markdown",
   "metadata": {},
   "source": [
    "Generate regression targets\n",
    "---------------------------\n",
    "\n"
   ]
  },
  {
   "cell_type": "code",
   "execution_count": 6,
   "metadata": {},
   "outputs": [],
   "source": [
    "y_true = X @ w + intercept\n",
    "y = y_true + np.random.randn(*y_true.shape) * noise_std"
   ]
  },
  {
   "cell_type": "markdown",
   "metadata": {},
   "source": [
    "View noisy data and compute maximum R^2\n",
    "---------------------------------------\n",
    "\n"
   ]
  },
  {
   "cell_type": "code",
   "execution_count": 7,
   "metadata": {
    "scrolled": true
   },
   "outputs": [
    {
     "data": {
      "image/png": "[encoded data removed]",
      "text/plain": [
       "<Figure size 432x288 with 1 Axes>"
      ]
     },
     "metadata": {
      "needs_background": "light"
     },
     "output_type": "display_data"
    }
   ],
   "source": [
    "plt.figure()\n",
    "plt.plot(y, y_true, \".\")\n",
    "plt.xlabel(\"Noisy targets\")\n",
    "plt.ylabel(\"Noise-free targets\")\n",
    "# Use noisy y as true because that is what we would have access\n",
    "# to in a real-life setting.\n",
    "R2_best = r2_score(y, y_true)"
   ]
  },
  {
   "cell_type": "markdown",
   "metadata": {},
   "source": [
    "Generate pipeline and train it\n",
    "------------------------------\n",
    "\n"
   ]
  },
  {
   "cell_type": "code",
   "execution_count": 8,
   "metadata": {},
   "outputs": [
    {
     "data": {
      "text/plain": [
       "Pipeline(memory=None,\n",
       "         steps=[('variable_selection',\n",
       "                 GroupLasso(fit_intercept=True, frobenius_lipschitz=False,\n",
       "                            group_reg=0.1,\n",
       "                            groups=array([ 0.,  0.,  0.,  0.,  0.,  0.,  0.,  0.,  1.,  1.,  1.,  1.,  1.,\n",
       "        1.,  1.,  1.,  2.,  2.,  2.,  2.,  2.,  2.,  2.,  2.,  3.,  3.,\n",
       "        3.,  3.,  3.,  3.,  3.,  3.,  4.,  4.,  4.,  4.,  4.,  4.,  4.,\n",
       "        4.,  5.,  5.,  5.,  5.,  5.,  5.,  5.,  5.,  6.,  6.,  6.,  6.,\n",
       "        6.,  6.,  6.,  6.,  7.,  7.,  7.,  7.,  7.,  7.,  7.,  7.,  8.,\n",
       "        8.,  8.,  8.,  8.,  8.,  8.,  8.,...\n",
       "       27., 27., 27., 28., 28., 28., 28., 28., 28., 28., 28., 29., 29.,\n",
       "       29., 29., 29., 29., 29., 29.]),\n",
       "                            l1_reg=0, n_iter=100000, old_regularisation=False,\n",
       "                            random_state=None, scale_reg=None,\n",
       "                            subsampling_scheme=None, supress_warning=True,\n",
       "                            tol=1e-05, warm_start=False)),\n",
       "                ('regressor',\n",
       "                 Ridge(alpha=1, copy_X=True, fit_intercept=True, max_iter=None,\n",
       "                       normalize=False, random_state=None, solver='auto',\n",
       "                       tol=0.001))],\n",
       "         verbose=False)"
      ]
     },
     "execution_count": 8,
     "metadata": {},
     "output_type": "execute_result"
    }
   ],
   "source": [
    "pipe = pipe = Pipeline(\n",
    "    memory=None,\n",
    "    steps=[\n",
    "        (\n",
    "            \"variable_selection\",\n",
    "            GroupLasso(\n",
    "                groups=groups,\n",
    "                group_reg=0.1,\n",
    "                l1_reg=0,\n",
    "                scale_reg=None,\n",
    "                supress_warning=True,\n",
    "                n_iter=100000,\n",
    "                frobenius_lipschitz=False,\n",
    "            ),\n",
    "        ),\n",
    "        (\"regressor\", Ridge(alpha=1)),\n",
    "    ],\n",
    ")\n",
    "pipe.fit(X, y)"
   ]
  },
  {
   "cell_type": "markdown",
   "metadata": {},
   "source": [
    "Extract results and compute performance metrics\n",
    "-----------------------------------------------\n",
    "\n"
   ]
  },
  {
   "cell_type": "code",
   "execution_count": 9,
   "metadata": {},
   "outputs": [
    {
     "name": "stdout",
     "output_type": "stream",
     "text": [
      "Number variables: 240\n",
      "Number of chosen variables: 144\n",
      "R^2: 0.9278329616431523, best possible R^2 = 0.9394648554757948\n"
     ]
    }
   ],
   "source": [
    "# Extract from pipeline\n",
    "yhat = pipe.predict(X)\n",
    "sparsity_mask = pipe[\"variable_selection\"].sparsity_mask_\n",
    "coef = pipe[\"regressor\"].coef_.T\n",
    "\n",
    "# Construct full coefficient vector\n",
    "w_hat = np.zeros_like(w)\n",
    "w_hat[sparsity_mask] = coef\n",
    "\n",
    "R2 = r2_score(y, yhat)\n",
    "\n",
    "# Print performance metrics\n",
    "print(f\"Number variables: {len(sparsity_mask)}\")\n",
    "print(f\"Number of chosen variables: {sparsity_mask.sum()}\")\n",
    "print(f\"R^2: {R2}, best possible R^2 = {R2_best}\")"
   ]
  },
  {
   "cell_type": "markdown",
   "metadata": {},
   "source": [
    "Visualise regression coefficients\n",
    "---------------------------------\n",
    "\n"
   ]
  },
  {
   "cell_type": "code",
   "execution_count": 10,
   "metadata": {},
   "outputs": [
    {
     "data": {
      "image/png": "[encoded data removed]",
      "text/plain": [
       "<Figure size 432x288 with 1 Axes>"
      ]
     },
     "metadata": {
      "needs_background": "light"
     },
     "output_type": "display_data"
    },
    {
     "data": {
      "image/png": "[encoded data removed]",
      "text/plain": [
       "<Figure size 432x288 with 1 Axes>"
      ]
     },
     "metadata": {
      "needs_background": "light"
     },
     "output_type": "display_data"
    }
   ],
   "source": [
    "for i in range(w.shape[1]):\n",
    "    plt.figure()\n",
    "    plt.plot(w[:, i], \".\", label=\"True weights\")\n",
    "    plt.plot(w_hat[:, i], \".\", label=\"Estimated weights\")\n",
    "\n",
    "plt.figure()\n",
    "plt.plot([w.min(), w.max()], [coef.min(), coef.max()], \"gray\")\n",
    "plt.scatter(w, w_hat, s=10)\n",
    "plt.ylabel(\"Learned coefficients\")\n",
    "plt.xlabel(\"True coefficients\")\n",
    "plt.show()"
   ]
  }
 ],
 "metadata": {
  "kernelspec": {
   "display_name": "Python 3",
   "language": "python",
   "name": "python3"
  },
  "language_info": {
   "codemirror_mode": {
    "name": "ipython",
    "version": 3
   },
   "file_extension": ".py",
   "mimetype": "text/x-python",
   "name": "python",
   "nbconvert_exporter": "python",
   "pygments_lexer": "ipython3",
   "version": "3.6.10"
  }
 },
 "nbformat": 4,
 "nbformat_minor": 1
}
